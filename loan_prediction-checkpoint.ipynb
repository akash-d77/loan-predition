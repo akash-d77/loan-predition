{
 "cells": [
  {
   "cell_type": "markdown",
   "id": "b070f0b1",
   "metadata": {},
   "source": [
    "#  step 1:-  import libaries"
   ]
  },
  {
   "cell_type": "code",
   "execution_count": 2,
   "id": "afb090b2",
   "metadata": {},
   "outputs": [],
   "source": [
    "import numpy as np\n",
    "import pandas as pd\n",
    "import seaborn as sns\n",
    "import matplotlib as plt\n",
    "\n",
    "from sklearn.preprocessing import LabelEncoder,OneHotEncoder,OrdinalEncoder\n",
    "from scipy.stats import boxcox\n",
    "from statsmodels.stats.outliers_influence import variance_inflation_factor\n",
    "\n",
    "from sklearn.model_selection import train_test_split\n",
    "from sklearn.preprocessing import MinMaxScaler,StandardScaler\n",
    "from sklearn.model_selection import GridSearchCV,RandomizedSearchCV\n",
    "from sklearn.metrics import confusion_matrix,classification_report,accuracy_score,roc_curve\n",
    "\n",
    "from sklearn.neighbors import KNeighborsClassifier\n",
    "from sklearn.linear_model import LogisticRegression\n",
    "from sklearn.tree import DecisionTreeClassifier,plot_tree\n",
    "\n",
    "import pickle\n",
    "import json\n",
    "\n",
    "import warnings\n",
    "warnings.filterwarnings(\"ignore\")"
   ]
  },
  {
   "cell_type": "markdown",
   "id": "47588bc4",
   "metadata": {},
   "source": [
    "### 1.1 :- data gatharing"
   ]
  },
  {
   "cell_type": "code",
   "execution_count": 3,
   "id": "ccc27528",
   "metadata": {},
   "outputs": [
    {
     "data": {
      "text/html": [
       "<div>\n",
       "<style scoped>\n",
       "    .dataframe tbody tr th:only-of-type {\n",
       "        vertical-align: middle;\n",
       "    }\n",
       "\n",
       "    .dataframe tbody tr th {\n",
       "        vertical-align: top;\n",
       "    }\n",
       "\n",
       "    .dataframe thead th {\n",
       "        text-align: right;\n",
       "    }\n",
       "</style>\n",
       "<table border=\"1\" class=\"dataframe\">\n",
       "  <thead>\n",
       "    <tr style=\"text-align: right;\">\n",
       "      <th></th>\n",
       "      <th>loan_amnt</th>\n",
       "      <th>term</th>\n",
       "      <th>int_rate</th>\n",
       "      <th>emp_length</th>\n",
       "      <th>home_ownership</th>\n",
       "      <th>annual_inc</th>\n",
       "      <th>purpose</th>\n",
       "      <th>addr_state</th>\n",
       "      <th>dti</th>\n",
       "      <th>delinq_2yrs</th>\n",
       "      <th>revol_util</th>\n",
       "      <th>total_acc</th>\n",
       "      <th>bad_loan</th>\n",
       "      <th>longest_credit_length</th>\n",
       "      <th>verification_status</th>\n",
       "    </tr>\n",
       "  </thead>\n",
       "  <tbody>\n",
       "    <tr>\n",
       "      <th>0</th>\n",
       "      <td>5000</td>\n",
       "      <td>36 months</td>\n",
       "      <td>10.65</td>\n",
       "      <td>10.0</td>\n",
       "      <td>RENT</td>\n",
       "      <td>24000.0</td>\n",
       "      <td>credit_card</td>\n",
       "      <td>AZ</td>\n",
       "      <td>27.65</td>\n",
       "      <td>0.0</td>\n",
       "      <td>83.7</td>\n",
       "      <td>9.0</td>\n",
       "      <td>0</td>\n",
       "      <td>26.0</td>\n",
       "      <td>verified</td>\n",
       "    </tr>\n",
       "    <tr>\n",
       "      <th>1</th>\n",
       "      <td>2500</td>\n",
       "      <td>60 months</td>\n",
       "      <td>15.27</td>\n",
       "      <td>0.0</td>\n",
       "      <td>RENT</td>\n",
       "      <td>30000.0</td>\n",
       "      <td>car</td>\n",
       "      <td>GA</td>\n",
       "      <td>1.00</td>\n",
       "      <td>0.0</td>\n",
       "      <td>9.4</td>\n",
       "      <td>4.0</td>\n",
       "      <td>1</td>\n",
       "      <td>12.0</td>\n",
       "      <td>verified</td>\n",
       "    </tr>\n",
       "    <tr>\n",
       "      <th>2</th>\n",
       "      <td>2400</td>\n",
       "      <td>36 months</td>\n",
       "      <td>15.96</td>\n",
       "      <td>10.0</td>\n",
       "      <td>RENT</td>\n",
       "      <td>12252.0</td>\n",
       "      <td>small_business</td>\n",
       "      <td>IL</td>\n",
       "      <td>8.72</td>\n",
       "      <td>0.0</td>\n",
       "      <td>98.5</td>\n",
       "      <td>10.0</td>\n",
       "      <td>0</td>\n",
       "      <td>10.0</td>\n",
       "      <td>not verified</td>\n",
       "    </tr>\n",
       "    <tr>\n",
       "      <th>3</th>\n",
       "      <td>10000</td>\n",
       "      <td>36 months</td>\n",
       "      <td>13.49</td>\n",
       "      <td>10.0</td>\n",
       "      <td>RENT</td>\n",
       "      <td>49200.0</td>\n",
       "      <td>other</td>\n",
       "      <td>CA</td>\n",
       "      <td>20.00</td>\n",
       "      <td>0.0</td>\n",
       "      <td>21.0</td>\n",
       "      <td>37.0</td>\n",
       "      <td>0</td>\n",
       "      <td>15.0</td>\n",
       "      <td>verified</td>\n",
       "    </tr>\n",
       "    <tr>\n",
       "      <th>4</th>\n",
       "      <td>5000</td>\n",
       "      <td>36 months</td>\n",
       "      <td>7.90</td>\n",
       "      <td>3.0</td>\n",
       "      <td>RENT</td>\n",
       "      <td>36000.0</td>\n",
       "      <td>wedding</td>\n",
       "      <td>AZ</td>\n",
       "      <td>11.20</td>\n",
       "      <td>0.0</td>\n",
       "      <td>28.3</td>\n",
       "      <td>12.0</td>\n",
       "      <td>0</td>\n",
       "      <td>7.0</td>\n",
       "      <td>verified</td>\n",
       "    </tr>\n",
       "  </tbody>\n",
       "</table>\n",
       "</div>"
      ],
      "text/plain": [
       "   loan_amnt       term  int_rate  emp_length home_ownership  annual_inc  \\\n",
       "0       5000  36 months     10.65        10.0           RENT     24000.0   \n",
       "1       2500  60 months     15.27         0.0           RENT     30000.0   \n",
       "2       2400  36 months     15.96        10.0           RENT     12252.0   \n",
       "3      10000  36 months     13.49        10.0           RENT     49200.0   \n",
       "4       5000  36 months      7.90         3.0           RENT     36000.0   \n",
       "\n",
       "          purpose addr_state    dti  delinq_2yrs  revol_util  total_acc  \\\n",
       "0     credit_card         AZ  27.65          0.0        83.7        9.0   \n",
       "1             car         GA   1.00          0.0         9.4        4.0   \n",
       "2  small_business         IL   8.72          0.0        98.5       10.0   \n",
       "3           other         CA  20.00          0.0        21.0       37.0   \n",
       "4         wedding         AZ  11.20          0.0        28.3       12.0   \n",
       "\n",
       "   bad_loan  longest_credit_length verification_status  \n",
       "0         0                   26.0            verified  \n",
       "1         1                   12.0            verified  \n",
       "2         0                   10.0        not verified  \n",
       "3         0                   15.0            verified  \n",
       "4         0                    7.0            verified  "
      ]
     },
     "execution_count": 3,
     "metadata": {},
     "output_type": "execute_result"
    }
   ],
   "source": [
    "df= pd.read_csv(\"loan.csv\")\n",
    "df.head()"
   ]
  },
  {
   "cell_type": "markdown",
   "id": "c6646dc7",
   "metadata": {},
   "source": [
    "### 2.EDA"
   ]
  },
  {
   "cell_type": "code",
   "execution_count": 4,
   "id": "6e1e7c5b",
   "metadata": {},
   "outputs": [
    {
     "name": "stdout",
     "output_type": "stream",
     "text": [
      "<class 'pandas.core.frame.DataFrame'>\n",
      "RangeIndex: 163987 entries, 0 to 163986\n",
      "Data columns (total 15 columns):\n",
      " #   Column                 Non-Null Count   Dtype  \n",
      "---  ------                 --------------   -----  \n",
      " 0   loan_amnt              163987 non-null  int64  \n",
      " 1   term                   163987 non-null  object \n",
      " 2   int_rate               163987 non-null  float64\n",
      " 3   emp_length             158183 non-null  float64\n",
      " 4   home_ownership         163987 non-null  object \n",
      " 5   annual_inc             163983 non-null  float64\n",
      " 6   purpose                163987 non-null  object \n",
      " 7   addr_state             163987 non-null  object \n",
      " 8   dti                    163987 non-null  float64\n",
      " 9   delinq_2yrs            163958 non-null  float64\n",
      " 10  revol_util             163794 non-null  float64\n",
      " 11  total_acc              163958 non-null  float64\n",
      " 12  bad_loan               163987 non-null  int64  \n",
      " 13  longest_credit_length  163958 non-null  float64\n",
      " 14  verification_status    163987 non-null  object \n",
      "dtypes: float64(8), int64(2), object(5)\n",
      "memory usage: 18.8+ MB\n"
     ]
    }
   ],
   "source": [
    "df.info()"
   ]
  },
  {
   "cell_type": "code",
   "execution_count": 5,
   "id": "17658ea5",
   "metadata": {},
   "outputs": [
    {
     "data": {
      "text/plain": [
       "Index(['loan_amnt', 'term', 'int_rate', 'emp_length', 'home_ownership',\n",
       "       'annual_inc', 'purpose', 'addr_state', 'dti', 'delinq_2yrs',\n",
       "       'revol_util', 'total_acc', 'bad_loan', 'longest_credit_length',\n",
       "       'verification_status'],\n",
       "      dtype='object')"
      ]
     },
     "execution_count": 5,
     "metadata": {},
     "output_type": "execute_result"
    }
   ],
   "source": [
    "df.columns"
   ]
  },
  {
   "cell_type": "markdown",
   "id": "2aae620b",
   "metadata": {},
   "source": [
    "### 2.1checking unique values of object columns:-"
   ]
  },
  {
   "cell_type": "code",
   "execution_count": 6,
   "id": "211ce3b6",
   "metadata": {},
   "outputs": [
    {
     "data": {
      "text/plain": [
       "array(['credit_card', 'car', 'small_business', 'other', 'wedding',\n",
       "       'debt_consolidation', 'home_improvement', 'major_purchase',\n",
       "       'medical', 'moving', 'vacation', 'house', 'renewable_energy',\n",
       "       'educational'], dtype=object)"
      ]
     },
     "execution_count": 6,
     "metadata": {},
     "output_type": "execute_result"
    }
   ],
   "source": [
    "df[\"purpose\"].unique()"
   ]
  },
  {
   "cell_type": "code",
   "execution_count": 7,
   "id": "4cd6d2c7",
   "metadata": {},
   "outputs": [
    {
     "data": {
      "text/plain": [
       "array(['36 months', '60 months'], dtype=object)"
      ]
     },
     "execution_count": 7,
     "metadata": {},
     "output_type": "execute_result"
    }
   ],
   "source": [
    "df[\"term\"].unique()"
   ]
  },
  {
   "cell_type": "code",
   "execution_count": 8,
   "id": "c41557d0",
   "metadata": {},
   "outputs": [
    {
     "data": {
      "text/plain": [
       "array(['AZ', 'GA', 'IL', 'CA', 'TX', 'VA', 'MO', 'CT', 'UT', 'FL', 'NY',\n",
       "       'PA', 'MN', 'NJ', 'OR', 'KY', 'OH', 'SC', 'RI', 'LA', 'MA', 'WA',\n",
       "       'WI', 'AL', 'NV', 'CO', 'MD', 'WV', 'VT', 'MI', 'DC', 'SD', 'NC',\n",
       "       'AR', 'KS', 'NM', 'HI', 'AK', 'OK', 'MT', 'WY', 'NH', 'DE', 'MS',\n",
       "       'TN', 'IA', 'NE', 'ID', 'IN', 'ME'], dtype=object)"
      ]
     },
     "execution_count": 8,
     "metadata": {},
     "output_type": "execute_result"
    }
   ],
   "source": [
    "df[\"addr_state\"].unique()"
   ]
  },
  {
   "cell_type": "code",
   "execution_count": 9,
   "id": "3e221ca6",
   "metadata": {},
   "outputs": [
    {
     "data": {
      "text/plain": [
       "array(['RENT', 'OWN', 'MORTGAGE', 'OTHER', 'NONE', 'ANY'], dtype=object)"
      ]
     },
     "execution_count": 9,
     "metadata": {},
     "output_type": "execute_result"
    }
   ],
   "source": [
    "df[\"home_ownership\"].unique()\n"
   ]
  },
  {
   "cell_type": "code",
   "execution_count": 10,
   "id": "c3b2f2e4",
   "metadata": {},
   "outputs": [
    {
     "data": {
      "text/plain": [
       "(163987, 15)"
      ]
     },
     "execution_count": 10,
     "metadata": {},
     "output_type": "execute_result"
    }
   ],
   "source": [
    "df.shape"
   ]
  },
  {
   "cell_type": "code",
   "execution_count": 11,
   "id": "e31a2a08",
   "metadata": {},
   "outputs": [
    {
     "data": {
      "text/html": [
       "<div>\n",
       "<style scoped>\n",
       "    .dataframe tbody tr th:only-of-type {\n",
       "        vertical-align: middle;\n",
       "    }\n",
       "\n",
       "    .dataframe tbody tr th {\n",
       "        vertical-align: top;\n",
       "    }\n",
       "\n",
       "    .dataframe thead th {\n",
       "        text-align: right;\n",
       "    }\n",
       "</style>\n",
       "<table border=\"1\" class=\"dataframe\">\n",
       "  <thead>\n",
       "    <tr style=\"text-align: right;\">\n",
       "      <th></th>\n",
       "      <th>loan_amnt</th>\n",
       "      <th>int_rate</th>\n",
       "      <th>emp_length</th>\n",
       "      <th>annual_inc</th>\n",
       "      <th>dti</th>\n",
       "      <th>delinq_2yrs</th>\n",
       "      <th>revol_util</th>\n",
       "      <th>total_acc</th>\n",
       "      <th>bad_loan</th>\n",
       "      <th>longest_credit_length</th>\n",
       "    </tr>\n",
       "  </thead>\n",
       "  <tbody>\n",
       "    <tr>\n",
       "      <th>count</th>\n",
       "      <td>163987.000000</td>\n",
       "      <td>163987.000000</td>\n",
       "      <td>158183.000000</td>\n",
       "      <td>1.639830e+05</td>\n",
       "      <td>163987.000000</td>\n",
       "      <td>163958.000000</td>\n",
       "      <td>163794.000000</td>\n",
       "      <td>163958.000000</td>\n",
       "      <td>163987.000000</td>\n",
       "      <td>163958.000000</td>\n",
       "    </tr>\n",
       "    <tr>\n",
       "      <th>mean</th>\n",
       "      <td>13074.169141</td>\n",
       "      <td>13.715904</td>\n",
       "      <td>5.684353</td>\n",
       "      <td>7.191567e+04</td>\n",
       "      <td>15.881530</td>\n",
       "      <td>0.227357</td>\n",
       "      <td>54.079173</td>\n",
       "      <td>24.579734</td>\n",
       "      <td>0.183039</td>\n",
       "      <td>14.854274</td>\n",
       "    </tr>\n",
       "    <tr>\n",
       "      <th>std</th>\n",
       "      <td>7993.556189</td>\n",
       "      <td>4.391940</td>\n",
       "      <td>3.610664</td>\n",
       "      <td>5.907092e+04</td>\n",
       "      <td>7.587668</td>\n",
       "      <td>0.694168</td>\n",
       "      <td>25.285367</td>\n",
       "      <td>11.685190</td>\n",
       "      <td>0.386700</td>\n",
       "      <td>6.947733</td>\n",
       "    </tr>\n",
       "    <tr>\n",
       "      <th>min</th>\n",
       "      <td>500.000000</td>\n",
       "      <td>5.420000</td>\n",
       "      <td>0.000000</td>\n",
       "      <td>1.896000e+03</td>\n",
       "      <td>0.000000</td>\n",
       "      <td>0.000000</td>\n",
       "      <td>0.000000</td>\n",
       "      <td>1.000000</td>\n",
       "      <td>0.000000</td>\n",
       "      <td>0.000000</td>\n",
       "    </tr>\n",
       "    <tr>\n",
       "      <th>25%</th>\n",
       "      <td>7000.000000</td>\n",
       "      <td>10.650000</td>\n",
       "      <td>2.000000</td>\n",
       "      <td>4.500000e+04</td>\n",
       "      <td>10.230000</td>\n",
       "      <td>0.000000</td>\n",
       "      <td>35.600000</td>\n",
       "      <td>16.000000</td>\n",
       "      <td>0.000000</td>\n",
       "      <td>10.000000</td>\n",
       "    </tr>\n",
       "    <tr>\n",
       "      <th>50%</th>\n",
       "      <td>11325.000000</td>\n",
       "      <td>13.490000</td>\n",
       "      <td>6.000000</td>\n",
       "      <td>6.100000e+04</td>\n",
       "      <td>15.620000</td>\n",
       "      <td>0.000000</td>\n",
       "      <td>55.800000</td>\n",
       "      <td>23.000000</td>\n",
       "      <td>0.000000</td>\n",
       "      <td>14.000000</td>\n",
       "    </tr>\n",
       "    <tr>\n",
       "      <th>75%</th>\n",
       "      <td>18000.000000</td>\n",
       "      <td>16.320000</td>\n",
       "      <td>10.000000</td>\n",
       "      <td>8.500000e+04</td>\n",
       "      <td>21.260000</td>\n",
       "      <td>0.000000</td>\n",
       "      <td>74.200000</td>\n",
       "      <td>31.000000</td>\n",
       "      <td>0.000000</td>\n",
       "      <td>18.000000</td>\n",
       "    </tr>\n",
       "    <tr>\n",
       "      <th>max</th>\n",
       "      <td>35000.000000</td>\n",
       "      <td>26.060000</td>\n",
       "      <td>10.000000</td>\n",
       "      <td>7.141778e+06</td>\n",
       "      <td>39.990000</td>\n",
       "      <td>29.000000</td>\n",
       "      <td>150.700000</td>\n",
       "      <td>118.000000</td>\n",
       "      <td>1.000000</td>\n",
       "      <td>65.000000</td>\n",
       "    </tr>\n",
       "  </tbody>\n",
       "</table>\n",
       "</div>"
      ],
      "text/plain": [
       "           loan_amnt       int_rate     emp_length    annual_inc  \\\n",
       "count  163987.000000  163987.000000  158183.000000  1.639830e+05   \n",
       "mean    13074.169141      13.715904       5.684353  7.191567e+04   \n",
       "std      7993.556189       4.391940       3.610664  5.907092e+04   \n",
       "min       500.000000       5.420000       0.000000  1.896000e+03   \n",
       "25%      7000.000000      10.650000       2.000000  4.500000e+04   \n",
       "50%     11325.000000      13.490000       6.000000  6.100000e+04   \n",
       "75%     18000.000000      16.320000      10.000000  8.500000e+04   \n",
       "max     35000.000000      26.060000      10.000000  7.141778e+06   \n",
       "\n",
       "                 dti    delinq_2yrs     revol_util      total_acc  \\\n",
       "count  163987.000000  163958.000000  163794.000000  163958.000000   \n",
       "mean       15.881530       0.227357      54.079173      24.579734   \n",
       "std         7.587668       0.694168      25.285367      11.685190   \n",
       "min         0.000000       0.000000       0.000000       1.000000   \n",
       "25%        10.230000       0.000000      35.600000      16.000000   \n",
       "50%        15.620000       0.000000      55.800000      23.000000   \n",
       "75%        21.260000       0.000000      74.200000      31.000000   \n",
       "max        39.990000      29.000000     150.700000     118.000000   \n",
       "\n",
       "            bad_loan  longest_credit_length  \n",
       "count  163987.000000          163958.000000  \n",
       "mean        0.183039              14.854274  \n",
       "std         0.386700               6.947733  \n",
       "min         0.000000               0.000000  \n",
       "25%         0.000000              10.000000  \n",
       "50%         0.000000              14.000000  \n",
       "75%         0.000000              18.000000  \n",
       "max         1.000000              65.000000  "
      ]
     },
     "execution_count": 11,
     "metadata": {},
     "output_type": "execute_result"
    }
   ],
   "source": [
    "df.describe()"
   ]
  },
  {
   "cell_type": "markdown",
   "id": "e62f6418",
   "metadata": {},
   "source": [
    "### 2.2:-checking for null values:-"
   ]
  },
  {
   "cell_type": "code",
   "execution_count": 12,
   "id": "07c14d30",
   "metadata": {},
   "outputs": [
    {
     "data": {
      "text/plain": [
       "loan_amnt                   0\n",
       "term                        0\n",
       "int_rate                    0\n",
       "emp_length               5804\n",
       "home_ownership              0\n",
       "annual_inc                  4\n",
       "purpose                     0\n",
       "addr_state                  0\n",
       "dti                         0\n",
       "delinq_2yrs                29\n",
       "revol_util                193\n",
       "total_acc                  29\n",
       "bad_loan                    0\n",
       "longest_credit_length      29\n",
       "verification_status         0\n",
       "dtype: int64"
      ]
     },
     "execution_count": 12,
     "metadata": {},
     "output_type": "execute_result"
    }
   ],
   "source": [
    "df.isnull().sum()"
   ]
  },
  {
   "cell_type": "code",
   "execution_count": 13,
   "id": "c218d356",
   "metadata": {},
   "outputs": [
    {
     "data": {
      "text/plain": [
       "array([10.,  0.,  3.,  9.,  4.,  5.,  1.,  6.,  2.,  7.,  8., nan])"
      ]
     },
     "execution_count": 13,
     "metadata": {},
     "output_type": "execute_result"
    }
   ],
   "source": [
    "df[\"emp_length\"].unique()"
   ]
  },
  {
   "cell_type": "code",
   "execution_count": 14,
   "id": "2268d65f",
   "metadata": {},
   "outputs": [
    {
     "name": "stdout",
     "output_type": "stream",
     "text": [
      "10.0    47183\n",
      "2.0     15766\n",
      "0.0     14248\n",
      "3.0     13611\n",
      "5.0     12347\n",
      "1.0     11414\n",
      "4.0     11024\n",
      "6.0     10000\n",
      "7.0      9079\n",
      "8.0      7424\n",
      "9.0      6087\n",
      "Name: emp_length, dtype: int64\n"
     ]
    },
    {
     "data": {
      "text/plain": [
       "<Axes: >"
      ]
     },
     "execution_count": 14,
     "metadata": {},
     "output_type": "execute_result"
    },
    {
     "data": {
      "image/png": "[encoded data removed]",
      "text/plain": [
       "<Figure size 640x480 with 1 Axes>"
      ]
     },
     "metadata": {},
     "output_type": "display_data"
    }
   ],
   "source": [
    "df3= df['emp_length'].value_counts()\n",
    "print(df3)\n",
    "df3.plot(kind='bar')"
   ]
  },
  {
   "cell_type": "code",
   "execution_count": 15,
   "id": "57383cf3",
   "metadata": {},
   "outputs": [],
   "source": [
    "#filling the missing values with median.\n",
    "df['emp_length'] = df['emp_length'].fillna(df['emp_length'].median())"
   ]
  },
  {
   "cell_type": "code",
   "execution_count": 16,
   "id": "231f9832",
   "metadata": {
    "scrolled": false
   },
   "outputs": [
    {
     "name": "stdout",
     "output_type": "stream",
     "text": [
      "MORTGAGE    79714\n",
      "RENT        70526\n",
      "OWN         13560\n",
      "OTHER         156\n",
      "NONE           30\n",
      "ANY             1\n",
      "Name: home_ownership, dtype: int64\n"
     ]
    },
    {
     "data": {
      "text/plain": [
       "<Axes: >"
      ]
     },
     "execution_count": 16,
     "metadata": {},
     "output_type": "execute_result"
    },
    {
     "data": {
      "image/png": "[encoded data removed]",
      "text/plain": [
       "<Figure size 640x480 with 1 Axes>"
      ]
     },
     "metadata": {},
     "output_type": "display_data"
    }
   ],
   "source": [
    "df1=df[\"home_ownership\"].value_counts()\n",
    "print(df1)\n",
    "df1.plot(kind='bar')"
   ]
  },
  {
   "cell_type": "markdown",
   "id": "5befefd0",
   "metadata": {},
   "source": [
    "### so as per the bar we can see that the amount of the mortgage is more the compare to others."
   ]
  },
  {
   "cell_type": "code",
   "execution_count": 17,
   "id": "e15337ff",
   "metadata": {},
   "outputs": [
    {
     "name": "stdout",
     "output_type": "stream",
     "text": [
      "debt_consolidation    93261\n",
      "credit_card           30792\n",
      "other                 10492\n",
      "home_improvement       9872\n",
      "major_purchase         4686\n",
      "small_business         3841\n",
      "car                    2842\n",
      "medical                2029\n",
      "wedding                1751\n",
      "moving                 1464\n",
      "house                  1245\n",
      "vacation               1096\n",
      "educational             418\n",
      "renewable_energy        198\n",
      "Name: purpose, dtype: int64\n"
     ]
    },
    {
     "data": {
      "text/plain": [
       "<Axes: >"
      ]
     },
     "execution_count": 17,
     "metadata": {},
     "output_type": "execute_result"
    },
    {
     "data": {
      "image/png": "[encoded data removed]",
      "text/plain": [
       "<Figure size 640x480 with 1 Axes>"
      ]
     },
     "metadata": {},
     "output_type": "display_data"
    }
   ],
   "source": [
    "df2= df['purpose'].value_counts()\n",
    "print(df2)\n",
    "df2.plot(kind='bar')"
   ]
  },
  {
   "cell_type": "markdown",
   "id": "af41a315",
   "metadata": {},
   "source": [
    "###  so as per the barplot we can see the maximum perpose for loan is for debt consolidation."
   ]
  },
  {
   "cell_type": "markdown",
   "id": "31cf0c09",
   "metadata": {},
   "source": [
    "##### now lets fill  the missing values of \"total_acc\" and \"longest_credit_length\" with the help of mode and median."
   ]
  },
  {
   "cell_type": "code",
   "execution_count": 18,
   "id": "28926518",
   "metadata": {},
   "outputs": [
    {
     "data": {
      "text/plain": [
       "array([  9.,   4.,  10.,  37.,  12.,  13.,   3.,  23.,  34.,  11.,  29.,\n",
       "        28.,  42.,  14.,  38.,  21.,  17.,   7.,  31.,  22.,  44.,  26.,\n",
       "        16.,   6.,  18.,  27.,  25.,  40.,  35.,  24.,   8.,  20.,  15.,\n",
       "        19.,  36.,  51.,  32.,  30.,  33.,  46.,   5.,  61.,  56.,  50.,\n",
       "        41.,  79.,  43.,  47.,  53.,  45.,  60.,  55.,  39.,  52.,  58.,\n",
       "        54.,  57.,  49.,  63.,  48.,  59.,  62.,  77.,  87.,  75.,  72.,\n",
       "        64.,  67.,  78.,  76.,  74.,  66.,  81.,  90.,  80.,  71.,  69.,\n",
       "        73.,  70.,  68.,  65.,   2.,   1.,  nan,  88.,  82.,  91.,  99.,\n",
       "        92.,  85.,  93.,  83.,  84., 118.,  94., 102.,  95.])"
      ]
     },
     "execution_count": 18,
     "metadata": {},
     "output_type": "execute_result"
    }
   ],
   "source": [
    "df[\"total_acc\"].unique()"
   ]
  },
  {
   "cell_type": "code",
   "execution_count": 19,
   "id": "8eccae35",
   "metadata": {},
   "outputs": [],
   "source": [
    "#filling the missing value with mean.\n",
    "df['total_acc'] = df['total_acc'].fillna(df['total_acc'].mean())"
   ]
  },
  {
   "cell_type": "code",
   "execution_count": 20,
   "id": "3e1bb732",
   "metadata": {},
   "outputs": [
    {
     "data": {
      "text/plain": [
       "array([26., 12., 10., 15.,  7.,  4., 13., 22.,  8., 20., 18., 28.,  9.,\n",
       "       27.,  5., 24., 30.,  6., 11., 17., 16., 19., 14., 25., 21., 23.,\n",
       "       31.,  3., 32., 33., 40., 41., 42., 36., 29., 35., 49., 43., 37.,\n",
       "       34., 39., 44., 46., 38., 48., 57., 45., 47., 52., 55., 65., 61.,\n",
       "       50., 56.,  2.,  1.,  0., nan, 51., 53., 54., 58., 59., 60.])"
      ]
     },
     "execution_count": 20,
     "metadata": {},
     "output_type": "execute_result"
    }
   ],
   "source": [
    "df[\"longest_credit_length\"].unique()"
   ]
  },
  {
   "cell_type": "code",
   "execution_count": 21,
   "id": "43cd4566",
   "metadata": {},
   "outputs": [],
   "source": [
    "#filling the missing value with mean.\n",
    "df['longest_credit_length'] = df['longest_credit_length'].fillna(df['longest_credit_length'].mean())"
   ]
  },
  {
   "cell_type": "code",
   "execution_count": 22,
   "id": "17d36350",
   "metadata": {},
   "outputs": [
    {
     "data": {
      "text/plain": [
       "array([ 83.7,   9.4,  98.5, ..., 111.3, 113. , 114.5])"
      ]
     },
     "execution_count": 22,
     "metadata": {},
     "output_type": "execute_result"
    }
   ],
   "source": [
    "df[\"revol_util\"].unique()"
   ]
  },
  {
   "cell_type": "code",
   "execution_count": 23,
   "id": "60180d5c",
   "metadata": {},
   "outputs": [],
   "source": [
    "#filling the missing value with mean.\n",
    "df['revol_util'] = df['revol_util'].fillna(df['revol_util'].mean())"
   ]
  },
  {
   "cell_type": "code",
   "execution_count": 24,
   "id": "7d4e29b1",
   "metadata": {},
   "outputs": [
    {
     "data": {
      "text/plain": [
       "array([24000., 30000., 12252., ..., 60292., 48681., 63078.])"
      ]
     },
     "execution_count": 24,
     "metadata": {},
     "output_type": "execute_result"
    }
   ],
   "source": [
    "df[\"annual_inc\"].unique()"
   ]
  },
  {
   "cell_type": "code",
   "execution_count": 25,
   "id": "efe8e934",
   "metadata": {},
   "outputs": [],
   "source": [
    "df['annual_inc'] = df['annual_inc'].fillna(df['annual_inc'].mean())"
   ]
  },
  {
   "cell_type": "code",
   "execution_count": 26,
   "id": "d6240996",
   "metadata": {},
   "outputs": [
    {
     "data": {
      "text/plain": [
       "array([ 0.,  2.,  3.,  1.,  4.,  6.,  5.,  8.,  7.,  9., 11., nan, 13.,\n",
       "       10., 15., 18., 12., 29., 14., 16.])"
      ]
     },
     "execution_count": 26,
     "metadata": {},
     "output_type": "execute_result"
    }
   ],
   "source": [
    "df[\"delinq_2yrs\"].unique()"
   ]
  },
  {
   "cell_type": "code",
   "execution_count": 27,
   "id": "7232cf67",
   "metadata": {},
   "outputs": [],
   "source": [
    "df['delinq_2yrs'] = df['delinq_2yrs'].fillna(df['delinq_2yrs'].mean())"
   ]
  },
  {
   "cell_type": "code",
   "execution_count": 28,
   "id": "14958174",
   "metadata": {},
   "outputs": [
    {
     "data": {
      "text/plain": [
       "loan_amnt                0\n",
       "term                     0\n",
       "int_rate                 0\n",
       "emp_length               0\n",
       "home_ownership           0\n",
       "annual_inc               0\n",
       "purpose                  0\n",
       "addr_state               0\n",
       "dti                      0\n",
       "delinq_2yrs              0\n",
       "revol_util               0\n",
       "total_acc                0\n",
       "bad_loan                 0\n",
       "longest_credit_length    0\n",
       "verification_status      0\n",
       "dtype: int64"
      ]
     },
     "execution_count": 28,
     "metadata": {},
     "output_type": "execute_result"
    }
   ],
   "source": [
    "clean_data=df.dropna()\n",
    "clean_data.isnull().sum()"
   ]
  },
  {
   "cell_type": "markdown",
   "id": "1cf1e66d",
   "metadata": {},
   "source": [
    "### 2.4:-clean data:-"
   ]
  },
  {
   "cell_type": "code",
   "execution_count": 29,
   "id": "f2b6cc8e",
   "metadata": {},
   "outputs": [
    {
     "data": {
      "text/plain": [
       "(163987, 15)"
      ]
     },
     "execution_count": 29,
     "metadata": {},
     "output_type": "execute_result"
    }
   ],
   "source": [
    "clean_data.shape\n"
   ]
  },
  {
   "cell_type": "code",
   "execution_count": 30,
   "id": "1898edf2",
   "metadata": {},
   "outputs": [
    {
     "data": {
      "text/html": [
       "<div>\n",
       "<style scoped>\n",
       "    .dataframe tbody tr th:only-of-type {\n",
       "        vertical-align: middle;\n",
       "    }\n",
       "\n",
       "    .dataframe tbody tr th {\n",
       "        vertical-align: top;\n",
       "    }\n",
       "\n",
       "    .dataframe thead th {\n",
       "        text-align: right;\n",
       "    }\n",
       "</style>\n",
       "<table border=\"1\" class=\"dataframe\">\n",
       "  <thead>\n",
       "    <tr style=\"text-align: right;\">\n",
       "      <th></th>\n",
       "      <th>loan_amnt</th>\n",
       "      <th>term</th>\n",
       "      <th>int_rate</th>\n",
       "      <th>emp_length</th>\n",
       "      <th>home_ownership</th>\n",
       "      <th>annual_inc</th>\n",
       "      <th>purpose</th>\n",
       "      <th>addr_state</th>\n",
       "      <th>dti</th>\n",
       "      <th>delinq_2yrs</th>\n",
       "      <th>revol_util</th>\n",
       "      <th>total_acc</th>\n",
       "      <th>bad_loan</th>\n",
       "      <th>longest_credit_length</th>\n",
       "      <th>verification_status</th>\n",
       "    </tr>\n",
       "  </thead>\n",
       "  <tbody>\n",
       "    <tr>\n",
       "      <th>0</th>\n",
       "      <td>5000</td>\n",
       "      <td>36 months</td>\n",
       "      <td>10.65</td>\n",
       "      <td>10.0</td>\n",
       "      <td>RENT</td>\n",
       "      <td>24000.0</td>\n",
       "      <td>credit_card</td>\n",
       "      <td>AZ</td>\n",
       "      <td>27.65</td>\n",
       "      <td>0.0</td>\n",
       "      <td>83.7</td>\n",
       "      <td>9.0</td>\n",
       "      <td>0</td>\n",
       "      <td>26.0</td>\n",
       "      <td>verified</td>\n",
       "    </tr>\n",
       "    <tr>\n",
       "      <th>1</th>\n",
       "      <td>2500</td>\n",
       "      <td>60 months</td>\n",
       "      <td>15.27</td>\n",
       "      <td>0.0</td>\n",
       "      <td>RENT</td>\n",
       "      <td>30000.0</td>\n",
       "      <td>car</td>\n",
       "      <td>GA</td>\n",
       "      <td>1.00</td>\n",
       "      <td>0.0</td>\n",
       "      <td>9.4</td>\n",
       "      <td>4.0</td>\n",
       "      <td>1</td>\n",
       "      <td>12.0</td>\n",
       "      <td>verified</td>\n",
       "    </tr>\n",
       "    <tr>\n",
       "      <th>2</th>\n",
       "      <td>2400</td>\n",
       "      <td>36 months</td>\n",
       "      <td>15.96</td>\n",
       "      <td>10.0</td>\n",
       "      <td>RENT</td>\n",
       "      <td>12252.0</td>\n",
       "      <td>small_business</td>\n",
       "      <td>IL</td>\n",
       "      <td>8.72</td>\n",
       "      <td>0.0</td>\n",
       "      <td>98.5</td>\n",
       "      <td>10.0</td>\n",
       "      <td>0</td>\n",
       "      <td>10.0</td>\n",
       "      <td>not verified</td>\n",
       "    </tr>\n",
       "    <tr>\n",
       "      <th>3</th>\n",
       "      <td>10000</td>\n",
       "      <td>36 months</td>\n",
       "      <td>13.49</td>\n",
       "      <td>10.0</td>\n",
       "      <td>RENT</td>\n",
       "      <td>49200.0</td>\n",
       "      <td>other</td>\n",
       "      <td>CA</td>\n",
       "      <td>20.00</td>\n",
       "      <td>0.0</td>\n",
       "      <td>21.0</td>\n",
       "      <td>37.0</td>\n",
       "      <td>0</td>\n",
       "      <td>15.0</td>\n",
       "      <td>verified</td>\n",
       "    </tr>\n",
       "    <tr>\n",
       "      <th>4</th>\n",
       "      <td>5000</td>\n",
       "      <td>36 months</td>\n",
       "      <td>7.90</td>\n",
       "      <td>3.0</td>\n",
       "      <td>RENT</td>\n",
       "      <td>36000.0</td>\n",
       "      <td>wedding</td>\n",
       "      <td>AZ</td>\n",
       "      <td>11.20</td>\n",
       "      <td>0.0</td>\n",
       "      <td>28.3</td>\n",
       "      <td>12.0</td>\n",
       "      <td>0</td>\n",
       "      <td>7.0</td>\n",
       "      <td>verified</td>\n",
       "    </tr>\n",
       "  </tbody>\n",
       "</table>\n",
       "</div>"
      ],
      "text/plain": [
       "   loan_amnt       term  int_rate  emp_length home_ownership  annual_inc  \\\n",
       "0       5000  36 months     10.65        10.0           RENT     24000.0   \n",
       "1       2500  60 months     15.27         0.0           RENT     30000.0   \n",
       "2       2400  36 months     15.96        10.0           RENT     12252.0   \n",
       "3      10000  36 months     13.49        10.0           RENT     49200.0   \n",
       "4       5000  36 months      7.90         3.0           RENT     36000.0   \n",
       "\n",
       "          purpose addr_state    dti  delinq_2yrs  revol_util  total_acc  \\\n",
       "0     credit_card         AZ  27.65          0.0        83.7        9.0   \n",
       "1             car         GA   1.00          0.0         9.4        4.0   \n",
       "2  small_business         IL   8.72          0.0        98.5       10.0   \n",
       "3           other         CA  20.00          0.0        21.0       37.0   \n",
       "4         wedding         AZ  11.20          0.0        28.3       12.0   \n",
       "\n",
       "   bad_loan  longest_credit_length verification_status  \n",
       "0         0                   26.0            verified  \n",
       "1         1                   12.0            verified  \n",
       "2         0                   10.0        not verified  \n",
       "3         0                   15.0            verified  \n",
       "4         0                    7.0            verified  "
      ]
     },
     "execution_count": 30,
     "metadata": {},
     "output_type": "execute_result"
    }
   ],
   "source": [
    "clean_data.head()"
   ]
  },
  {
   "cell_type": "code",
   "execution_count": 31,
   "id": "9d1e2a3b",
   "metadata": {},
   "outputs": [
    {
     "data": {
      "text/html": [
       "<div>\n",
       "<style scoped>\n",
       "    .dataframe tbody tr th:only-of-type {\n",
       "        vertical-align: middle;\n",
       "    }\n",
       "\n",
       "    .dataframe tbody tr th {\n",
       "        vertical-align: top;\n",
       "    }\n",
       "\n",
       "    .dataframe thead th {\n",
       "        text-align: right;\n",
       "    }\n",
       "</style>\n",
       "<table border=\"1\" class=\"dataframe\">\n",
       "  <thead>\n",
       "    <tr style=\"text-align: right;\">\n",
       "      <th></th>\n",
       "      <th>loan_amnt</th>\n",
       "      <th>int_rate</th>\n",
       "      <th>emp_length</th>\n",
       "      <th>annual_inc</th>\n",
       "      <th>dti</th>\n",
       "      <th>delinq_2yrs</th>\n",
       "      <th>revol_util</th>\n",
       "      <th>total_acc</th>\n",
       "      <th>bad_loan</th>\n",
       "      <th>longest_credit_length</th>\n",
       "    </tr>\n",
       "  </thead>\n",
       "  <tbody>\n",
       "    <tr>\n",
       "      <th>count</th>\n",
       "      <td>163987.000000</td>\n",
       "      <td>163987.000000</td>\n",
       "      <td>163987.000000</td>\n",
       "      <td>1.639870e+05</td>\n",
       "      <td>163987.000000</td>\n",
       "      <td>163987.000000</td>\n",
       "      <td>163987.000000</td>\n",
       "      <td>163987.000000</td>\n",
       "      <td>163987.000000</td>\n",
       "      <td>163987.000000</td>\n",
       "    </tr>\n",
       "    <tr>\n",
       "      <th>mean</th>\n",
       "      <td>13074.169141</td>\n",
       "      <td>13.715904</td>\n",
       "      <td>5.695525</td>\n",
       "      <td>7.191567e+04</td>\n",
       "      <td>15.881530</td>\n",
       "      <td>0.227357</td>\n",
       "      <td>54.079173</td>\n",
       "      <td>24.579734</td>\n",
       "      <td>0.183039</td>\n",
       "      <td>14.854274</td>\n",
       "    </tr>\n",
       "    <tr>\n",
       "      <th>std</th>\n",
       "      <td>7993.556189</td>\n",
       "      <td>4.391940</td>\n",
       "      <td>3.546671</td>\n",
       "      <td>5.907020e+04</td>\n",
       "      <td>7.587668</td>\n",
       "      <td>0.694107</td>\n",
       "      <td>25.270483</td>\n",
       "      <td>11.684157</td>\n",
       "      <td>0.386700</td>\n",
       "      <td>6.947119</td>\n",
       "    </tr>\n",
       "    <tr>\n",
       "      <th>min</th>\n",
       "      <td>500.000000</td>\n",
       "      <td>5.420000</td>\n",
       "      <td>0.000000</td>\n",
       "      <td>1.896000e+03</td>\n",
       "      <td>0.000000</td>\n",
       "      <td>0.000000</td>\n",
       "      <td>0.000000</td>\n",
       "      <td>1.000000</td>\n",
       "      <td>0.000000</td>\n",
       "      <td>0.000000</td>\n",
       "    </tr>\n",
       "    <tr>\n",
       "      <th>25%</th>\n",
       "      <td>7000.000000</td>\n",
       "      <td>10.650000</td>\n",
       "      <td>2.000000</td>\n",
       "      <td>4.500000e+04</td>\n",
       "      <td>10.230000</td>\n",
       "      <td>0.000000</td>\n",
       "      <td>35.600000</td>\n",
       "      <td>16.000000</td>\n",
       "      <td>0.000000</td>\n",
       "      <td>10.000000</td>\n",
       "    </tr>\n",
       "    <tr>\n",
       "      <th>50%</th>\n",
       "      <td>11325.000000</td>\n",
       "      <td>13.490000</td>\n",
       "      <td>6.000000</td>\n",
       "      <td>6.100000e+04</td>\n",
       "      <td>15.620000</td>\n",
       "      <td>0.000000</td>\n",
       "      <td>55.800000</td>\n",
       "      <td>23.000000</td>\n",
       "      <td>0.000000</td>\n",
       "      <td>14.000000</td>\n",
       "    </tr>\n",
       "    <tr>\n",
       "      <th>75%</th>\n",
       "      <td>18000.000000</td>\n",
       "      <td>16.320000</td>\n",
       "      <td>10.000000</td>\n",
       "      <td>8.500000e+04</td>\n",
       "      <td>21.260000</td>\n",
       "      <td>0.000000</td>\n",
       "      <td>74.200000</td>\n",
       "      <td>31.000000</td>\n",
       "      <td>0.000000</td>\n",
       "      <td>18.000000</td>\n",
       "    </tr>\n",
       "    <tr>\n",
       "      <th>max</th>\n",
       "      <td>35000.000000</td>\n",
       "      <td>26.060000</td>\n",
       "      <td>10.000000</td>\n",
       "      <td>7.141778e+06</td>\n",
       "      <td>39.990000</td>\n",
       "      <td>29.000000</td>\n",
       "      <td>150.700000</td>\n",
       "      <td>118.000000</td>\n",
       "      <td>1.000000</td>\n",
       "      <td>65.000000</td>\n",
       "    </tr>\n",
       "  </tbody>\n",
       "</table>\n",
       "</div>"
      ],
      "text/plain": [
       "           loan_amnt       int_rate     emp_length    annual_inc  \\\n",
       "count  163987.000000  163987.000000  163987.000000  1.639870e+05   \n",
       "mean    13074.169141      13.715904       5.695525  7.191567e+04   \n",
       "std      7993.556189       4.391940       3.546671  5.907020e+04   \n",
       "min       500.000000       5.420000       0.000000  1.896000e+03   \n",
       "25%      7000.000000      10.650000       2.000000  4.500000e+04   \n",
       "50%     11325.000000      13.490000       6.000000  6.100000e+04   \n",
       "75%     18000.000000      16.320000      10.000000  8.500000e+04   \n",
       "max     35000.000000      26.060000      10.000000  7.141778e+06   \n",
       "\n",
       "                 dti    delinq_2yrs     revol_util      total_acc  \\\n",
       "count  163987.000000  163987.000000  163987.000000  163987.000000   \n",
       "mean       15.881530       0.227357      54.079173      24.579734   \n",
       "std         7.587668       0.694107      25.270483      11.684157   \n",
       "min         0.000000       0.000000       0.000000       1.000000   \n",
       "25%        10.230000       0.000000      35.600000      16.000000   \n",
       "50%        15.620000       0.000000      55.800000      23.000000   \n",
       "75%        21.260000       0.000000      74.200000      31.000000   \n",
       "max        39.990000      29.000000     150.700000     118.000000   \n",
       "\n",
       "            bad_loan  longest_credit_length  \n",
       "count  163987.000000          163987.000000  \n",
       "mean        0.183039              14.854274  \n",
       "std         0.386700               6.947119  \n",
       "min         0.000000               0.000000  \n",
       "25%         0.000000              10.000000  \n",
       "50%         0.000000              14.000000  \n",
       "75%         0.000000              18.000000  \n",
       "max         1.000000              65.000000  "
      ]
     },
     "execution_count": 31,
     "metadata": {},
     "output_type": "execute_result"
    }
   ],
   "source": [
    "clean_data.describe()"
   ]
  },
  {
   "cell_type": "markdown",
   "id": "d2fe937b",
   "metadata": {},
   "source": [
    "### 2.5:- checking for outliers"
   ]
  },
  {
   "cell_type": "code",
   "execution_count": 32,
   "id": "bcd5c211",
   "metadata": {},
   "outputs": [
    {
     "data": {
      "text/plain": [
       "<Axes: >"
      ]
     },
     "execution_count": 32,
     "metadata": {},
     "output_type": "execute_result"
    },
    {
     "data": {
      "image/png": "[encoded data removed]",
      "text/plain": [
       "<Figure size 640x480 with 1 Axes>"
      ]
     },
     "metadata": {},
     "output_type": "display_data"
    }
   ],
   "source": [
    "clean_data[['loan_amnt', 'term', 'int_rate', 'emp_length', 'home_ownership',\n",
    "       'annual_inc', 'purpose', 'addr_state', 'dti', 'delinq_2yrs',\n",
    "       'revol_util', 'total_acc', 'bad_loan', 'longest_credit_length',\n",
    "       'verification_status']].boxplot()"
   ]
  },
  {
   "cell_type": "code",
   "execution_count": 33,
   "id": "9e05908e",
   "metadata": {},
   "outputs": [
    {
     "data": {
      "text/plain": [
       "<Axes: >"
      ]
     },
     "execution_count": 33,
     "metadata": {},
     "output_type": "execute_result"
    },
    {
     "data": {
      "image/png": "[encoded data removed]",
      "text/plain": [
       "<Figure size 640x480 with 1 Axes>"
      ]
     },
     "metadata": {},
     "output_type": "display_data"
    }
   ],
   "source": [
    "sns.boxplot(np.sqrt(clean_data[\"annual_inc\"]))"
   ]
  },
  {
   "cell_type": "code",
   "execution_count": 34,
   "id": "d40c344c",
   "metadata": {},
   "outputs": [
    {
     "data": {
      "text/plain": [
       "<Axes: >"
      ]
     },
     "execution_count": 34,
     "metadata": {},
     "output_type": "execute_result"
    },
    {
     "data": {
      "image/png": "[encoded data removed]",
      "text/plain": [
       "<Figure size 640x480 with 1 Axes>"
      ]
     },
     "metadata": {},
     "output_type": "display_data"
    }
   ],
   "source": [
    "sns.boxplot(np.sqrt(clean_data[\"emp_length\"]))"
   ]
  },
  {
   "cell_type": "code",
   "execution_count": 35,
   "id": "c3b308b7",
   "metadata": {},
   "outputs": [
    {
     "name": "stdout",
     "output_type": "stream",
     "text": [
      "<class 'pandas.core.frame.DataFrame'>\n",
      "RangeIndex: 163987 entries, 0 to 163986\n",
      "Data columns (total 15 columns):\n",
      " #   Column                 Non-Null Count   Dtype  \n",
      "---  ------                 --------------   -----  \n",
      " 0   loan_amnt              163987 non-null  int64  \n",
      " 1   term                   163987 non-null  object \n",
      " 2   int_rate               163987 non-null  float64\n",
      " 3   emp_length             163987 non-null  float64\n",
      " 4   home_ownership         163987 non-null  object \n",
      " 5   annual_inc             163987 non-null  float64\n",
      " 6   purpose                163987 non-null  object \n",
      " 7   addr_state             163987 non-null  object \n",
      " 8   dti                    163987 non-null  float64\n",
      " 9   delinq_2yrs            163987 non-null  float64\n",
      " 10  revol_util             163987 non-null  float64\n",
      " 11  total_acc              163987 non-null  float64\n",
      " 12  bad_loan               163987 non-null  int64  \n",
      " 13  longest_credit_length  163987 non-null  float64\n",
      " 14  verification_status    163987 non-null  object \n",
      "dtypes: float64(8), int64(2), object(5)\n",
      "memory usage: 18.8+ MB\n"
     ]
    }
   ],
   "source": [
    "clean_data.info()"
   ]
  },
  {
   "cell_type": "markdown",
   "id": "cf63bd8a",
   "metadata": {},
   "source": [
    "# 3)feature engineering:-"
   ]
  },
  {
   "cell_type": "markdown",
   "id": "a8049b96",
   "metadata": {},
   "source": [
    "categorical_data=[\"term\",\"home_ownership\",\"purpose\",\"addr_state\",\"verification_status\"]\n",
    "\n",
    "\n",
    "ordinal encoding :- [\"term\"]\n",
    "one-hot encoding :- [\"home_ownership\",\"purpose\",\"addr_state\"]  \n",
    "label encoding   :- [\"verification_status\"]    \n",
    "    \n",
    "\n"
   ]
  },
  {
   "cell_type": "markdown",
   "id": "edf0a1ff",
   "metadata": {},
   "source": [
    "### 3.1  encoding:-"
   ]
  },
  {
   "cell_type": "markdown",
   "id": "58b114b7",
   "metadata": {},
   "source": [
    "## ordinal encoding:-"
   ]
  },
  {
   "cell_type": "code",
   "execution_count": 36,
   "id": "54df2460",
   "metadata": {},
   "outputs": [
    {
     "data": {
      "text/html": [
       "<div>\n",
       "<style scoped>\n",
       "    .dataframe tbody tr th:only-of-type {\n",
       "        vertical-align: middle;\n",
       "    }\n",
       "\n",
       "    .dataframe tbody tr th {\n",
       "        vertical-align: top;\n",
       "    }\n",
       "\n",
       "    .dataframe thead th {\n",
       "        text-align: right;\n",
       "    }\n",
       "</style>\n",
       "<table border=\"1\" class=\"dataframe\">\n",
       "  <thead>\n",
       "    <tr style=\"text-align: right;\">\n",
       "      <th></th>\n",
       "      <th>loan_amnt</th>\n",
       "      <th>term</th>\n",
       "      <th>int_rate</th>\n",
       "      <th>emp_length</th>\n",
       "      <th>home_ownership</th>\n",
       "      <th>annual_inc</th>\n",
       "      <th>purpose</th>\n",
       "      <th>addr_state</th>\n",
       "      <th>dti</th>\n",
       "      <th>delinq_2yrs</th>\n",
       "      <th>revol_util</th>\n",
       "      <th>total_acc</th>\n",
       "      <th>bad_loan</th>\n",
       "      <th>longest_credit_length</th>\n",
       "      <th>verification_status</th>\n",
       "    </tr>\n",
       "  </thead>\n",
       "  <tbody>\n",
       "    <tr>\n",
       "      <th>0</th>\n",
       "      <td>5000</td>\n",
       "      <td>0.0</td>\n",
       "      <td>10.65</td>\n",
       "      <td>10.0</td>\n",
       "      <td>RENT</td>\n",
       "      <td>24000.0</td>\n",
       "      <td>credit_card</td>\n",
       "      <td>AZ</td>\n",
       "      <td>27.65</td>\n",
       "      <td>0.0</td>\n",
       "      <td>83.7</td>\n",
       "      <td>9.0</td>\n",
       "      <td>0</td>\n",
       "      <td>26.0</td>\n",
       "      <td>verified</td>\n",
       "    </tr>\n",
       "    <tr>\n",
       "      <th>1</th>\n",
       "      <td>2500</td>\n",
       "      <td>1.0</td>\n",
       "      <td>15.27</td>\n",
       "      <td>0.0</td>\n",
       "      <td>RENT</td>\n",
       "      <td>30000.0</td>\n",
       "      <td>car</td>\n",
       "      <td>GA</td>\n",
       "      <td>1.00</td>\n",
       "      <td>0.0</td>\n",
       "      <td>9.4</td>\n",
       "      <td>4.0</td>\n",
       "      <td>1</td>\n",
       "      <td>12.0</td>\n",
       "      <td>verified</td>\n",
       "    </tr>\n",
       "    <tr>\n",
       "      <th>2</th>\n",
       "      <td>2400</td>\n",
       "      <td>0.0</td>\n",
       "      <td>15.96</td>\n",
       "      <td>10.0</td>\n",
       "      <td>RENT</td>\n",
       "      <td>12252.0</td>\n",
       "      <td>small_business</td>\n",
       "      <td>IL</td>\n",
       "      <td>8.72</td>\n",
       "      <td>0.0</td>\n",
       "      <td>98.5</td>\n",
       "      <td>10.0</td>\n",
       "      <td>0</td>\n",
       "      <td>10.0</td>\n",
       "      <td>not verified</td>\n",
       "    </tr>\n",
       "    <tr>\n",
       "      <th>3</th>\n",
       "      <td>10000</td>\n",
       "      <td>0.0</td>\n",
       "      <td>13.49</td>\n",
       "      <td>10.0</td>\n",
       "      <td>RENT</td>\n",
       "      <td>49200.0</td>\n",
       "      <td>other</td>\n",
       "      <td>CA</td>\n",
       "      <td>20.00</td>\n",
       "      <td>0.0</td>\n",
       "      <td>21.0</td>\n",
       "      <td>37.0</td>\n",
       "      <td>0</td>\n",
       "      <td>15.0</td>\n",
       "      <td>verified</td>\n",
       "    </tr>\n",
       "    <tr>\n",
       "      <th>4</th>\n",
       "      <td>5000</td>\n",
       "      <td>0.0</td>\n",
       "      <td>7.90</td>\n",
       "      <td>3.0</td>\n",
       "      <td>RENT</td>\n",
       "      <td>36000.0</td>\n",
       "      <td>wedding</td>\n",
       "      <td>AZ</td>\n",
       "      <td>11.20</td>\n",
       "      <td>0.0</td>\n",
       "      <td>28.3</td>\n",
       "      <td>12.0</td>\n",
       "      <td>0</td>\n",
       "      <td>7.0</td>\n",
       "      <td>verified</td>\n",
       "    </tr>\n",
       "    <tr>\n",
       "      <th>...</th>\n",
       "      <td>...</td>\n",
       "      <td>...</td>\n",
       "      <td>...</td>\n",
       "      <td>...</td>\n",
       "      <td>...</td>\n",
       "      <td>...</td>\n",
       "      <td>...</td>\n",
       "      <td>...</td>\n",
       "      <td>...</td>\n",
       "      <td>...</td>\n",
       "      <td>...</td>\n",
       "      <td>...</td>\n",
       "      <td>...</td>\n",
       "      <td>...</td>\n",
       "      <td>...</td>\n",
       "    </tr>\n",
       "    <tr>\n",
       "      <th>163982</th>\n",
       "      <td>15000</td>\n",
       "      <td>1.0</td>\n",
       "      <td>12.39</td>\n",
       "      <td>3.0</td>\n",
       "      <td>MORTGAGE</td>\n",
       "      <td>45000.0</td>\n",
       "      <td>credit_card</td>\n",
       "      <td>OK</td>\n",
       "      <td>31.44</td>\n",
       "      <td>4.0</td>\n",
       "      <td>75.8</td>\n",
       "      <td>34.0</td>\n",
       "      <td>0</td>\n",
       "      <td>20.0</td>\n",
       "      <td>not verified</td>\n",
       "    </tr>\n",
       "    <tr>\n",
       "      <th>163983</th>\n",
       "      <td>20000</td>\n",
       "      <td>0.0</td>\n",
       "      <td>14.99</td>\n",
       "      <td>10.0</td>\n",
       "      <td>OWN</td>\n",
       "      <td>80000.0</td>\n",
       "      <td>home_improvement</td>\n",
       "      <td>VA</td>\n",
       "      <td>23.65</td>\n",
       "      <td>0.0</td>\n",
       "      <td>68.8</td>\n",
       "      <td>18.0</td>\n",
       "      <td>0</td>\n",
       "      <td>22.0</td>\n",
       "      <td>verified</td>\n",
       "    </tr>\n",
       "    <tr>\n",
       "      <th>163984</th>\n",
       "      <td>12825</td>\n",
       "      <td>0.0</td>\n",
       "      <td>17.14</td>\n",
       "      <td>6.0</td>\n",
       "      <td>MORTGAGE</td>\n",
       "      <td>38000.0</td>\n",
       "      <td>debt_consolidation</td>\n",
       "      <td>TX</td>\n",
       "      <td>9.03</td>\n",
       "      <td>0.0</td>\n",
       "      <td>70.7</td>\n",
       "      <td>24.0</td>\n",
       "      <td>0</td>\n",
       "      <td>9.0</td>\n",
       "      <td>not verified</td>\n",
       "    </tr>\n",
       "    <tr>\n",
       "      <th>163985</th>\n",
       "      <td>27650</td>\n",
       "      <td>1.0</td>\n",
       "      <td>21.99</td>\n",
       "      <td>0.0</td>\n",
       "      <td>RENT</td>\n",
       "      <td>60000.0</td>\n",
       "      <td>credit_card</td>\n",
       "      <td>NY</td>\n",
       "      <td>10.10</td>\n",
       "      <td>1.0</td>\n",
       "      <td>61.2</td>\n",
       "      <td>20.0</td>\n",
       "      <td>0</td>\n",
       "      <td>6.0</td>\n",
       "      <td>verified</td>\n",
       "    </tr>\n",
       "    <tr>\n",
       "      <th>163986</th>\n",
       "      <td>17000</td>\n",
       "      <td>1.0</td>\n",
       "      <td>15.99</td>\n",
       "      <td>10.0</td>\n",
       "      <td>MORTGAGE</td>\n",
       "      <td>63078.0</td>\n",
       "      <td>debt_consolidation</td>\n",
       "      <td>PA</td>\n",
       "      <td>31.70</td>\n",
       "      <td>0.0</td>\n",
       "      <td>54.0</td>\n",
       "      <td>28.0</td>\n",
       "      <td>0</td>\n",
       "      <td>16.0</td>\n",
       "      <td>verified</td>\n",
       "    </tr>\n",
       "  </tbody>\n",
       "</table>\n",
       "<p>163987 rows × 15 columns</p>\n",
       "</div>"
      ],
      "text/plain": [
       "        loan_amnt  term  int_rate  emp_length home_ownership  annual_inc  \\\n",
       "0            5000   0.0     10.65        10.0           RENT     24000.0   \n",
       "1            2500   1.0     15.27         0.0           RENT     30000.0   \n",
       "2            2400   0.0     15.96        10.0           RENT     12252.0   \n",
       "3           10000   0.0     13.49        10.0           RENT     49200.0   \n",
       "4            5000   0.0      7.90         3.0           RENT     36000.0   \n",
       "...           ...   ...       ...         ...            ...         ...   \n",
       "163982      15000   1.0     12.39         3.0       MORTGAGE     45000.0   \n",
       "163983      20000   0.0     14.99        10.0            OWN     80000.0   \n",
       "163984      12825   0.0     17.14         6.0       MORTGAGE     38000.0   \n",
       "163985      27650   1.0     21.99         0.0           RENT     60000.0   \n",
       "163986      17000   1.0     15.99        10.0       MORTGAGE     63078.0   \n",
       "\n",
       "                   purpose addr_state    dti  delinq_2yrs  revol_util  \\\n",
       "0              credit_card         AZ  27.65          0.0        83.7   \n",
       "1                      car         GA   1.00          0.0         9.4   \n",
       "2           small_business         IL   8.72          0.0        98.5   \n",
       "3                    other         CA  20.00          0.0        21.0   \n",
       "4                  wedding         AZ  11.20          0.0        28.3   \n",
       "...                    ...        ...    ...          ...         ...   \n",
       "163982         credit_card         OK  31.44          4.0        75.8   \n",
       "163983    home_improvement         VA  23.65          0.0        68.8   \n",
       "163984  debt_consolidation         TX   9.03          0.0        70.7   \n",
       "163985         credit_card         NY  10.10          1.0        61.2   \n",
       "163986  debt_consolidation         PA  31.70          0.0        54.0   \n",
       "\n",
       "        total_acc  bad_loan  longest_credit_length verification_status  \n",
       "0             9.0         0                   26.0            verified  \n",
       "1             4.0         1                   12.0            verified  \n",
       "2            10.0         0                   10.0        not verified  \n",
       "3            37.0         0                   15.0            verified  \n",
       "4            12.0         0                    7.0            verified  \n",
       "...           ...       ...                    ...                 ...  \n",
       "163982       34.0         0                   20.0        not verified  \n",
       "163983       18.0         0                   22.0            verified  \n",
       "163984       24.0         0                    9.0        not verified  \n",
       "163985       20.0         0                    6.0            verified  \n",
       "163986       28.0         0                   16.0            verified  \n",
       "\n",
       "[163987 rows x 15 columns]"
      ]
     },
     "execution_count": 36,
     "metadata": {},
     "output_type": "execute_result"
    }
   ],
   "source": [
    "ord_e = OrdinalEncoder(categories=[['36 months', '60 months']])\n",
    "\n",
    "clean_data[\"term\"] = ord_e.fit_transform(clean_data[[\"term\"]])\n",
    "clean_data"
   ]
  },
  {
   "cell_type": "code",
   "execution_count": 97,
   "id": "b03f02df",
   "metadata": {},
   "outputs": [
    {
     "data": {
      "text/plain": [
       "array([0., 1.])"
      ]
     },
     "execution_count": 97,
     "metadata": {},
     "output_type": "execute_result"
    }
   ],
   "source": [
    "clean_data[\"term\"].unique()"
   ]
  },
  {
   "cell_type": "code",
   "execution_count": 37,
   "id": "4d830f26",
   "metadata": {},
   "outputs": [
    {
     "name": "stdout",
     "output_type": "stream",
     "text": [
      "['RENT' 'OWN' 'MORTGAGE' 'OTHER_NONE_ANY']\n"
     ]
    }
   ],
   "source": [
    "# Replace OTHER, NONE, and ANY with a new category called OTHER_NONE_ANY\n",
    "clean_data['home_ownership'] = clean_data['home_ownership'].replace(['OTHER', 'NONE', 'ANY'], 'OTHER_NONE_ANY')\n",
    "\n",
    "# Display the unique values in the home_ownership column to confirm the grouping\n",
    "print(clean_data['home_ownership'].unique())\n"
   ]
  },
  {
   "cell_type": "code",
   "execution_count": 38,
   "id": "22e8595d",
   "metadata": {},
   "outputs": [],
   "source": [
    "clean_data[\"home_ownership\"].replace({'RENT': 1 ,'OWN': 2 ,'MORTGAGE':3, 'OTHER_NONE_ANY':4},inplace=True)"
   ]
  },
  {
   "cell_type": "code",
   "execution_count": 39,
   "id": "5ee5405c",
   "metadata": {},
   "outputs": [
    {
     "data": {
      "text/plain": [
       "array([1, 2, 3, 4], dtype=int64)"
      ]
     },
     "execution_count": 39,
     "metadata": {},
     "output_type": "execute_result"
    }
   ],
   "source": [
    "clean_data['home_ownership'].unique()"
   ]
  },
  {
   "cell_type": "markdown",
   "id": "cd6d373d",
   "metadata": {},
   "source": [
    "## one_hot encoding:-"
   ]
  },
  {
   "cell_type": "code",
   "execution_count": 40,
   "id": "16bedf14",
   "metadata": {},
   "outputs": [
    {
     "data": {
      "text/html": [
       "<div>\n",
       "<style scoped>\n",
       "    .dataframe tbody tr th:only-of-type {\n",
       "        vertical-align: middle;\n",
       "    }\n",
       "\n",
       "    .dataframe tbody tr th {\n",
       "        vertical-align: top;\n",
       "    }\n",
       "\n",
       "    .dataframe thead th {\n",
       "        text-align: right;\n",
       "    }\n",
       "</style>\n",
       "<table border=\"1\" class=\"dataframe\">\n",
       "  <thead>\n",
       "    <tr style=\"text-align: right;\">\n",
       "      <th></th>\n",
       "      <th>credit_card</th>\n",
       "      <th>car</th>\n",
       "      <th>small_business</th>\n",
       "      <th>other</th>\n",
       "      <th>wedding</th>\n",
       "      <th>debt_consolidation</th>\n",
       "      <th>home_improvement</th>\n",
       "      <th>major_purchase</th>\n",
       "      <th>medical</th>\n",
       "      <th>moving</th>\n",
       "      <th>vacation</th>\n",
       "      <th>house</th>\n",
       "      <th>renewable_energy</th>\n",
       "      <th>educational</th>\n",
       "    </tr>\n",
       "  </thead>\n",
       "  <tbody>\n",
       "    <tr>\n",
       "      <th>0</th>\n",
       "      <td>0.0</td>\n",
       "      <td>1.0</td>\n",
       "      <td>0.0</td>\n",
       "      <td>0.0</td>\n",
       "      <td>0.0</td>\n",
       "      <td>0.0</td>\n",
       "      <td>0.0</td>\n",
       "      <td>0.0</td>\n",
       "      <td>0.0</td>\n",
       "      <td>0.0</td>\n",
       "      <td>0.0</td>\n",
       "      <td>0.0</td>\n",
       "      <td>0.0</td>\n",
       "      <td>0.0</td>\n",
       "    </tr>\n",
       "    <tr>\n",
       "      <th>1</th>\n",
       "      <td>1.0</td>\n",
       "      <td>0.0</td>\n",
       "      <td>0.0</td>\n",
       "      <td>0.0</td>\n",
       "      <td>0.0</td>\n",
       "      <td>0.0</td>\n",
       "      <td>0.0</td>\n",
       "      <td>0.0</td>\n",
       "      <td>0.0</td>\n",
       "      <td>0.0</td>\n",
       "      <td>0.0</td>\n",
       "      <td>0.0</td>\n",
       "      <td>0.0</td>\n",
       "      <td>0.0</td>\n",
       "    </tr>\n",
       "    <tr>\n",
       "      <th>2</th>\n",
       "      <td>0.0</td>\n",
       "      <td>0.0</td>\n",
       "      <td>0.0</td>\n",
       "      <td>0.0</td>\n",
       "      <td>0.0</td>\n",
       "      <td>0.0</td>\n",
       "      <td>0.0</td>\n",
       "      <td>0.0</td>\n",
       "      <td>0.0</td>\n",
       "      <td>0.0</td>\n",
       "      <td>0.0</td>\n",
       "      <td>1.0</td>\n",
       "      <td>0.0</td>\n",
       "      <td>0.0</td>\n",
       "    </tr>\n",
       "    <tr>\n",
       "      <th>3</th>\n",
       "      <td>0.0</td>\n",
       "      <td>0.0</td>\n",
       "      <td>0.0</td>\n",
       "      <td>0.0</td>\n",
       "      <td>0.0</td>\n",
       "      <td>0.0</td>\n",
       "      <td>0.0</td>\n",
       "      <td>0.0</td>\n",
       "      <td>0.0</td>\n",
       "      <td>1.0</td>\n",
       "      <td>0.0</td>\n",
       "      <td>0.0</td>\n",
       "      <td>0.0</td>\n",
       "      <td>0.0</td>\n",
       "    </tr>\n",
       "    <tr>\n",
       "      <th>4</th>\n",
       "      <td>0.0</td>\n",
       "      <td>0.0</td>\n",
       "      <td>0.0</td>\n",
       "      <td>0.0</td>\n",
       "      <td>0.0</td>\n",
       "      <td>0.0</td>\n",
       "      <td>0.0</td>\n",
       "      <td>0.0</td>\n",
       "      <td>0.0</td>\n",
       "      <td>0.0</td>\n",
       "      <td>0.0</td>\n",
       "      <td>0.0</td>\n",
       "      <td>0.0</td>\n",
       "      <td>1.0</td>\n",
       "    </tr>\n",
       "    <tr>\n",
       "      <th>...</th>\n",
       "      <td>...</td>\n",
       "      <td>...</td>\n",
       "      <td>...</td>\n",
       "      <td>...</td>\n",
       "      <td>...</td>\n",
       "      <td>...</td>\n",
       "      <td>...</td>\n",
       "      <td>...</td>\n",
       "      <td>...</td>\n",
       "      <td>...</td>\n",
       "      <td>...</td>\n",
       "      <td>...</td>\n",
       "      <td>...</td>\n",
       "      <td>...</td>\n",
       "    </tr>\n",
       "    <tr>\n",
       "      <th>163982</th>\n",
       "      <td>0.0</td>\n",
       "      <td>1.0</td>\n",
       "      <td>0.0</td>\n",
       "      <td>0.0</td>\n",
       "      <td>0.0</td>\n",
       "      <td>0.0</td>\n",
       "      <td>0.0</td>\n",
       "      <td>0.0</td>\n",
       "      <td>0.0</td>\n",
       "      <td>0.0</td>\n",
       "      <td>0.0</td>\n",
       "      <td>0.0</td>\n",
       "      <td>0.0</td>\n",
       "      <td>0.0</td>\n",
       "    </tr>\n",
       "    <tr>\n",
       "      <th>163983</th>\n",
       "      <td>0.0</td>\n",
       "      <td>0.0</td>\n",
       "      <td>0.0</td>\n",
       "      <td>0.0</td>\n",
       "      <td>1.0</td>\n",
       "      <td>0.0</td>\n",
       "      <td>0.0</td>\n",
       "      <td>0.0</td>\n",
       "      <td>0.0</td>\n",
       "      <td>0.0</td>\n",
       "      <td>0.0</td>\n",
       "      <td>0.0</td>\n",
       "      <td>0.0</td>\n",
       "      <td>0.0</td>\n",
       "    </tr>\n",
       "    <tr>\n",
       "      <th>163984</th>\n",
       "      <td>0.0</td>\n",
       "      <td>0.0</td>\n",
       "      <td>1.0</td>\n",
       "      <td>0.0</td>\n",
       "      <td>0.0</td>\n",
       "      <td>0.0</td>\n",
       "      <td>0.0</td>\n",
       "      <td>0.0</td>\n",
       "      <td>0.0</td>\n",
       "      <td>0.0</td>\n",
       "      <td>0.0</td>\n",
       "      <td>0.0</td>\n",
       "      <td>0.0</td>\n",
       "      <td>0.0</td>\n",
       "    </tr>\n",
       "    <tr>\n",
       "      <th>163985</th>\n",
       "      <td>0.0</td>\n",
       "      <td>1.0</td>\n",
       "      <td>0.0</td>\n",
       "      <td>0.0</td>\n",
       "      <td>0.0</td>\n",
       "      <td>0.0</td>\n",
       "      <td>0.0</td>\n",
       "      <td>0.0</td>\n",
       "      <td>0.0</td>\n",
       "      <td>0.0</td>\n",
       "      <td>0.0</td>\n",
       "      <td>0.0</td>\n",
       "      <td>0.0</td>\n",
       "      <td>0.0</td>\n",
       "    </tr>\n",
       "    <tr>\n",
       "      <th>163986</th>\n",
       "      <td>0.0</td>\n",
       "      <td>0.0</td>\n",
       "      <td>1.0</td>\n",
       "      <td>0.0</td>\n",
       "      <td>0.0</td>\n",
       "      <td>0.0</td>\n",
       "      <td>0.0</td>\n",
       "      <td>0.0</td>\n",
       "      <td>0.0</td>\n",
       "      <td>0.0</td>\n",
       "      <td>0.0</td>\n",
       "      <td>0.0</td>\n",
       "      <td>0.0</td>\n",
       "      <td>0.0</td>\n",
       "    </tr>\n",
       "  </tbody>\n",
       "</table>\n",
       "<p>163987 rows × 14 columns</p>\n",
       "</div>"
      ],
      "text/plain": [
       "        credit_card  car  small_business  other  wedding  debt_consolidation  \\\n",
       "0               0.0  1.0             0.0    0.0      0.0                 0.0   \n",
       "1               1.0  0.0             0.0    0.0      0.0                 0.0   \n",
       "2               0.0  0.0             0.0    0.0      0.0                 0.0   \n",
       "3               0.0  0.0             0.0    0.0      0.0                 0.0   \n",
       "4               0.0  0.0             0.0    0.0      0.0                 0.0   \n",
       "...             ...  ...             ...    ...      ...                 ...   \n",
       "163982          0.0  1.0             0.0    0.0      0.0                 0.0   \n",
       "163983          0.0  0.0             0.0    0.0      1.0                 0.0   \n",
       "163984          0.0  0.0             1.0    0.0      0.0                 0.0   \n",
       "163985          0.0  1.0             0.0    0.0      0.0                 0.0   \n",
       "163986          0.0  0.0             1.0    0.0      0.0                 0.0   \n",
       "\n",
       "        home_improvement  major_purchase  medical  moving  vacation  house  \\\n",
       "0                    0.0             0.0      0.0     0.0       0.0    0.0   \n",
       "1                    0.0             0.0      0.0     0.0       0.0    0.0   \n",
       "2                    0.0             0.0      0.0     0.0       0.0    1.0   \n",
       "3                    0.0             0.0      0.0     1.0       0.0    0.0   \n",
       "4                    0.0             0.0      0.0     0.0       0.0    0.0   \n",
       "...                  ...             ...      ...     ...       ...    ...   \n",
       "163982               0.0             0.0      0.0     0.0       0.0    0.0   \n",
       "163983               0.0             0.0      0.0     0.0       0.0    0.0   \n",
       "163984               0.0             0.0      0.0     0.0       0.0    0.0   \n",
       "163985               0.0             0.0      0.0     0.0       0.0    0.0   \n",
       "163986               0.0             0.0      0.0     0.0       0.0    0.0   \n",
       "\n",
       "        renewable_energy  educational  \n",
       "0                    0.0          0.0  \n",
       "1                    0.0          0.0  \n",
       "2                    0.0          0.0  \n",
       "3                    0.0          0.0  \n",
       "4                    0.0          1.0  \n",
       "...                  ...          ...  \n",
       "163982               0.0          0.0  \n",
       "163983               0.0          0.0  \n",
       "163984               0.0          0.0  \n",
       "163985               0.0          0.0  \n",
       "163986               0.0          0.0  \n",
       "\n",
       "[163987 rows x 14 columns]"
      ]
     },
     "execution_count": 40,
     "metadata": {},
     "output_type": "execute_result"
    }
   ],
   "source": [
    "onehot_e = OneHotEncoder()\n",
    "array  = onehot_e.fit_transform(clean_data[[\"purpose\"]]).toarray()\n",
    "df1 = pd.DataFrame(array,columns=clean_data[\"purpose\"].unique())\n",
    "df1"
   ]
  },
  {
   "cell_type": "code",
   "execution_count": 41,
   "id": "5413584d",
   "metadata": {},
   "outputs": [
    {
     "data": {
      "text/html": [
       "<div>\n",
       "<style scoped>\n",
       "    .dataframe tbody tr th:only-of-type {\n",
       "        vertical-align: middle;\n",
       "    }\n",
       "\n",
       "    .dataframe tbody tr th {\n",
       "        vertical-align: top;\n",
       "    }\n",
       "\n",
       "    .dataframe thead th {\n",
       "        text-align: right;\n",
       "    }\n",
       "</style>\n",
       "<table border=\"1\" class=\"dataframe\">\n",
       "  <thead>\n",
       "    <tr style=\"text-align: right;\">\n",
       "      <th></th>\n",
       "      <th>loan_amnt</th>\n",
       "      <th>term</th>\n",
       "      <th>int_rate</th>\n",
       "      <th>emp_length</th>\n",
       "      <th>home_ownership</th>\n",
       "      <th>annual_inc</th>\n",
       "      <th>addr_state</th>\n",
       "      <th>dti</th>\n",
       "      <th>delinq_2yrs</th>\n",
       "      <th>revol_util</th>\n",
       "      <th>...</th>\n",
       "      <th>wedding</th>\n",
       "      <th>debt_consolidation</th>\n",
       "      <th>home_improvement</th>\n",
       "      <th>major_purchase</th>\n",
       "      <th>medical</th>\n",
       "      <th>moving</th>\n",
       "      <th>vacation</th>\n",
       "      <th>house</th>\n",
       "      <th>renewable_energy</th>\n",
       "      <th>educational</th>\n",
       "    </tr>\n",
       "  </thead>\n",
       "  <tbody>\n",
       "    <tr>\n",
       "      <th>0</th>\n",
       "      <td>5000</td>\n",
       "      <td>0.0</td>\n",
       "      <td>10.65</td>\n",
       "      <td>10.0</td>\n",
       "      <td>1</td>\n",
       "      <td>24000.0</td>\n",
       "      <td>AZ</td>\n",
       "      <td>27.65</td>\n",
       "      <td>0.0</td>\n",
       "      <td>83.7</td>\n",
       "      <td>...</td>\n",
       "      <td>0.0</td>\n",
       "      <td>0.0</td>\n",
       "      <td>0.0</td>\n",
       "      <td>0.0</td>\n",
       "      <td>0.0</td>\n",
       "      <td>0.0</td>\n",
       "      <td>0.0</td>\n",
       "      <td>0.0</td>\n",
       "      <td>0.0</td>\n",
       "      <td>0.0</td>\n",
       "    </tr>\n",
       "    <tr>\n",
       "      <th>1</th>\n",
       "      <td>2500</td>\n",
       "      <td>1.0</td>\n",
       "      <td>15.27</td>\n",
       "      <td>0.0</td>\n",
       "      <td>1</td>\n",
       "      <td>30000.0</td>\n",
       "      <td>GA</td>\n",
       "      <td>1.00</td>\n",
       "      <td>0.0</td>\n",
       "      <td>9.4</td>\n",
       "      <td>...</td>\n",
       "      <td>0.0</td>\n",
       "      <td>0.0</td>\n",
       "      <td>0.0</td>\n",
       "      <td>0.0</td>\n",
       "      <td>0.0</td>\n",
       "      <td>0.0</td>\n",
       "      <td>0.0</td>\n",
       "      <td>0.0</td>\n",
       "      <td>0.0</td>\n",
       "      <td>0.0</td>\n",
       "    </tr>\n",
       "    <tr>\n",
       "      <th>2</th>\n",
       "      <td>2400</td>\n",
       "      <td>0.0</td>\n",
       "      <td>15.96</td>\n",
       "      <td>10.0</td>\n",
       "      <td>1</td>\n",
       "      <td>12252.0</td>\n",
       "      <td>IL</td>\n",
       "      <td>8.72</td>\n",
       "      <td>0.0</td>\n",
       "      <td>98.5</td>\n",
       "      <td>...</td>\n",
       "      <td>0.0</td>\n",
       "      <td>0.0</td>\n",
       "      <td>0.0</td>\n",
       "      <td>0.0</td>\n",
       "      <td>0.0</td>\n",
       "      <td>0.0</td>\n",
       "      <td>0.0</td>\n",
       "      <td>1.0</td>\n",
       "      <td>0.0</td>\n",
       "      <td>0.0</td>\n",
       "    </tr>\n",
       "    <tr>\n",
       "      <th>3</th>\n",
       "      <td>10000</td>\n",
       "      <td>0.0</td>\n",
       "      <td>13.49</td>\n",
       "      <td>10.0</td>\n",
       "      <td>1</td>\n",
       "      <td>49200.0</td>\n",
       "      <td>CA</td>\n",
       "      <td>20.00</td>\n",
       "      <td>0.0</td>\n",
       "      <td>21.0</td>\n",
       "      <td>...</td>\n",
       "      <td>0.0</td>\n",
       "      <td>0.0</td>\n",
       "      <td>0.0</td>\n",
       "      <td>0.0</td>\n",
       "      <td>0.0</td>\n",
       "      <td>1.0</td>\n",
       "      <td>0.0</td>\n",
       "      <td>0.0</td>\n",
       "      <td>0.0</td>\n",
       "      <td>0.0</td>\n",
       "    </tr>\n",
       "    <tr>\n",
       "      <th>4</th>\n",
       "      <td>5000</td>\n",
       "      <td>0.0</td>\n",
       "      <td>7.90</td>\n",
       "      <td>3.0</td>\n",
       "      <td>1</td>\n",
       "      <td>36000.0</td>\n",
       "      <td>AZ</td>\n",
       "      <td>11.20</td>\n",
       "      <td>0.0</td>\n",
       "      <td>28.3</td>\n",
       "      <td>...</td>\n",
       "      <td>0.0</td>\n",
       "      <td>0.0</td>\n",
       "      <td>0.0</td>\n",
       "      <td>0.0</td>\n",
       "      <td>0.0</td>\n",
       "      <td>0.0</td>\n",
       "      <td>0.0</td>\n",
       "      <td>0.0</td>\n",
       "      <td>0.0</td>\n",
       "      <td>1.0</td>\n",
       "    </tr>\n",
       "  </tbody>\n",
       "</table>\n",
       "<p>5 rows × 28 columns</p>\n",
       "</div>"
      ],
      "text/plain": [
       "   loan_amnt  term  int_rate  emp_length  home_ownership  annual_inc  \\\n",
       "0       5000   0.0     10.65        10.0               1     24000.0   \n",
       "1       2500   1.0     15.27         0.0               1     30000.0   \n",
       "2       2400   0.0     15.96        10.0               1     12252.0   \n",
       "3      10000   0.0     13.49        10.0               1     49200.0   \n",
       "4       5000   0.0      7.90         3.0               1     36000.0   \n",
       "\n",
       "  addr_state    dti  delinq_2yrs  revol_util  ...  wedding  \\\n",
       "0         AZ  27.65          0.0        83.7  ...      0.0   \n",
       "1         GA   1.00          0.0         9.4  ...      0.0   \n",
       "2         IL   8.72          0.0        98.5  ...      0.0   \n",
       "3         CA  20.00          0.0        21.0  ...      0.0   \n",
       "4         AZ  11.20          0.0        28.3  ...      0.0   \n",
       "\n",
       "   debt_consolidation  home_improvement major_purchase  medical  moving  \\\n",
       "0                 0.0               0.0            0.0      0.0     0.0   \n",
       "1                 0.0               0.0            0.0      0.0     0.0   \n",
       "2                 0.0               0.0            0.0      0.0     0.0   \n",
       "3                 0.0               0.0            0.0      0.0     1.0   \n",
       "4                 0.0               0.0            0.0      0.0     0.0   \n",
       "\n",
       "   vacation  house  renewable_energy  educational  \n",
       "0       0.0    0.0               0.0          0.0  \n",
       "1       0.0    0.0               0.0          0.0  \n",
       "2       0.0    1.0               0.0          0.0  \n",
       "3       0.0    0.0               0.0          0.0  \n",
       "4       0.0    0.0               0.0          1.0  \n",
       "\n",
       "[5 rows x 28 columns]"
      ]
     },
     "execution_count": 41,
     "metadata": {},
     "output_type": "execute_result"
    }
   ],
   "source": [
    "clean_data1 = pd.concat([clean_data,df1],axis=1).drop(\"purpose\",axis=1)\n",
    "clean_data1.head()"
   ]
  },
  {
   "cell_type": "code",
   "execution_count": 42,
   "id": "efc402f5",
   "metadata": {},
   "outputs": [
    {
     "data": {
      "text/plain": [
       "array(['AZ', 'GA', 'IL', 'CA', 'TX', 'VA', 'MO', 'CT', 'UT', 'FL', 'NY',\n",
       "       'PA', 'MN', 'NJ', 'OR', 'KY', 'OH', 'SC', 'RI', 'LA', 'MA', 'WA',\n",
       "       'WI', 'AL', 'NV', 'CO', 'MD', 'WV', 'VT', 'MI', 'DC', 'SD', 'NC',\n",
       "       'AR', 'KS', 'NM', 'HI', 'AK', 'OK', 'MT', 'WY', 'NH', 'DE', 'MS',\n",
       "       'TN', 'IA', 'NE', 'ID', 'IN', 'ME'], dtype=object)"
      ]
     },
     "execution_count": 42,
     "metadata": {},
     "output_type": "execute_result"
    }
   ],
   "source": [
    "clean_data[\"addr_state\"].unique()\n"
   ]
  },
  {
   "cell_type": "code",
   "execution_count": 43,
   "id": "e1b3a457",
   "metadata": {},
   "outputs": [
    {
     "data": {
      "text/html": [
       "<div>\n",
       "<style scoped>\n",
       "    .dataframe tbody tr th:only-of-type {\n",
       "        vertical-align: middle;\n",
       "    }\n",
       "\n",
       "    .dataframe tbody tr th {\n",
       "        vertical-align: top;\n",
       "    }\n",
       "\n",
       "    .dataframe thead th {\n",
       "        text-align: right;\n",
       "    }\n",
       "</style>\n",
       "<table border=\"1\" class=\"dataframe\">\n",
       "  <thead>\n",
       "    <tr style=\"text-align: right;\">\n",
       "      <th></th>\n",
       "      <th>loan_amnt</th>\n",
       "      <th>term</th>\n",
       "      <th>int_rate</th>\n",
       "      <th>emp_length</th>\n",
       "      <th>home_ownership</th>\n",
       "      <th>annual_inc</th>\n",
       "      <th>addr_state</th>\n",
       "      <th>dti</th>\n",
       "      <th>delinq_2yrs</th>\n",
       "      <th>revol_util</th>\n",
       "      <th>...</th>\n",
       "      <th>wedding</th>\n",
       "      <th>debt_consolidation</th>\n",
       "      <th>home_improvement</th>\n",
       "      <th>major_purchase</th>\n",
       "      <th>medical</th>\n",
       "      <th>moving</th>\n",
       "      <th>vacation</th>\n",
       "      <th>house</th>\n",
       "      <th>renewable_energy</th>\n",
       "      <th>educational</th>\n",
       "    </tr>\n",
       "  </thead>\n",
       "  <tbody>\n",
       "    <tr>\n",
       "      <th>0</th>\n",
       "      <td>5000</td>\n",
       "      <td>0.0</td>\n",
       "      <td>10.65</td>\n",
       "      <td>10.0</td>\n",
       "      <td>1</td>\n",
       "      <td>24000.0</td>\n",
       "      <td>1</td>\n",
       "      <td>27.65</td>\n",
       "      <td>0.0</td>\n",
       "      <td>83.7</td>\n",
       "      <td>...</td>\n",
       "      <td>0.0</td>\n",
       "      <td>0.0</td>\n",
       "      <td>0.0</td>\n",
       "      <td>0.0</td>\n",
       "      <td>0.0</td>\n",
       "      <td>0.0</td>\n",
       "      <td>0.0</td>\n",
       "      <td>0.0</td>\n",
       "      <td>0.0</td>\n",
       "      <td>0.0</td>\n",
       "    </tr>\n",
       "    <tr>\n",
       "      <th>1</th>\n",
       "      <td>2500</td>\n",
       "      <td>1.0</td>\n",
       "      <td>15.27</td>\n",
       "      <td>0.0</td>\n",
       "      <td>1</td>\n",
       "      <td>30000.0</td>\n",
       "      <td>2</td>\n",
       "      <td>1.00</td>\n",
       "      <td>0.0</td>\n",
       "      <td>9.4</td>\n",
       "      <td>...</td>\n",
       "      <td>0.0</td>\n",
       "      <td>0.0</td>\n",
       "      <td>0.0</td>\n",
       "      <td>0.0</td>\n",
       "      <td>0.0</td>\n",
       "      <td>0.0</td>\n",
       "      <td>0.0</td>\n",
       "      <td>0.0</td>\n",
       "      <td>0.0</td>\n",
       "      <td>0.0</td>\n",
       "    </tr>\n",
       "    <tr>\n",
       "      <th>2</th>\n",
       "      <td>2400</td>\n",
       "      <td>0.0</td>\n",
       "      <td>15.96</td>\n",
       "      <td>10.0</td>\n",
       "      <td>1</td>\n",
       "      <td>12252.0</td>\n",
       "      <td>3</td>\n",
       "      <td>8.72</td>\n",
       "      <td>0.0</td>\n",
       "      <td>98.5</td>\n",
       "      <td>...</td>\n",
       "      <td>0.0</td>\n",
       "      <td>0.0</td>\n",
       "      <td>0.0</td>\n",
       "      <td>0.0</td>\n",
       "      <td>0.0</td>\n",
       "      <td>0.0</td>\n",
       "      <td>0.0</td>\n",
       "      <td>1.0</td>\n",
       "      <td>0.0</td>\n",
       "      <td>0.0</td>\n",
       "    </tr>\n",
       "    <tr>\n",
       "      <th>3</th>\n",
       "      <td>10000</td>\n",
       "      <td>0.0</td>\n",
       "      <td>13.49</td>\n",
       "      <td>10.0</td>\n",
       "      <td>1</td>\n",
       "      <td>49200.0</td>\n",
       "      <td>4</td>\n",
       "      <td>20.00</td>\n",
       "      <td>0.0</td>\n",
       "      <td>21.0</td>\n",
       "      <td>...</td>\n",
       "      <td>0.0</td>\n",
       "      <td>0.0</td>\n",
       "      <td>0.0</td>\n",
       "      <td>0.0</td>\n",
       "      <td>0.0</td>\n",
       "      <td>1.0</td>\n",
       "      <td>0.0</td>\n",
       "      <td>0.0</td>\n",
       "      <td>0.0</td>\n",
       "      <td>0.0</td>\n",
       "    </tr>\n",
       "    <tr>\n",
       "      <th>4</th>\n",
       "      <td>5000</td>\n",
       "      <td>0.0</td>\n",
       "      <td>7.90</td>\n",
       "      <td>3.0</td>\n",
       "      <td>1</td>\n",
       "      <td>36000.0</td>\n",
       "      <td>1</td>\n",
       "      <td>11.20</td>\n",
       "      <td>0.0</td>\n",
       "      <td>28.3</td>\n",
       "      <td>...</td>\n",
       "      <td>0.0</td>\n",
       "      <td>0.0</td>\n",
       "      <td>0.0</td>\n",
       "      <td>0.0</td>\n",
       "      <td>0.0</td>\n",
       "      <td>0.0</td>\n",
       "      <td>0.0</td>\n",
       "      <td>0.0</td>\n",
       "      <td>0.0</td>\n",
       "      <td>1.0</td>\n",
       "    </tr>\n",
       "  </tbody>\n",
       "</table>\n",
       "<p>5 rows × 28 columns</p>\n",
       "</div>"
      ],
      "text/plain": [
       "   loan_amnt  term  int_rate  emp_length  home_ownership  annual_inc  \\\n",
       "0       5000   0.0     10.65        10.0               1     24000.0   \n",
       "1       2500   1.0     15.27         0.0               1     30000.0   \n",
       "2       2400   0.0     15.96        10.0               1     12252.0   \n",
       "3      10000   0.0     13.49        10.0               1     49200.0   \n",
       "4       5000   0.0      7.90         3.0               1     36000.0   \n",
       "\n",
       "   addr_state    dti  delinq_2yrs  revol_util  ...  wedding  \\\n",
       "0           1  27.65          0.0        83.7  ...      0.0   \n",
       "1           2   1.00          0.0         9.4  ...      0.0   \n",
       "2           3   8.72          0.0        98.5  ...      0.0   \n",
       "3           4  20.00          0.0        21.0  ...      0.0   \n",
       "4           1  11.20          0.0        28.3  ...      0.0   \n",
       "\n",
       "   debt_consolidation  home_improvement major_purchase  medical  moving  \\\n",
       "0                 0.0               0.0            0.0      0.0     0.0   \n",
       "1                 0.0               0.0            0.0      0.0     0.0   \n",
       "2                 0.0               0.0            0.0      0.0     0.0   \n",
       "3                 0.0               0.0            0.0      0.0     1.0   \n",
       "4                 0.0               0.0            0.0      0.0     0.0   \n",
       "\n",
       "   vacation  house  renewable_energy  educational  \n",
       "0       0.0    0.0               0.0          0.0  \n",
       "1       0.0    0.0               0.0          0.0  \n",
       "2       0.0    1.0               0.0          0.0  \n",
       "3       0.0    0.0               0.0          0.0  \n",
       "4       0.0    0.0               0.0          1.0  \n",
       "\n",
       "[5 rows x 28 columns]"
      ]
     },
     "execution_count": 43,
     "metadata": {},
     "output_type": "execute_result"
    }
   ],
   "source": [
    "\n",
    "encoding_dict = {'AZ': 1, 'GA': 2, 'IL': 3, 'CA': 4, 'TX': 5, 'VA': 6, 'MO': 7, 'CT': 8, 'UT': 9, 'FL': 10, 'NY': 11,\n",
    "       'PA': 12, 'MN': 13, 'NJ': 14, 'OR': 15, 'KY': 16, 'OH': 17, 'SC': 18, 'RI': 19, 'LA': 20, 'MA': 21, 'WA': 22,\n",
    "       'WI': 23, 'AL': 24, 'NV': 25, 'CO': 26, 'MD': 27, 'WV': 28, 'VT': 29, 'MI': 30, 'DC': 31, 'SD': 32, 'NC': 33,\n",
    "       'AR': 34, 'KS': 35, 'NM': 36, 'HI': 37, 'AK': 38, 'OK': 39, 'MT': 40, 'WY': 41, 'NH': 42, 'DE': 43, 'MS': 44,\n",
    "       'TN': 45, 'IA': 46, 'NE': 47, 'ID': 48, 'IN': 49, 'ME': 50}\n",
    "\n",
    "\n",
    "clean_data1['addr_state'] = clean_data1['addr_state'].replace(encoding_dict)\n",
    "\n",
    "clean_data1.head()\n"
   ]
  },
  {
   "cell_type": "code",
   "execution_count": 44,
   "id": "e32a6103",
   "metadata": {},
   "outputs": [
    {
     "data": {
      "text/html": [
       "<div>\n",
       "<style scoped>\n",
       "    .dataframe tbody tr th:only-of-type {\n",
       "        vertical-align: middle;\n",
       "    }\n",
       "\n",
       "    .dataframe tbody tr th {\n",
       "        vertical-align: top;\n",
       "    }\n",
       "\n",
       "    .dataframe thead th {\n",
       "        text-align: right;\n",
       "    }\n",
       "</style>\n",
       "<table border=\"1\" class=\"dataframe\">\n",
       "  <thead>\n",
       "    <tr style=\"text-align: right;\">\n",
       "      <th></th>\n",
       "      <th>loan_amnt</th>\n",
       "      <th>term</th>\n",
       "      <th>int_rate</th>\n",
       "      <th>emp_length</th>\n",
       "      <th>home_ownership</th>\n",
       "      <th>annual_inc</th>\n",
       "      <th>addr_state</th>\n",
       "      <th>dti</th>\n",
       "      <th>delinq_2yrs</th>\n",
       "      <th>revol_util</th>\n",
       "      <th>total_acc</th>\n",
       "      <th>bad_loan</th>\n",
       "      <th>longest_credit_length</th>\n",
       "      <th>verification_status</th>\n",
       "      <th>credit_card</th>\n",
       "      <th>car</th>\n",
       "      <th>small_business</th>\n",
       "      <th>other</th>\n",
       "      <th>wedding</th>\n",
       "      <th>debt_consolidation</th>\n",
       "      <th>home_improvement</th>\n",
       "      <th>major_purchase</th>\n",
       "      <th>medical</th>\n",
       "      <th>moving</th>\n",
       "      <th>vacation</th>\n",
       "      <th>house</th>\n",
       "      <th>renewable_energy</th>\n",
       "      <th>educational</th>\n",
       "    </tr>\n",
       "  </thead>\n",
       "  <tbody>\n",
       "    <tr>\n",
       "      <th>0</th>\n",
       "      <td>5000</td>\n",
       "      <td>0.0</td>\n",
       "      <td>10.65</td>\n",
       "      <td>10.0</td>\n",
       "      <td>1</td>\n",
       "      <td>24000.0</td>\n",
       "      <td>1</td>\n",
       "      <td>27.65</td>\n",
       "      <td>0.0</td>\n",
       "      <td>83.7</td>\n",
       "      <td>9.0</td>\n",
       "      <td>0</td>\n",
       "      <td>26.0</td>\n",
       "      <td>verified</td>\n",
       "      <td>0.0</td>\n",
       "      <td>1.0</td>\n",
       "      <td>0.0</td>\n",
       "      <td>0.0</td>\n",
       "      <td>0.0</td>\n",
       "      <td>0.0</td>\n",
       "      <td>0.0</td>\n",
       "      <td>0.0</td>\n",
       "      <td>0.0</td>\n",
       "      <td>0.0</td>\n",
       "      <td>0.0</td>\n",
       "      <td>0.0</td>\n",
       "      <td>0.0</td>\n",
       "      <td>0.0</td>\n",
       "    </tr>\n",
       "    <tr>\n",
       "      <th>1</th>\n",
       "      <td>2500</td>\n",
       "      <td>1.0</td>\n",
       "      <td>15.27</td>\n",
       "      <td>0.0</td>\n",
       "      <td>1</td>\n",
       "      <td>30000.0</td>\n",
       "      <td>2</td>\n",
       "      <td>1.00</td>\n",
       "      <td>0.0</td>\n",
       "      <td>9.4</td>\n",
       "      <td>4.0</td>\n",
       "      <td>1</td>\n",
       "      <td>12.0</td>\n",
       "      <td>verified</td>\n",
       "      <td>1.0</td>\n",
       "      <td>0.0</td>\n",
       "      <td>0.0</td>\n",
       "      <td>0.0</td>\n",
       "      <td>0.0</td>\n",
       "      <td>0.0</td>\n",
       "      <td>0.0</td>\n",
       "      <td>0.0</td>\n",
       "      <td>0.0</td>\n",
       "      <td>0.0</td>\n",
       "      <td>0.0</td>\n",
       "      <td>0.0</td>\n",
       "      <td>0.0</td>\n",
       "      <td>0.0</td>\n",
       "    </tr>\n",
       "    <tr>\n",
       "      <th>2</th>\n",
       "      <td>2400</td>\n",
       "      <td>0.0</td>\n",
       "      <td>15.96</td>\n",
       "      <td>10.0</td>\n",
       "      <td>1</td>\n",
       "      <td>12252.0</td>\n",
       "      <td>3</td>\n",
       "      <td>8.72</td>\n",
       "      <td>0.0</td>\n",
       "      <td>98.5</td>\n",
       "      <td>10.0</td>\n",
       "      <td>0</td>\n",
       "      <td>10.0</td>\n",
       "      <td>not verified</td>\n",
       "      <td>0.0</td>\n",
       "      <td>0.0</td>\n",
       "      <td>0.0</td>\n",
       "      <td>0.0</td>\n",
       "      <td>0.0</td>\n",
       "      <td>0.0</td>\n",
       "      <td>0.0</td>\n",
       "      <td>0.0</td>\n",
       "      <td>0.0</td>\n",
       "      <td>0.0</td>\n",
       "      <td>0.0</td>\n",
       "      <td>1.0</td>\n",
       "      <td>0.0</td>\n",
       "      <td>0.0</td>\n",
       "    </tr>\n",
       "    <tr>\n",
       "      <th>3</th>\n",
       "      <td>10000</td>\n",
       "      <td>0.0</td>\n",
       "      <td>13.49</td>\n",
       "      <td>10.0</td>\n",
       "      <td>1</td>\n",
       "      <td>49200.0</td>\n",
       "      <td>4</td>\n",
       "      <td>20.00</td>\n",
       "      <td>0.0</td>\n",
       "      <td>21.0</td>\n",
       "      <td>37.0</td>\n",
       "      <td>0</td>\n",
       "      <td>15.0</td>\n",
       "      <td>verified</td>\n",
       "      <td>0.0</td>\n",
       "      <td>0.0</td>\n",
       "      <td>0.0</td>\n",
       "      <td>0.0</td>\n",
       "      <td>0.0</td>\n",
       "      <td>0.0</td>\n",
       "      <td>0.0</td>\n",
       "      <td>0.0</td>\n",
       "      <td>0.0</td>\n",
       "      <td>1.0</td>\n",
       "      <td>0.0</td>\n",
       "      <td>0.0</td>\n",
       "      <td>0.0</td>\n",
       "      <td>0.0</td>\n",
       "    </tr>\n",
       "    <tr>\n",
       "      <th>4</th>\n",
       "      <td>5000</td>\n",
       "      <td>0.0</td>\n",
       "      <td>7.90</td>\n",
       "      <td>3.0</td>\n",
       "      <td>1</td>\n",
       "      <td>36000.0</td>\n",
       "      <td>1</td>\n",
       "      <td>11.20</td>\n",
       "      <td>0.0</td>\n",
       "      <td>28.3</td>\n",
       "      <td>12.0</td>\n",
       "      <td>0</td>\n",
       "      <td>7.0</td>\n",
       "      <td>verified</td>\n",
       "      <td>0.0</td>\n",
       "      <td>0.0</td>\n",
       "      <td>0.0</td>\n",
       "      <td>0.0</td>\n",
       "      <td>0.0</td>\n",
       "      <td>0.0</td>\n",
       "      <td>0.0</td>\n",
       "      <td>0.0</td>\n",
       "      <td>0.0</td>\n",
       "      <td>0.0</td>\n",
       "      <td>0.0</td>\n",
       "      <td>0.0</td>\n",
       "      <td>0.0</td>\n",
       "      <td>1.0</td>\n",
       "    </tr>\n",
       "  </tbody>\n",
       "</table>\n",
       "</div>"
      ],
      "text/plain": [
       "   loan_amnt  term  int_rate  emp_length  home_ownership  annual_inc  \\\n",
       "0       5000   0.0     10.65        10.0               1     24000.0   \n",
       "1       2500   1.0     15.27         0.0               1     30000.0   \n",
       "2       2400   0.0     15.96        10.0               1     12252.0   \n",
       "3      10000   0.0     13.49        10.0               1     49200.0   \n",
       "4       5000   0.0      7.90         3.0               1     36000.0   \n",
       "\n",
       "   addr_state    dti  delinq_2yrs  revol_util  total_acc  bad_loan  \\\n",
       "0           1  27.65          0.0        83.7        9.0         0   \n",
       "1           2   1.00          0.0         9.4        4.0         1   \n",
       "2           3   8.72          0.0        98.5       10.0         0   \n",
       "3           4  20.00          0.0        21.0       37.0         0   \n",
       "4           1  11.20          0.0        28.3       12.0         0   \n",
       "\n",
       "   longest_credit_length verification_status  credit_card  car  \\\n",
       "0                   26.0            verified          0.0  1.0   \n",
       "1                   12.0            verified          1.0  0.0   \n",
       "2                   10.0        not verified          0.0  0.0   \n",
       "3                   15.0            verified          0.0  0.0   \n",
       "4                    7.0            verified          0.0  0.0   \n",
       "\n",
       "   small_business  other  wedding  debt_consolidation  home_improvement  \\\n",
       "0             0.0    0.0      0.0                 0.0               0.0   \n",
       "1             0.0    0.0      0.0                 0.0               0.0   \n",
       "2             0.0    0.0      0.0                 0.0               0.0   \n",
       "3             0.0    0.0      0.0                 0.0               0.0   \n",
       "4             0.0    0.0      0.0                 0.0               0.0   \n",
       "\n",
       "   major_purchase  medical  moving  vacation  house  renewable_energy  \\\n",
       "0             0.0      0.0     0.0       0.0    0.0               0.0   \n",
       "1             0.0      0.0     0.0       0.0    0.0               0.0   \n",
       "2             0.0      0.0     0.0       0.0    1.0               0.0   \n",
       "3             0.0      0.0     1.0       0.0    0.0               0.0   \n",
       "4             0.0      0.0     0.0       0.0    0.0               0.0   \n",
       "\n",
       "   educational  \n",
       "0          0.0  \n",
       "1          0.0  \n",
       "2          0.0  \n",
       "3          0.0  \n",
       "4          1.0  "
      ]
     },
     "execution_count": 44,
     "metadata": {},
     "output_type": "execute_result"
    }
   ],
   "source": [
    "pd.set_option('display.max_columns', None)\n",
    "clean_data1.head()"
   ]
  },
  {
   "cell_type": "markdown",
   "id": "90412dcc",
   "metadata": {},
   "source": [
    "## label encoding:-"
   ]
  },
  {
   "cell_type": "code",
   "execution_count": 45,
   "id": "4cd8f449",
   "metadata": {},
   "outputs": [
    {
     "data": {
      "text/html": [
       "<div>\n",
       "<style scoped>\n",
       "    .dataframe tbody tr th:only-of-type {\n",
       "        vertical-align: middle;\n",
       "    }\n",
       "\n",
       "    .dataframe tbody tr th {\n",
       "        vertical-align: top;\n",
       "    }\n",
       "\n",
       "    .dataframe thead th {\n",
       "        text-align: right;\n",
       "    }\n",
       "</style>\n",
       "<table border=\"1\" class=\"dataframe\">\n",
       "  <thead>\n",
       "    <tr style=\"text-align: right;\">\n",
       "      <th></th>\n",
       "      <th>loan_amnt</th>\n",
       "      <th>term</th>\n",
       "      <th>int_rate</th>\n",
       "      <th>emp_length</th>\n",
       "      <th>home_ownership</th>\n",
       "      <th>annual_inc</th>\n",
       "      <th>addr_state</th>\n",
       "      <th>dti</th>\n",
       "      <th>delinq_2yrs</th>\n",
       "      <th>revol_util</th>\n",
       "      <th>total_acc</th>\n",
       "      <th>bad_loan</th>\n",
       "      <th>longest_credit_length</th>\n",
       "      <th>verification_status</th>\n",
       "      <th>credit_card</th>\n",
       "      <th>car</th>\n",
       "      <th>small_business</th>\n",
       "      <th>other</th>\n",
       "      <th>wedding</th>\n",
       "      <th>debt_consolidation</th>\n",
       "      <th>home_improvement</th>\n",
       "      <th>major_purchase</th>\n",
       "      <th>medical</th>\n",
       "      <th>moving</th>\n",
       "      <th>vacation</th>\n",
       "      <th>house</th>\n",
       "      <th>renewable_energy</th>\n",
       "      <th>educational</th>\n",
       "    </tr>\n",
       "  </thead>\n",
       "  <tbody>\n",
       "    <tr>\n",
       "      <th>0</th>\n",
       "      <td>5000</td>\n",
       "      <td>0.0</td>\n",
       "      <td>10.65</td>\n",
       "      <td>10.0</td>\n",
       "      <td>1</td>\n",
       "      <td>24000.0</td>\n",
       "      <td>1</td>\n",
       "      <td>27.65</td>\n",
       "      <td>0.0</td>\n",
       "      <td>83.7</td>\n",
       "      <td>9.0</td>\n",
       "      <td>0</td>\n",
       "      <td>26.0</td>\n",
       "      <td>1</td>\n",
       "      <td>0.0</td>\n",
       "      <td>1.0</td>\n",
       "      <td>0.0</td>\n",
       "      <td>0.0</td>\n",
       "      <td>0.0</td>\n",
       "      <td>0.0</td>\n",
       "      <td>0.0</td>\n",
       "      <td>0.0</td>\n",
       "      <td>0.0</td>\n",
       "      <td>0.0</td>\n",
       "      <td>0.0</td>\n",
       "      <td>0.0</td>\n",
       "      <td>0.0</td>\n",
       "      <td>0.0</td>\n",
       "    </tr>\n",
       "    <tr>\n",
       "      <th>1</th>\n",
       "      <td>2500</td>\n",
       "      <td>1.0</td>\n",
       "      <td>15.27</td>\n",
       "      <td>0.0</td>\n",
       "      <td>1</td>\n",
       "      <td>30000.0</td>\n",
       "      <td>2</td>\n",
       "      <td>1.00</td>\n",
       "      <td>0.0</td>\n",
       "      <td>9.4</td>\n",
       "      <td>4.0</td>\n",
       "      <td>1</td>\n",
       "      <td>12.0</td>\n",
       "      <td>1</td>\n",
       "      <td>1.0</td>\n",
       "      <td>0.0</td>\n",
       "      <td>0.0</td>\n",
       "      <td>0.0</td>\n",
       "      <td>0.0</td>\n",
       "      <td>0.0</td>\n",
       "      <td>0.0</td>\n",
       "      <td>0.0</td>\n",
       "      <td>0.0</td>\n",
       "      <td>0.0</td>\n",
       "      <td>0.0</td>\n",
       "      <td>0.0</td>\n",
       "      <td>0.0</td>\n",
       "      <td>0.0</td>\n",
       "    </tr>\n",
       "    <tr>\n",
       "      <th>2</th>\n",
       "      <td>2400</td>\n",
       "      <td>0.0</td>\n",
       "      <td>15.96</td>\n",
       "      <td>10.0</td>\n",
       "      <td>1</td>\n",
       "      <td>12252.0</td>\n",
       "      <td>3</td>\n",
       "      <td>8.72</td>\n",
       "      <td>0.0</td>\n",
       "      <td>98.5</td>\n",
       "      <td>10.0</td>\n",
       "      <td>0</td>\n",
       "      <td>10.0</td>\n",
       "      <td>0</td>\n",
       "      <td>0.0</td>\n",
       "      <td>0.0</td>\n",
       "      <td>0.0</td>\n",
       "      <td>0.0</td>\n",
       "      <td>0.0</td>\n",
       "      <td>0.0</td>\n",
       "      <td>0.0</td>\n",
       "      <td>0.0</td>\n",
       "      <td>0.0</td>\n",
       "      <td>0.0</td>\n",
       "      <td>0.0</td>\n",
       "      <td>1.0</td>\n",
       "      <td>0.0</td>\n",
       "      <td>0.0</td>\n",
       "    </tr>\n",
       "    <tr>\n",
       "      <th>3</th>\n",
       "      <td>10000</td>\n",
       "      <td>0.0</td>\n",
       "      <td>13.49</td>\n",
       "      <td>10.0</td>\n",
       "      <td>1</td>\n",
       "      <td>49200.0</td>\n",
       "      <td>4</td>\n",
       "      <td>20.00</td>\n",
       "      <td>0.0</td>\n",
       "      <td>21.0</td>\n",
       "      <td>37.0</td>\n",
       "      <td>0</td>\n",
       "      <td>15.0</td>\n",
       "      <td>1</td>\n",
       "      <td>0.0</td>\n",
       "      <td>0.0</td>\n",
       "      <td>0.0</td>\n",
       "      <td>0.0</td>\n",
       "      <td>0.0</td>\n",
       "      <td>0.0</td>\n",
       "      <td>0.0</td>\n",
       "      <td>0.0</td>\n",
       "      <td>0.0</td>\n",
       "      <td>1.0</td>\n",
       "      <td>0.0</td>\n",
       "      <td>0.0</td>\n",
       "      <td>0.0</td>\n",
       "      <td>0.0</td>\n",
       "    </tr>\n",
       "    <tr>\n",
       "      <th>4</th>\n",
       "      <td>5000</td>\n",
       "      <td>0.0</td>\n",
       "      <td>7.90</td>\n",
       "      <td>3.0</td>\n",
       "      <td>1</td>\n",
       "      <td>36000.0</td>\n",
       "      <td>1</td>\n",
       "      <td>11.20</td>\n",
       "      <td>0.0</td>\n",
       "      <td>28.3</td>\n",
       "      <td>12.0</td>\n",
       "      <td>0</td>\n",
       "      <td>7.0</td>\n",
       "      <td>1</td>\n",
       "      <td>0.0</td>\n",
       "      <td>0.0</td>\n",
       "      <td>0.0</td>\n",
       "      <td>0.0</td>\n",
       "      <td>0.0</td>\n",
       "      <td>0.0</td>\n",
       "      <td>0.0</td>\n",
       "      <td>0.0</td>\n",
       "      <td>0.0</td>\n",
       "      <td>0.0</td>\n",
       "      <td>0.0</td>\n",
       "      <td>0.0</td>\n",
       "      <td>0.0</td>\n",
       "      <td>1.0</td>\n",
       "    </tr>\n",
       "  </tbody>\n",
       "</table>\n",
       "</div>"
      ],
      "text/plain": [
       "   loan_amnt  term  int_rate  emp_length  home_ownership  annual_inc  \\\n",
       "0       5000   0.0     10.65        10.0               1     24000.0   \n",
       "1       2500   1.0     15.27         0.0               1     30000.0   \n",
       "2       2400   0.0     15.96        10.0               1     12252.0   \n",
       "3      10000   0.0     13.49        10.0               1     49200.0   \n",
       "4       5000   0.0      7.90         3.0               1     36000.0   \n",
       "\n",
       "   addr_state    dti  delinq_2yrs  revol_util  total_acc  bad_loan  \\\n",
       "0           1  27.65          0.0        83.7        9.0         0   \n",
       "1           2   1.00          0.0         9.4        4.0         1   \n",
       "2           3   8.72          0.0        98.5       10.0         0   \n",
       "3           4  20.00          0.0        21.0       37.0         0   \n",
       "4           1  11.20          0.0        28.3       12.0         0   \n",
       "\n",
       "   longest_credit_length  verification_status  credit_card  car  \\\n",
       "0                   26.0                    1          0.0  1.0   \n",
       "1                   12.0                    1          1.0  0.0   \n",
       "2                   10.0                    0          0.0  0.0   \n",
       "3                   15.0                    1          0.0  0.0   \n",
       "4                    7.0                    1          0.0  0.0   \n",
       "\n",
       "   small_business  other  wedding  debt_consolidation  home_improvement  \\\n",
       "0             0.0    0.0      0.0                 0.0               0.0   \n",
       "1             0.0    0.0      0.0                 0.0               0.0   \n",
       "2             0.0    0.0      0.0                 0.0               0.0   \n",
       "3             0.0    0.0      0.0                 0.0               0.0   \n",
       "4             0.0    0.0      0.0                 0.0               0.0   \n",
       "\n",
       "   major_purchase  medical  moving  vacation  house  renewable_energy  \\\n",
       "0             0.0      0.0     0.0       0.0    0.0               0.0   \n",
       "1             0.0      0.0     0.0       0.0    0.0               0.0   \n",
       "2             0.0      0.0     0.0       0.0    1.0               0.0   \n",
       "3             0.0      0.0     1.0       0.0    0.0               0.0   \n",
       "4             0.0      0.0     0.0       0.0    0.0               0.0   \n",
       "\n",
       "   educational  \n",
       "0          0.0  \n",
       "1          0.0  \n",
       "2          0.0  \n",
       "3          0.0  \n",
       "4          1.0  "
      ]
     },
     "execution_count": 45,
     "metadata": {},
     "output_type": "execute_result"
    }
   ],
   "source": [
    "label = LabelEncoder()\n",
    "clean_data1[\"verification_status\"] = label.fit_transform(clean_data1[\"verification_status\"])\n",
    "clean_data1.head()"
   ]
  },
  {
   "cell_type": "code",
   "execution_count": 46,
   "id": "4e112fdd",
   "metadata": {},
   "outputs": [
    {
     "name": "stdout",
     "output_type": "stream",
     "text": [
      "<class 'pandas.core.frame.DataFrame'>\n",
      "RangeIndex: 163987 entries, 0 to 163986\n",
      "Data columns (total 28 columns):\n",
      " #   Column                 Non-Null Count   Dtype  \n",
      "---  ------                 --------------   -----  \n",
      " 0   loan_amnt              163987 non-null  int64  \n",
      " 1   term                   163987 non-null  float64\n",
      " 2   int_rate               163987 non-null  float64\n",
      " 3   emp_length             163987 non-null  float64\n",
      " 4   home_ownership         163987 non-null  int64  \n",
      " 5   annual_inc             163987 non-null  float64\n",
      " 6   addr_state             163987 non-null  int64  \n",
      " 7   dti                    163987 non-null  float64\n",
      " 8   delinq_2yrs            163987 non-null  float64\n",
      " 9   revol_util             163987 non-null  float64\n",
      " 10  total_acc              163987 non-null  float64\n",
      " 11  bad_loan               163987 non-null  int64  \n",
      " 12  longest_credit_length  163987 non-null  float64\n",
      " 13  verification_status    163987 non-null  int32  \n",
      " 14  credit_card            163987 non-null  float64\n",
      " 15  car                    163987 non-null  float64\n",
      " 16  small_business         163987 non-null  float64\n",
      " 17  other                  163987 non-null  float64\n",
      " 18  wedding                163987 non-null  float64\n",
      " 19  debt_consolidation     163987 non-null  float64\n",
      " 20  home_improvement       163987 non-null  float64\n",
      " 21  major_purchase         163987 non-null  float64\n",
      " 22  medical                163987 non-null  float64\n",
      " 23  moving                 163987 non-null  float64\n",
      " 24  vacation               163987 non-null  float64\n",
      " 25  house                  163987 non-null  float64\n",
      " 26  renewable_energy       163987 non-null  float64\n",
      " 27  educational            163987 non-null  float64\n",
      "dtypes: float64(23), int32(1), int64(4)\n",
      "memory usage: 34.4 MB\n"
     ]
    }
   ],
   "source": [
    "clean_data1.info()"
   ]
  },
  {
   "cell_type": "code",
   "execution_count": 47,
   "id": "13fc70c8",
   "metadata": {},
   "outputs": [
    {
     "data": {
      "text/plain": [
       "<Axes: >"
      ]
     },
     "execution_count": 47,
     "metadata": {},
     "output_type": "execute_result"
    },
    {
     "data": {
      "image/png": "[encoded data removed]",
      "text/plain": [
       "<Figure size 2000x500 with 2 Axes>"
      ]
     },
     "metadata": {},
     "output_type": "display_data"
    }
   ],
   "source": [
    "import matplotlib.pyplot as plt_alias\n",
    "\n",
    "corr1 = clean_data1.corr().tail(1)\n",
    "plt_alias.figure(figsize=(20,5))\n",
    "sns.heatmap(corr1,annot=True)"
   ]
  },
  {
   "cell_type": "markdown",
   "id": "80d55d7d",
   "metadata": {},
   "source": [
    "# model training:-"
   ]
  },
  {
   "cell_type": "markdown",
   "id": "5f876c9f",
   "metadata": {},
   "source": [
    "#### Train test Split:-"
   ]
  },
  {
   "cell_type": "code",
   "execution_count": 48,
   "id": "bd5abb95",
   "metadata": {},
   "outputs": [],
   "source": [
    "x = clean_data1.drop(\"verification_status\",axis=1)\n",
    "y = clean_data1[\"verification_status\"]\n",
    "x_train,x_test,y_train,y_test = train_test_split(x,y,test_size=0.2,random_state=42)"
   ]
  },
  {
   "cell_type": "markdown",
   "id": "6545269c",
   "metadata": {},
   "source": [
    "#### using KNN:-"
   ]
  },
  {
   "cell_type": "code",
   "execution_count": 49,
   "id": "aa66ac08",
   "metadata": {},
   "outputs": [
    {
     "data": {
      "text/html": [
       "<style>#sk-container-id-1 {color: black;background-color: white;}#sk-container-id-1 pre{padding: 0;}#sk-container-id-1 div.sk-toggleable {background-color: white;}#sk-container-id-1 label.sk-toggleable__label {cursor: pointer;display: block;width: 100%;margin-bottom: 0;padding: 0.3em;box-sizing: border-box;text-align: center;}#sk-container-id-1 label.sk-toggleable__label-arrow:before {content: \"▸\";float: left;margin-right: 0.25em;color: #696969;}#sk-container-id-1 label.sk-toggleable__label-arrow:hover:before {color: black;}#sk-container-id-1 div.sk-estimator:hover label.sk-toggleable__label-arrow:before {color: black;}#sk-container-id-1 div.sk-toggleable__content {max-height: 0;max-width: 0;overflow: hidden;text-align: left;background-color: #f0f8ff;}#sk-container-id-1 div.sk-toggleable__content pre {margin: 0.2em;color: black;border-radius: 0.25em;background-color: #f0f8ff;}#sk-container-id-1 input.sk-toggleable__control:checked~div.sk-toggleable__content {max-height: 200px;max-width: 100%;overflow: auto;}#sk-container-id-1 input.sk-toggleable__control:checked~label.sk-toggleable__label-arrow:before {content: \"▾\";}#sk-container-id-1 div.sk-estimator input.sk-toggleable__control:checked~label.sk-toggleable__label {background-color: #d4ebff;}#sk-container-id-1 div.sk-label input.sk-toggleable__control:checked~label.sk-toggleable__label {background-color: #d4ebff;}#sk-container-id-1 input.sk-hidden--visually {border: 0;clip: rect(1px 1px 1px 1px);clip: rect(1px, 1px, 1px, 1px);height: 1px;margin: -1px;overflow: hidden;padding: 0;position: absolute;width: 1px;}#sk-container-id-1 div.sk-estimator {font-family: monospace;background-color: #f0f8ff;border: 1px dotted black;border-radius: 0.25em;box-sizing: border-box;margin-bottom: 0.5em;}#sk-container-id-1 div.sk-estimator:hover {background-color: #d4ebff;}#sk-container-id-1 div.sk-parallel-item::after {content: \"\";width: 100%;border-bottom: 1px solid gray;flex-grow: 1;}#sk-container-id-1 div.sk-label:hover label.sk-toggleable__label {background-color: #d4ebff;}#sk-container-id-1 div.sk-serial::before {content: \"\";position: absolute;border-left: 1px solid gray;box-sizing: border-box;top: 0;bottom: 0;left: 50%;z-index: 0;}#sk-container-id-1 div.sk-serial {display: flex;flex-direction: column;align-items: center;background-color: white;padding-right: 0.2em;padding-left: 0.2em;position: relative;}#sk-container-id-1 div.sk-item {position: relative;z-index: 1;}#sk-container-id-1 div.sk-parallel {display: flex;align-items: stretch;justify-content: center;background-color: white;position: relative;}#sk-container-id-1 div.sk-item::before, #sk-container-id-1 div.sk-parallel-item::before {content: \"\";position: absolute;border-left: 1px solid gray;box-sizing: border-box;top: 0;bottom: 0;left: 50%;z-index: -1;}#sk-container-id-1 div.sk-parallel-item {display: flex;flex-direction: column;z-index: 1;position: relative;background-color: white;}#sk-container-id-1 div.sk-parallel-item:first-child::after {align-self: flex-end;width: 50%;}#sk-container-id-1 div.sk-parallel-item:last-child::after {align-self: flex-start;width: 50%;}#sk-container-id-1 div.sk-parallel-item:only-child::after {width: 0;}#sk-container-id-1 div.sk-dashed-wrapped {border: 1px dashed gray;margin: 0 0.4em 0.5em 0.4em;box-sizing: border-box;padding-bottom: 0.4em;background-color: white;}#sk-container-id-1 div.sk-label label {font-family: monospace;font-weight: bold;display: inline-block;line-height: 1.2em;}#sk-container-id-1 div.sk-label-container {text-align: center;}#sk-container-id-1 div.sk-container {/* jupyter's `normalize.less` sets `[hidden] { display: none; }` but bootstrap.min.css set `[hidden] { display: none !important; }` so we also need the `!important` here to be able to override the default hidden behavior on the sphinx rendered scikit-learn.org. See: https://github.com/scikit-learn/scikit-learn/issues/21755 */display: inline-block !important;position: relative;}#sk-container-id-1 div.sk-text-repr-fallback {display: none;}</style><div id=\"sk-container-id-1\" class=\"sk-top-container\"><div class=\"sk-text-repr-fallback\"><pre>KNeighborsClassifier()</pre><b>In a Jupyter environment, please rerun this cell to show the HTML representation or trust the notebook. <br />On GitHub, the HTML representation is unable to render, please try loading this page with nbviewer.org.</b></div><div class=\"sk-container\" hidden><div class=\"sk-item\"><div class=\"sk-estimator sk-toggleable\"><input class=\"sk-toggleable__control sk-hidden--visually\" id=\"sk-estimator-id-1\" type=\"checkbox\" checked><label for=\"sk-estimator-id-1\" class=\"sk-toggleable__label sk-toggleable__label-arrow\">KNeighborsClassifier</label><div class=\"sk-toggleable__content\"><pre>KNeighborsClassifier()</pre></div></div></div></div></div>"
      ],
      "text/plain": [
       "KNeighborsClassifier()"
      ]
     },
     "execution_count": 49,
     "metadata": {},
     "output_type": "execute_result"
    }
   ],
   "source": [
    "knn_clf = KNeighborsClassifier()\n",
    "knn_clf.fit(x_train,y_train)"
   ]
  },
  {
   "cell_type": "code",
   "execution_count": 50,
   "id": "cbbd85bd",
   "metadata": {},
   "outputs": [
    {
     "name": "stdout",
     "output_type": "stream",
     "text": [
      "Confusion matrix\n",
      " [[30047 17402]\n",
      " [14147 69593]]\n",
      "Accuarcy 0.7595148983527582\n",
      "Classification report\n",
      "               precision    recall  f1-score   support\n",
      "\n",
      "           0       0.68      0.63      0.66     47449\n",
      "           1       0.80      0.83      0.82     83740\n",
      "\n",
      "    accuracy                           0.76    131189\n",
      "   macro avg       0.74      0.73      0.74    131189\n",
      "weighted avg       0.76      0.76      0.76    131189\n",
      "\n"
     ]
    }
   ],
   "source": [
    "# Training\n",
    "y_pred_train = knn_clf.predict(x_train)\n",
    "\n",
    "cnf_matrix = confusion_matrix(y_train,y_pred_train)\n",
    "print(\"Confusion matrix\\n\",cnf_matrix)\n",
    "\n",
    "accuarcy = accuracy_score(y_train,y_pred_train)\n",
    "print(\"Accuarcy\",accuarcy)\n",
    "\n",
    "clf_report = classification_report(y_train,y_pred_train)\n",
    "print(\"Classification report\\n\",clf_report)"
   ]
  },
  {
   "cell_type": "code",
   "execution_count": 51,
   "id": "2b48bebf",
   "metadata": {},
   "outputs": [
    {
     "name": "stdout",
     "output_type": "stream",
     "text": [
      "Confusion matrix\n",
      " [[ 5385  6321]\n",
      " [ 5810 15282]]\n",
      "Accuarcy 0.6301298859686566\n",
      "Classification report\n",
      "               precision    recall  f1-score   support\n",
      "\n",
      "           0       0.48      0.46      0.47     11706\n",
      "           1       0.71      0.72      0.72     21092\n",
      "\n",
      "    accuracy                           0.63     32798\n",
      "   macro avg       0.59      0.59      0.59     32798\n",
      "weighted avg       0.63      0.63      0.63     32798\n",
      "\n"
     ]
    }
   ],
   "source": [
    "# Testing\n",
    "y_pred = knn_clf.predict(x_test)\n",
    "\n",
    "cnf_matrix = confusion_matrix(y_test,y_pred)\n",
    "print(\"Confusion matrix\\n\",cnf_matrix)\n",
    "\n",
    "accuarcy = accuracy_score(y_test,y_pred)\n",
    "print(\"Accuarcy\",accuarcy)\n",
    "\n",
    "clf_report = classification_report(y_test,y_pred)\n",
    "print(\"Classification report\\n\",clf_report)"
   ]
  },
  {
   "cell_type": "markdown",
   "id": "e0157850",
   "metadata": {},
   "source": [
    "#### using logistic regression:-"
   ]
  },
  {
   "cell_type": "code",
   "execution_count": 52,
   "id": "87b5e49c",
   "metadata": {},
   "outputs": [
    {
     "data": {
      "text/html": [
       "<style>#sk-container-id-2 {color: black;background-color: white;}#sk-container-id-2 pre{padding: 0;}#sk-container-id-2 div.sk-toggleable {background-color: white;}#sk-container-id-2 label.sk-toggleable__label {cursor: pointer;display: block;width: 100%;margin-bottom: 0;padding: 0.3em;box-sizing: border-box;text-align: center;}#sk-container-id-2 label.sk-toggleable__label-arrow:before {content: \"▸\";float: left;margin-right: 0.25em;color: #696969;}#sk-container-id-2 label.sk-toggleable__label-arrow:hover:before {color: black;}#sk-container-id-2 div.sk-estimator:hover label.sk-toggleable__label-arrow:before {color: black;}#sk-container-id-2 div.sk-toggleable__content {max-height: 0;max-width: 0;overflow: hidden;text-align: left;background-color: #f0f8ff;}#sk-container-id-2 div.sk-toggleable__content pre {margin: 0.2em;color: black;border-radius: 0.25em;background-color: #f0f8ff;}#sk-container-id-2 input.sk-toggleable__control:checked~div.sk-toggleable__content {max-height: 200px;max-width: 100%;overflow: auto;}#sk-container-id-2 input.sk-toggleable__control:checked~label.sk-toggleable__label-arrow:before {content: \"▾\";}#sk-container-id-2 div.sk-estimator input.sk-toggleable__control:checked~label.sk-toggleable__label {background-color: #d4ebff;}#sk-container-id-2 div.sk-label input.sk-toggleable__control:checked~label.sk-toggleable__label {background-color: #d4ebff;}#sk-container-id-2 input.sk-hidden--visually {border: 0;clip: rect(1px 1px 1px 1px);clip: rect(1px, 1px, 1px, 1px);height: 1px;margin: -1px;overflow: hidden;padding: 0;position: absolute;width: 1px;}#sk-container-id-2 div.sk-estimator {font-family: monospace;background-color: #f0f8ff;border: 1px dotted black;border-radius: 0.25em;box-sizing: border-box;margin-bottom: 0.5em;}#sk-container-id-2 div.sk-estimator:hover {background-color: #d4ebff;}#sk-container-id-2 div.sk-parallel-item::after {content: \"\";width: 100%;border-bottom: 1px solid gray;flex-grow: 1;}#sk-container-id-2 div.sk-label:hover label.sk-toggleable__label {background-color: #d4ebff;}#sk-container-id-2 div.sk-serial::before {content: \"\";position: absolute;border-left: 1px solid gray;box-sizing: border-box;top: 0;bottom: 0;left: 50%;z-index: 0;}#sk-container-id-2 div.sk-serial {display: flex;flex-direction: column;align-items: center;background-color: white;padding-right: 0.2em;padding-left: 0.2em;position: relative;}#sk-container-id-2 div.sk-item {position: relative;z-index: 1;}#sk-container-id-2 div.sk-parallel {display: flex;align-items: stretch;justify-content: center;background-color: white;position: relative;}#sk-container-id-2 div.sk-item::before, #sk-container-id-2 div.sk-parallel-item::before {content: \"\";position: absolute;border-left: 1px solid gray;box-sizing: border-box;top: 0;bottom: 0;left: 50%;z-index: -1;}#sk-container-id-2 div.sk-parallel-item {display: flex;flex-direction: column;z-index: 1;position: relative;background-color: white;}#sk-container-id-2 div.sk-parallel-item:first-child::after {align-self: flex-end;width: 50%;}#sk-container-id-2 div.sk-parallel-item:last-child::after {align-self: flex-start;width: 50%;}#sk-container-id-2 div.sk-parallel-item:only-child::after {width: 0;}#sk-container-id-2 div.sk-dashed-wrapped {border: 1px dashed gray;margin: 0 0.4em 0.5em 0.4em;box-sizing: border-box;padding-bottom: 0.4em;background-color: white;}#sk-container-id-2 div.sk-label label {font-family: monospace;font-weight: bold;display: inline-block;line-height: 1.2em;}#sk-container-id-2 div.sk-label-container {text-align: center;}#sk-container-id-2 div.sk-container {/* jupyter's `normalize.less` sets `[hidden] { display: none; }` but bootstrap.min.css set `[hidden] { display: none !important; }` so we also need the `!important` here to be able to override the default hidden behavior on the sphinx rendered scikit-learn.org. See: https://github.com/scikit-learn/scikit-learn/issues/21755 */display: inline-block !important;position: relative;}#sk-container-id-2 div.sk-text-repr-fallback {display: none;}</style><div id=\"sk-container-id-2\" class=\"sk-top-container\"><div class=\"sk-text-repr-fallback\"><pre>LogisticRegression()</pre><b>In a Jupyter environment, please rerun this cell to show the HTML representation or trust the notebook. <br />On GitHub, the HTML representation is unable to render, please try loading this page with nbviewer.org.</b></div><div class=\"sk-container\" hidden><div class=\"sk-item\"><div class=\"sk-estimator sk-toggleable\"><input class=\"sk-toggleable__control sk-hidden--visually\" id=\"sk-estimator-id-2\" type=\"checkbox\" checked><label for=\"sk-estimator-id-2\" class=\"sk-toggleable__label sk-toggleable__label-arrow\">LogisticRegression</label><div class=\"sk-toggleable__content\"><pre>LogisticRegression()</pre></div></div></div></div></div>"
      ],
      "text/plain": [
       "LogisticRegression()"
      ]
     },
     "execution_count": 52,
     "metadata": {},
     "output_type": "execute_result"
    }
   ],
   "source": [
    "lg_regression = LogisticRegression()\n",
    "lg_regression.fit(x_train,y_train)"
   ]
  },
  {
   "cell_type": "code",
   "execution_count": 53,
   "id": "f988fb8e",
   "metadata": {},
   "outputs": [
    {
     "name": "stdout",
     "output_type": "stream",
     "text": [
      "confusion matrix\n",
      " [[ 2406  9300]\n",
      " [ 2181 18911]]\n",
      "accuarcy\n",
      " 0.6499481675711933\n",
      "classificatio report\n",
      "               precision    recall  f1-score   support\n",
      "\n",
      "           0       0.52      0.21      0.30     11706\n",
      "           1       0.67      0.90      0.77     21092\n",
      "\n",
      "    accuracy                           0.65     32798\n",
      "   macro avg       0.60      0.55      0.53     32798\n",
      "weighted avg       0.62      0.65      0.60     32798\n",
      "\n"
     ]
    }
   ],
   "source": [
    "# Testing\n",
    "y_pred = lg_regression.predict(x_test)\n",
    "\n",
    "cnf_matrix = confusion_matrix(y_test,y_pred)\n",
    "print(\"confusion matrix\\n\",cnf_matrix)\n",
    "\n",
    "\n",
    "accuracy = accuracy_score(y_test,y_pred)\n",
    "print(\"accuarcy\\n\",accuracy)\n",
    "\n",
    "clf_report = classification_report(y_test,y_pred)\n",
    "print(\"classificatio report\\n\",clf_report)"
   ]
  },
  {
   "cell_type": "code",
   "execution_count": 54,
   "id": "d300333f",
   "metadata": {},
   "outputs": [
    {
     "name": "stdout",
     "output_type": "stream",
     "text": [
      "confusion matrix\n",
      " [[ 9943 37506]\n",
      " [ 8803 74937]]\n",
      "accuarcy\n",
      " 0.6470054653972513\n",
      "classificatio report\n",
      "               precision    recall  f1-score   support\n",
      "\n",
      "           0       0.53      0.21      0.30     47449\n",
      "           1       0.67      0.89      0.76     83740\n",
      "\n",
      "    accuracy                           0.65    131189\n",
      "   macro avg       0.60      0.55      0.53    131189\n",
      "weighted avg       0.62      0.65      0.60    131189\n",
      "\n"
     ]
    }
   ],
   "source": [
    "# Training\n",
    "y_pred_train = lg_regression.predict(x_train)\n",
    "\n",
    "cnf_matrix = confusion_matrix(y_train,y_pred_train)\n",
    "print(\"confusion matrix\\n\",cnf_matrix)\n",
    "\n",
    "\n",
    "accuracy = accuracy_score(y_train,y_pred_train)\n",
    "print(\"accuarcy\\n\",accuracy)\n",
    "\n",
    "clf_report = classification_report(y_train,y_pred_train)\n",
    "print(\"classificatio report\\n\",clf_report)"
   ]
  },
  {
   "cell_type": "markdown",
   "id": "ee8e45f1",
   "metadata": {},
   "source": [
    "### it seems that the model need more tuning to improve its accuarcy"
   ]
  },
  {
   "cell_type": "markdown",
   "id": "843334e0",
   "metadata": {},
   "source": [
    "# hyper parameter tuning:-"
   ]
  },
  {
   "cell_type": "markdown",
   "id": "abf238f6",
   "metadata": {},
   "source": [
    "## for KNN model:-"
   ]
  },
  {
   "cell_type": "markdown",
   "id": "1b754160",
   "metadata": {},
   "source": [
    "### GridSearchCV:-"
   ]
  },
  {
   "cell_type": "code",
   "execution_count": 56,
   "id": "c68a4679",
   "metadata": {},
   "outputs": [
    {
     "data": {
      "text/html": [
       "<style>#sk-container-id-3 {color: black;background-color: white;}#sk-container-id-3 pre{padding: 0;}#sk-container-id-3 div.sk-toggleable {background-color: white;}#sk-container-id-3 label.sk-toggleable__label {cursor: pointer;display: block;width: 100%;margin-bottom: 0;padding: 0.3em;box-sizing: border-box;text-align: center;}#sk-container-id-3 label.sk-toggleable__label-arrow:before {content: \"▸\";float: left;margin-right: 0.25em;color: #696969;}#sk-container-id-3 label.sk-toggleable__label-arrow:hover:before {color: black;}#sk-container-id-3 div.sk-estimator:hover label.sk-toggleable__label-arrow:before {color: black;}#sk-container-id-3 div.sk-toggleable__content {max-height: 0;max-width: 0;overflow: hidden;text-align: left;background-color: #f0f8ff;}#sk-container-id-3 div.sk-toggleable__content pre {margin: 0.2em;color: black;border-radius: 0.25em;background-color: #f0f8ff;}#sk-container-id-3 input.sk-toggleable__control:checked~div.sk-toggleable__content {max-height: 200px;max-width: 100%;overflow: auto;}#sk-container-id-3 input.sk-toggleable__control:checked~label.sk-toggleable__label-arrow:before {content: \"▾\";}#sk-container-id-3 div.sk-estimator input.sk-toggleable__control:checked~label.sk-toggleable__label {background-color: #d4ebff;}#sk-container-id-3 div.sk-label input.sk-toggleable__control:checked~label.sk-toggleable__label {background-color: #d4ebff;}#sk-container-id-3 input.sk-hidden--visually {border: 0;clip: rect(1px 1px 1px 1px);clip: rect(1px, 1px, 1px, 1px);height: 1px;margin: -1px;overflow: hidden;padding: 0;position: absolute;width: 1px;}#sk-container-id-3 div.sk-estimator {font-family: monospace;background-color: #f0f8ff;border: 1px dotted black;border-radius: 0.25em;box-sizing: border-box;margin-bottom: 0.5em;}#sk-container-id-3 div.sk-estimator:hover {background-color: #d4ebff;}#sk-container-id-3 div.sk-parallel-item::after {content: \"\";width: 100%;border-bottom: 1px solid gray;flex-grow: 1;}#sk-container-id-3 div.sk-label:hover label.sk-toggleable__label {background-color: #d4ebff;}#sk-container-id-3 div.sk-serial::before {content: \"\";position: absolute;border-left: 1px solid gray;box-sizing: border-box;top: 0;bottom: 0;left: 50%;z-index: 0;}#sk-container-id-3 div.sk-serial {display: flex;flex-direction: column;align-items: center;background-color: white;padding-right: 0.2em;padding-left: 0.2em;position: relative;}#sk-container-id-3 div.sk-item {position: relative;z-index: 1;}#sk-container-id-3 div.sk-parallel {display: flex;align-items: stretch;justify-content: center;background-color: white;position: relative;}#sk-container-id-3 div.sk-item::before, #sk-container-id-3 div.sk-parallel-item::before {content: \"\";position: absolute;border-left: 1px solid gray;box-sizing: border-box;top: 0;bottom: 0;left: 50%;z-index: -1;}#sk-container-id-3 div.sk-parallel-item {display: flex;flex-direction: column;z-index: 1;position: relative;background-color: white;}#sk-container-id-3 div.sk-parallel-item:first-child::after {align-self: flex-end;width: 50%;}#sk-container-id-3 div.sk-parallel-item:last-child::after {align-self: flex-start;width: 50%;}#sk-container-id-3 div.sk-parallel-item:only-child::after {width: 0;}#sk-container-id-3 div.sk-dashed-wrapped {border: 1px dashed gray;margin: 0 0.4em 0.5em 0.4em;box-sizing: border-box;padding-bottom: 0.4em;background-color: white;}#sk-container-id-3 div.sk-label label {font-family: monospace;font-weight: bold;display: inline-block;line-height: 1.2em;}#sk-container-id-3 div.sk-label-container {text-align: center;}#sk-container-id-3 div.sk-container {/* jupyter's `normalize.less` sets `[hidden] { display: none; }` but bootstrap.min.css set `[hidden] { display: none !important; }` so we also need the `!important` here to be able to override the default hidden behavior on the sphinx rendered scikit-learn.org. See: https://github.com/scikit-learn/scikit-learn/issues/21755 */display: inline-block !important;position: relative;}#sk-container-id-3 div.sk-text-repr-fallback {display: none;}</style><div id=\"sk-container-id-3\" class=\"sk-top-container\"><div class=\"sk-text-repr-fallback\"><pre>KNeighborsClassifier(n_neighbors=29, p=1)</pre><b>In a Jupyter environment, please rerun this cell to show the HTML representation or trust the notebook. <br />On GitHub, the HTML representation is unable to render, please try loading this page with nbviewer.org.</b></div><div class=\"sk-container\" hidden><div class=\"sk-item\"><div class=\"sk-estimator sk-toggleable\"><input class=\"sk-toggleable__control sk-hidden--visually\" id=\"sk-estimator-id-3\" type=\"checkbox\" checked><label for=\"sk-estimator-id-3\" class=\"sk-toggleable__label sk-toggleable__label-arrow\">KNeighborsClassifier</label><div class=\"sk-toggleable__content\"><pre>KNeighborsClassifier(n_neighbors=29, p=1)</pre></div></div></div></div></div>"
      ],
      "text/plain": [
       "KNeighborsClassifier(n_neighbors=29, p=1)"
      ]
     },
     "execution_count": 56,
     "metadata": {},
     "output_type": "execute_result"
    }
   ],
   "source": [
    "knn_clf =KNeighborsClassifier()\n",
    "hyper_p ={\"n_neighbors\":np.arange(3,30),\n",
    "         \"p\":[1,2]}\n",
    "gscv_knn_clf=GridSearchCV(knn_clf,hyper_p,cv=5)\n",
    "gscv_knn_clf.fit(x_train,y_train)\n",
    "gscv_knn_clf.best_estimator_"
   ]
  },
  {
   "cell_type": "code",
   "execution_count": 57,
   "id": "79e23c40",
   "metadata": {},
   "outputs": [
    {
     "data": {
      "text/html": [
       "<style>#sk-container-id-4 {color: black;background-color: white;}#sk-container-id-4 pre{padding: 0;}#sk-container-id-4 div.sk-toggleable {background-color: white;}#sk-container-id-4 label.sk-toggleable__label {cursor: pointer;display: block;width: 100%;margin-bottom: 0;padding: 0.3em;box-sizing: border-box;text-align: center;}#sk-container-id-4 label.sk-toggleable__label-arrow:before {content: \"▸\";float: left;margin-right: 0.25em;color: #696969;}#sk-container-id-4 label.sk-toggleable__label-arrow:hover:before {color: black;}#sk-container-id-4 div.sk-estimator:hover label.sk-toggleable__label-arrow:before {color: black;}#sk-container-id-4 div.sk-toggleable__content {max-height: 0;max-width: 0;overflow: hidden;text-align: left;background-color: #f0f8ff;}#sk-container-id-4 div.sk-toggleable__content pre {margin: 0.2em;color: black;border-radius: 0.25em;background-color: #f0f8ff;}#sk-container-id-4 input.sk-toggleable__control:checked~div.sk-toggleable__content {max-height: 200px;max-width: 100%;overflow: auto;}#sk-container-id-4 input.sk-toggleable__control:checked~label.sk-toggleable__label-arrow:before {content: \"▾\";}#sk-container-id-4 div.sk-estimator input.sk-toggleable__control:checked~label.sk-toggleable__label {background-color: #d4ebff;}#sk-container-id-4 div.sk-label input.sk-toggleable__control:checked~label.sk-toggleable__label {background-color: #d4ebff;}#sk-container-id-4 input.sk-hidden--visually {border: 0;clip: rect(1px 1px 1px 1px);clip: rect(1px, 1px, 1px, 1px);height: 1px;margin: -1px;overflow: hidden;padding: 0;position: absolute;width: 1px;}#sk-container-id-4 div.sk-estimator {font-family: monospace;background-color: #f0f8ff;border: 1px dotted black;border-radius: 0.25em;box-sizing: border-box;margin-bottom: 0.5em;}#sk-container-id-4 div.sk-estimator:hover {background-color: #d4ebff;}#sk-container-id-4 div.sk-parallel-item::after {content: \"\";width: 100%;border-bottom: 1px solid gray;flex-grow: 1;}#sk-container-id-4 div.sk-label:hover label.sk-toggleable__label {background-color: #d4ebff;}#sk-container-id-4 div.sk-serial::before {content: \"\";position: absolute;border-left: 1px solid gray;box-sizing: border-box;top: 0;bottom: 0;left: 50%;z-index: 0;}#sk-container-id-4 div.sk-serial {display: flex;flex-direction: column;align-items: center;background-color: white;padding-right: 0.2em;padding-left: 0.2em;position: relative;}#sk-container-id-4 div.sk-item {position: relative;z-index: 1;}#sk-container-id-4 div.sk-parallel {display: flex;align-items: stretch;justify-content: center;background-color: white;position: relative;}#sk-container-id-4 div.sk-item::before, #sk-container-id-4 div.sk-parallel-item::before {content: \"\";position: absolute;border-left: 1px solid gray;box-sizing: border-box;top: 0;bottom: 0;left: 50%;z-index: -1;}#sk-container-id-4 div.sk-parallel-item {display: flex;flex-direction: column;z-index: 1;position: relative;background-color: white;}#sk-container-id-4 div.sk-parallel-item:first-child::after {align-self: flex-end;width: 50%;}#sk-container-id-4 div.sk-parallel-item:last-child::after {align-self: flex-start;width: 50%;}#sk-container-id-4 div.sk-parallel-item:only-child::after {width: 0;}#sk-container-id-4 div.sk-dashed-wrapped {border: 1px dashed gray;margin: 0 0.4em 0.5em 0.4em;box-sizing: border-box;padding-bottom: 0.4em;background-color: white;}#sk-container-id-4 div.sk-label label {font-family: monospace;font-weight: bold;display: inline-block;line-height: 1.2em;}#sk-container-id-4 div.sk-label-container {text-align: center;}#sk-container-id-4 div.sk-container {/* jupyter's `normalize.less` sets `[hidden] { display: none; }` but bootstrap.min.css set `[hidden] { display: none !important; }` so we also need the `!important` here to be able to override the default hidden behavior on the sphinx rendered scikit-learn.org. See: https://github.com/scikit-learn/scikit-learn/issues/21755 */display: inline-block !important;position: relative;}#sk-container-id-4 div.sk-text-repr-fallback {display: none;}</style><div id=\"sk-container-id-4\" class=\"sk-top-container\"><div class=\"sk-text-repr-fallback\"><pre>KNeighborsClassifier(n_neighbors=29, p=1)</pre><b>In a Jupyter environment, please rerun this cell to show the HTML representation or trust the notebook. <br />On GitHub, the HTML representation is unable to render, please try loading this page with nbviewer.org.</b></div><div class=\"sk-container\" hidden><div class=\"sk-item\"><div class=\"sk-estimator sk-toggleable\"><input class=\"sk-toggleable__control sk-hidden--visually\" id=\"sk-estimator-id-4\" type=\"checkbox\" checked><label for=\"sk-estimator-id-4\" class=\"sk-toggleable__label sk-toggleable__label-arrow\">KNeighborsClassifier</label><div class=\"sk-toggleable__content\"><pre>KNeighborsClassifier(n_neighbors=29, p=1)</pre></div></div></div></div></div>"
      ],
      "text/plain": [
       "KNeighborsClassifier(n_neighbors=29, p=1)"
      ]
     },
     "execution_count": 57,
     "metadata": {},
     "output_type": "execute_result"
    }
   ],
   "source": [
    "knn_clf = KNeighborsClassifier(n_neighbors=29, p=1)\n",
    "knn_clf.fit(x_train,y_train)"
   ]
  },
  {
   "cell_type": "code",
   "execution_count": 58,
   "id": "19bbd761",
   "metadata": {},
   "outputs": [
    {
     "name": "stdout",
     "output_type": "stream",
     "text": [
      "Confusion matrix\n",
      " [[23363 24086]\n",
      " [16864 66876]]\n",
      "Accuarcy 0.6878549268612459\n",
      "Classification report\n",
      "               precision    recall  f1-score   support\n",
      "\n",
      "           0       0.58      0.49      0.53     47449\n",
      "           1       0.74      0.80      0.77     83740\n",
      "\n",
      "    accuracy                           0.69    131189\n",
      "   macro avg       0.66      0.65      0.65    131189\n",
      "weighted avg       0.68      0.69      0.68    131189\n",
      "\n"
     ]
    }
   ],
   "source": [
    "# Training\n",
    "y_pred_train = knn_clf.predict(x_train)\n",
    "\n",
    "cnf_matrix = confusion_matrix(y_train,y_pred_train)\n",
    "print(\"Confusion matrix\\n\",cnf_matrix)\n",
    "\n",
    "accuarcy = accuracy_score(y_train,y_pred_train)\n",
    "print(\"Accuarcy\",accuarcy)\n",
    "\n",
    "clf_report = classification_report(y_train,y_pred_train)\n",
    "print(\"Classification report\\n\",clf_report)"
   ]
  },
  {
   "cell_type": "code",
   "execution_count": 59,
   "id": "61b58389",
   "metadata": {},
   "outputs": [
    {
     "name": "stdout",
     "output_type": "stream",
     "text": [
      "Confusion matrix\n",
      " [[ 5035  6671]\n",
      " [ 4919 16173]]\n",
      "Accuarcy 0.6466247941947679\n",
      "Classification report\n",
      "               precision    recall  f1-score   support\n",
      "\n",
      "           0       0.51      0.43      0.46     11706\n",
      "           1       0.71      0.77      0.74     21092\n",
      "\n",
      "    accuracy                           0.65     32798\n",
      "   macro avg       0.61      0.60      0.60     32798\n",
      "weighted avg       0.64      0.65      0.64     32798\n",
      "\n"
     ]
    }
   ],
   "source": [
    "# Testing\n",
    "y_pred = knn_clf.predict(x_test)\n",
    "\n",
    "cnf_matrix = confusion_matrix(y_test,y_pred)\n",
    "print(\"Confusion matrix\\n\",cnf_matrix)\n",
    "\n",
    "accuarcy = accuracy_score(y_test,y_pred)\n",
    "print(\"Accuarcy\",accuarcy)\n",
    "\n",
    "clf_report = classification_report(y_test,y_pred)\n",
    "print(\"Classification report\\n\",clf_report)"
   ]
  },
  {
   "cell_type": "markdown",
   "id": "7daf5e17",
   "metadata": {},
   "source": [
    "## 2) RandomizeD SearchCV:-"
   ]
  },
  {
   "cell_type": "code",
   "execution_count": 60,
   "id": "df40d3ac",
   "metadata": {},
   "outputs": [
    {
     "data": {
      "text/html": [
       "<style>#sk-container-id-5 {color: black;background-color: white;}#sk-container-id-5 pre{padding: 0;}#sk-container-id-5 div.sk-toggleable {background-color: white;}#sk-container-id-5 label.sk-toggleable__label {cursor: pointer;display: block;width: 100%;margin-bottom: 0;padding: 0.3em;box-sizing: border-box;text-align: center;}#sk-container-id-5 label.sk-toggleable__label-arrow:before {content: \"▸\";float: left;margin-right: 0.25em;color: #696969;}#sk-container-id-5 label.sk-toggleable__label-arrow:hover:before {color: black;}#sk-container-id-5 div.sk-estimator:hover label.sk-toggleable__label-arrow:before {color: black;}#sk-container-id-5 div.sk-toggleable__content {max-height: 0;max-width: 0;overflow: hidden;text-align: left;background-color: #f0f8ff;}#sk-container-id-5 div.sk-toggleable__content pre {margin: 0.2em;color: black;border-radius: 0.25em;background-color: #f0f8ff;}#sk-container-id-5 input.sk-toggleable__control:checked~div.sk-toggleable__content {max-height: 200px;max-width: 100%;overflow: auto;}#sk-container-id-5 input.sk-toggleable__control:checked~label.sk-toggleable__label-arrow:before {content: \"▾\";}#sk-container-id-5 div.sk-estimator input.sk-toggleable__control:checked~label.sk-toggleable__label {background-color: #d4ebff;}#sk-container-id-5 div.sk-label input.sk-toggleable__control:checked~label.sk-toggleable__label {background-color: #d4ebff;}#sk-container-id-5 input.sk-hidden--visually {border: 0;clip: rect(1px 1px 1px 1px);clip: rect(1px, 1px, 1px, 1px);height: 1px;margin: -1px;overflow: hidden;padding: 0;position: absolute;width: 1px;}#sk-container-id-5 div.sk-estimator {font-family: monospace;background-color: #f0f8ff;border: 1px dotted black;border-radius: 0.25em;box-sizing: border-box;margin-bottom: 0.5em;}#sk-container-id-5 div.sk-estimator:hover {background-color: #d4ebff;}#sk-container-id-5 div.sk-parallel-item::after {content: \"\";width: 100%;border-bottom: 1px solid gray;flex-grow: 1;}#sk-container-id-5 div.sk-label:hover label.sk-toggleable__label {background-color: #d4ebff;}#sk-container-id-5 div.sk-serial::before {content: \"\";position: absolute;border-left: 1px solid gray;box-sizing: border-box;top: 0;bottom: 0;left: 50%;z-index: 0;}#sk-container-id-5 div.sk-serial {display: flex;flex-direction: column;align-items: center;background-color: white;padding-right: 0.2em;padding-left: 0.2em;position: relative;}#sk-container-id-5 div.sk-item {position: relative;z-index: 1;}#sk-container-id-5 div.sk-parallel {display: flex;align-items: stretch;justify-content: center;background-color: white;position: relative;}#sk-container-id-5 div.sk-item::before, #sk-container-id-5 div.sk-parallel-item::before {content: \"\";position: absolute;border-left: 1px solid gray;box-sizing: border-box;top: 0;bottom: 0;left: 50%;z-index: -1;}#sk-container-id-5 div.sk-parallel-item {display: flex;flex-direction: column;z-index: 1;position: relative;background-color: white;}#sk-container-id-5 div.sk-parallel-item:first-child::after {align-self: flex-end;width: 50%;}#sk-container-id-5 div.sk-parallel-item:last-child::after {align-self: flex-start;width: 50%;}#sk-container-id-5 div.sk-parallel-item:only-child::after {width: 0;}#sk-container-id-5 div.sk-dashed-wrapped {border: 1px dashed gray;margin: 0 0.4em 0.5em 0.4em;box-sizing: border-box;padding-bottom: 0.4em;background-color: white;}#sk-container-id-5 div.sk-label label {font-family: monospace;font-weight: bold;display: inline-block;line-height: 1.2em;}#sk-container-id-5 div.sk-label-container {text-align: center;}#sk-container-id-5 div.sk-container {/* jupyter's `normalize.less` sets `[hidden] { display: none; }` but bootstrap.min.css set `[hidden] { display: none !important; }` so we also need the `!important` here to be able to override the default hidden behavior on the sphinx rendered scikit-learn.org. See: https://github.com/scikit-learn/scikit-learn/issues/21755 */display: inline-block !important;position: relative;}#sk-container-id-5 div.sk-text-repr-fallback {display: none;}</style><div id=\"sk-container-id-5\" class=\"sk-top-container\"><div class=\"sk-text-repr-fallback\"><pre>KNeighborsClassifier(n_neighbors=27)</pre><b>In a Jupyter environment, please rerun this cell to show the HTML representation or trust the notebook. <br />On GitHub, the HTML representation is unable to render, please try loading this page with nbviewer.org.</b></div><div class=\"sk-container\" hidden><div class=\"sk-item\"><div class=\"sk-estimator sk-toggleable\"><input class=\"sk-toggleable__control sk-hidden--visually\" id=\"sk-estimator-id-5\" type=\"checkbox\" checked><label for=\"sk-estimator-id-5\" class=\"sk-toggleable__label sk-toggleable__label-arrow\">KNeighborsClassifier</label><div class=\"sk-toggleable__content\"><pre>KNeighborsClassifier(n_neighbors=27)</pre></div></div></div></div></div>"
      ],
      "text/plain": [
       "KNeighborsClassifier(n_neighbors=27)"
      ]
     },
     "execution_count": 60,
     "metadata": {},
     "output_type": "execute_result"
    }
   ],
   "source": [
    "knn_clf = KNeighborsClassifier()\n",
    "hyperparameter = {\"n_neighbors\":np.arange(3,30),\n",
    "                 \"p\":[1,2]}\n",
    "rscv_knn_clf = RandomizedSearchCV(knn_clf,hyperparameter,cv = 5)\n",
    "rscv_knn_clf.fit(x_train,y_train)\n",
    "rscv_knn_clf.best_estimator_"
   ]
  },
  {
   "cell_type": "code",
   "execution_count": 61,
   "id": "5d62168c",
   "metadata": {},
   "outputs": [
    {
     "data": {
      "text/html": [
       "<style>#sk-container-id-6 {color: black;background-color: white;}#sk-container-id-6 pre{padding: 0;}#sk-container-id-6 div.sk-toggleable {background-color: white;}#sk-container-id-6 label.sk-toggleable__label {cursor: pointer;display: block;width: 100%;margin-bottom: 0;padding: 0.3em;box-sizing: border-box;text-align: center;}#sk-container-id-6 label.sk-toggleable__label-arrow:before {content: \"▸\";float: left;margin-right: 0.25em;color: #696969;}#sk-container-id-6 label.sk-toggleable__label-arrow:hover:before {color: black;}#sk-container-id-6 div.sk-estimator:hover label.sk-toggleable__label-arrow:before {color: black;}#sk-container-id-6 div.sk-toggleable__content {max-height: 0;max-width: 0;overflow: hidden;text-align: left;background-color: #f0f8ff;}#sk-container-id-6 div.sk-toggleable__content pre {margin: 0.2em;color: black;border-radius: 0.25em;background-color: #f0f8ff;}#sk-container-id-6 input.sk-toggleable__control:checked~div.sk-toggleable__content {max-height: 200px;max-width: 100%;overflow: auto;}#sk-container-id-6 input.sk-toggleable__control:checked~label.sk-toggleable__label-arrow:before {content: \"▾\";}#sk-container-id-6 div.sk-estimator input.sk-toggleable__control:checked~label.sk-toggleable__label {background-color: #d4ebff;}#sk-container-id-6 div.sk-label input.sk-toggleable__control:checked~label.sk-toggleable__label {background-color: #d4ebff;}#sk-container-id-6 input.sk-hidden--visually {border: 0;clip: rect(1px 1px 1px 1px);clip: rect(1px, 1px, 1px, 1px);height: 1px;margin: -1px;overflow: hidden;padding: 0;position: absolute;width: 1px;}#sk-container-id-6 div.sk-estimator {font-family: monospace;background-color: #f0f8ff;border: 1px dotted black;border-radius: 0.25em;box-sizing: border-box;margin-bottom: 0.5em;}#sk-container-id-6 div.sk-estimator:hover {background-color: #d4ebff;}#sk-container-id-6 div.sk-parallel-item::after {content: \"\";width: 100%;border-bottom: 1px solid gray;flex-grow: 1;}#sk-container-id-6 div.sk-label:hover label.sk-toggleable__label {background-color: #d4ebff;}#sk-container-id-6 div.sk-serial::before {content: \"\";position: absolute;border-left: 1px solid gray;box-sizing: border-box;top: 0;bottom: 0;left: 50%;z-index: 0;}#sk-container-id-6 div.sk-serial {display: flex;flex-direction: column;align-items: center;background-color: white;padding-right: 0.2em;padding-left: 0.2em;position: relative;}#sk-container-id-6 div.sk-item {position: relative;z-index: 1;}#sk-container-id-6 div.sk-parallel {display: flex;align-items: stretch;justify-content: center;background-color: white;position: relative;}#sk-container-id-6 div.sk-item::before, #sk-container-id-6 div.sk-parallel-item::before {content: \"\";position: absolute;border-left: 1px solid gray;box-sizing: border-box;top: 0;bottom: 0;left: 50%;z-index: -1;}#sk-container-id-6 div.sk-parallel-item {display: flex;flex-direction: column;z-index: 1;position: relative;background-color: white;}#sk-container-id-6 div.sk-parallel-item:first-child::after {align-self: flex-end;width: 50%;}#sk-container-id-6 div.sk-parallel-item:last-child::after {align-self: flex-start;width: 50%;}#sk-container-id-6 div.sk-parallel-item:only-child::after {width: 0;}#sk-container-id-6 div.sk-dashed-wrapped {border: 1px dashed gray;margin: 0 0.4em 0.5em 0.4em;box-sizing: border-box;padding-bottom: 0.4em;background-color: white;}#sk-container-id-6 div.sk-label label {font-family: monospace;font-weight: bold;display: inline-block;line-height: 1.2em;}#sk-container-id-6 div.sk-label-container {text-align: center;}#sk-container-id-6 div.sk-container {/* jupyter's `normalize.less` sets `[hidden] { display: none; }` but bootstrap.min.css set `[hidden] { display: none !important; }` so we also need the `!important` here to be able to override the default hidden behavior on the sphinx rendered scikit-learn.org. See: https://github.com/scikit-learn/scikit-learn/issues/21755 */display: inline-block !important;position: relative;}#sk-container-id-6 div.sk-text-repr-fallback {display: none;}</style><div id=\"sk-container-id-6\" class=\"sk-top-container\"><div class=\"sk-text-repr-fallback\"><pre>KNeighborsClassifier(n_neighbors=23, p=1)</pre><b>In a Jupyter environment, please rerun this cell to show the HTML representation or trust the notebook. <br />On GitHub, the HTML representation is unable to render, please try loading this page with nbviewer.org.</b></div><div class=\"sk-container\" hidden><div class=\"sk-item\"><div class=\"sk-estimator sk-toggleable\"><input class=\"sk-toggleable__control sk-hidden--visually\" id=\"sk-estimator-id-6\" type=\"checkbox\" checked><label for=\"sk-estimator-id-6\" class=\"sk-toggleable__label sk-toggleable__label-arrow\">KNeighborsClassifier</label><div class=\"sk-toggleable__content\"><pre>KNeighborsClassifier(n_neighbors=23, p=1)</pre></div></div></div></div></div>"
      ],
      "text/plain": [
       "KNeighborsClassifier(n_neighbors=23, p=1)"
      ]
     },
     "execution_count": 61,
     "metadata": {},
     "output_type": "execute_result"
    }
   ],
   "source": [
    "knn_clf = KNeighborsClassifier(n_neighbors=23, p=1)\n",
    "knn_clf.fit(x_train,y_train)"
   ]
  },
  {
   "cell_type": "code",
   "execution_count": 62,
   "id": "2ea1c6bf",
   "metadata": {},
   "outputs": [
    {
     "name": "stdout",
     "output_type": "stream",
     "text": [
      "Confusion matrix\n",
      " [[24017 23432]\n",
      " [16810 66930]]\n",
      "Accuarcy 0.6932517207997622\n",
      "Classification report\n",
      "               precision    recall  f1-score   support\n",
      "\n",
      "           0       0.59      0.51      0.54     47449\n",
      "           1       0.74      0.80      0.77     83740\n",
      "\n",
      "    accuracy                           0.69    131189\n",
      "   macro avg       0.66      0.65      0.66    131189\n",
      "weighted avg       0.69      0.69      0.69    131189\n",
      "\n"
     ]
    }
   ],
   "source": [
    "# Training\n",
    "y_pred_train = knn_clf.predict(x_train)\n",
    "\n",
    "cnf_matrix = confusion_matrix(y_train,y_pred_train)\n",
    "print(\"Confusion matrix\\n\",cnf_matrix)\n",
    "\n",
    "accuarcy = accuracy_score(y_train,y_pred_train)\n",
    "print(\"Accuarcy\",accuarcy)\n",
    "\n",
    "clf_report = classification_report(y_train,y_pred_train)\n",
    "print(\"Classification report\\n\",clf_report)"
   ]
  },
  {
   "cell_type": "code",
   "execution_count": 63,
   "id": "aff04b28",
   "metadata": {},
   "outputs": [
    {
     "name": "stdout",
     "output_type": "stream",
     "text": [
      "Confusion matrix\n",
      " [[ 5086  6620]\n",
      " [ 5046 16046]]\n",
      "Accuarcy 0.6443075797304714\n",
      "Classification report\n",
      "               precision    recall  f1-score   support\n",
      "\n",
      "           0       0.50      0.43      0.47     11706\n",
      "           1       0.71      0.76      0.73     21092\n",
      "\n",
      "    accuracy                           0.64     32798\n",
      "   macro avg       0.60      0.60      0.60     32798\n",
      "weighted avg       0.63      0.64      0.64     32798\n",
      "\n"
     ]
    }
   ],
   "source": [
    "# Testing\n",
    "y_pred = knn_clf.predict(x_test)\n",
    "\n",
    "cnf_matrix = confusion_matrix(y_test,y_pred)\n",
    "print(\"Confusion matrix\\n\",cnf_matrix)\n",
    "\n",
    "accuarcy = accuracy_score(y_test,y_pred)\n",
    "print(\"Accuarcy\",accuarcy)\n",
    "\n",
    "clf_report = classification_report(y_test,y_pred)\n",
    "print(\"Classification report\\n\",clf_report)"
   ]
  },
  {
   "cell_type": "code",
   "execution_count": 64,
   "id": "c65440d7",
   "metadata": {},
   "outputs": [
    {
     "data": {
      "text/html": [
       "<style>#sk-container-id-7 {color: black;background-color: white;}#sk-container-id-7 pre{padding: 0;}#sk-container-id-7 div.sk-toggleable {background-color: white;}#sk-container-id-7 label.sk-toggleable__label {cursor: pointer;display: block;width: 100%;margin-bottom: 0;padding: 0.3em;box-sizing: border-box;text-align: center;}#sk-container-id-7 label.sk-toggleable__label-arrow:before {content: \"▸\";float: left;margin-right: 0.25em;color: #696969;}#sk-container-id-7 label.sk-toggleable__label-arrow:hover:before {color: black;}#sk-container-id-7 div.sk-estimator:hover label.sk-toggleable__label-arrow:before {color: black;}#sk-container-id-7 div.sk-toggleable__content {max-height: 0;max-width: 0;overflow: hidden;text-align: left;background-color: #f0f8ff;}#sk-container-id-7 div.sk-toggleable__content pre {margin: 0.2em;color: black;border-radius: 0.25em;background-color: #f0f8ff;}#sk-container-id-7 input.sk-toggleable__control:checked~div.sk-toggleable__content {max-height: 200px;max-width: 100%;overflow: auto;}#sk-container-id-7 input.sk-toggleable__control:checked~label.sk-toggleable__label-arrow:before {content: \"▾\";}#sk-container-id-7 div.sk-estimator input.sk-toggleable__control:checked~label.sk-toggleable__label {background-color: #d4ebff;}#sk-container-id-7 div.sk-label input.sk-toggleable__control:checked~label.sk-toggleable__label {background-color: #d4ebff;}#sk-container-id-7 input.sk-hidden--visually {border: 0;clip: rect(1px 1px 1px 1px);clip: rect(1px, 1px, 1px, 1px);height: 1px;margin: -1px;overflow: hidden;padding: 0;position: absolute;width: 1px;}#sk-container-id-7 div.sk-estimator {font-family: monospace;background-color: #f0f8ff;border: 1px dotted black;border-radius: 0.25em;box-sizing: border-box;margin-bottom: 0.5em;}#sk-container-id-7 div.sk-estimator:hover {background-color: #d4ebff;}#sk-container-id-7 div.sk-parallel-item::after {content: \"\";width: 100%;border-bottom: 1px solid gray;flex-grow: 1;}#sk-container-id-7 div.sk-label:hover label.sk-toggleable__label {background-color: #d4ebff;}#sk-container-id-7 div.sk-serial::before {content: \"\";position: absolute;border-left: 1px solid gray;box-sizing: border-box;top: 0;bottom: 0;left: 50%;z-index: 0;}#sk-container-id-7 div.sk-serial {display: flex;flex-direction: column;align-items: center;background-color: white;padding-right: 0.2em;padding-left: 0.2em;position: relative;}#sk-container-id-7 div.sk-item {position: relative;z-index: 1;}#sk-container-id-7 div.sk-parallel {display: flex;align-items: stretch;justify-content: center;background-color: white;position: relative;}#sk-container-id-7 div.sk-item::before, #sk-container-id-7 div.sk-parallel-item::before {content: \"\";position: absolute;border-left: 1px solid gray;box-sizing: border-box;top: 0;bottom: 0;left: 50%;z-index: -1;}#sk-container-id-7 div.sk-parallel-item {display: flex;flex-direction: column;z-index: 1;position: relative;background-color: white;}#sk-container-id-7 div.sk-parallel-item:first-child::after {align-self: flex-end;width: 50%;}#sk-container-id-7 div.sk-parallel-item:last-child::after {align-self: flex-start;width: 50%;}#sk-container-id-7 div.sk-parallel-item:only-child::after {width: 0;}#sk-container-id-7 div.sk-dashed-wrapped {border: 1px dashed gray;margin: 0 0.4em 0.5em 0.4em;box-sizing: border-box;padding-bottom: 0.4em;background-color: white;}#sk-container-id-7 div.sk-label label {font-family: monospace;font-weight: bold;display: inline-block;line-height: 1.2em;}#sk-container-id-7 div.sk-label-container {text-align: center;}#sk-container-id-7 div.sk-container {/* jupyter's `normalize.less` sets `[hidden] { display: none; }` but bootstrap.min.css set `[hidden] { display: none !important; }` so we also need the `!important` here to be able to override the default hidden behavior on the sphinx rendered scikit-learn.org. See: https://github.com/scikit-learn/scikit-learn/issues/21755 */display: inline-block !important;position: relative;}#sk-container-id-7 div.sk-text-repr-fallback {display: none;}</style><div id=\"sk-container-id-7\" class=\"sk-top-container\"><div class=\"sk-text-repr-fallback\"><pre>DecisionTreeClassifier()</pre><b>In a Jupyter environment, please rerun this cell to show the HTML representation or trust the notebook. <br />On GitHub, the HTML representation is unable to render, please try loading this page with nbviewer.org.</b></div><div class=\"sk-container\" hidden><div class=\"sk-item\"><div class=\"sk-estimator sk-toggleable\"><input class=\"sk-toggleable__control sk-hidden--visually\" id=\"sk-estimator-id-7\" type=\"checkbox\" checked><label for=\"sk-estimator-id-7\" class=\"sk-toggleable__label sk-toggleable__label-arrow\">DecisionTreeClassifier</label><div class=\"sk-toggleable__content\"><pre>DecisionTreeClassifier()</pre></div></div></div></div></div>"
      ],
      "text/plain": [
       "DecisionTreeClassifier()"
      ]
     },
     "execution_count": 64,
     "metadata": {},
     "output_type": "execute_result"
    }
   ],
   "source": [
    "dt_clf = DecisionTreeClassifier()\n",
    "dt_clf.fit(x_train,y_train)"
   ]
  },
  {
   "cell_type": "code",
   "execution_count": 65,
   "id": "ffc89ded",
   "metadata": {},
   "outputs": [
    {
     "name": "stdout",
     "output_type": "stream",
     "text": [
      "Confusion matrix\n",
      " [[47449     0]\n",
      " [    0 83740]]\n",
      "accuarcy\n",
      " 1.0\n",
      "classification report\n",
      "               precision    recall  f1-score   support\n",
      "\n",
      "           0       1.00      1.00      1.00     47449\n",
      "           1       1.00      1.00      1.00     83740\n",
      "\n",
      "    accuracy                           1.00    131189\n",
      "   macro avg       1.00      1.00      1.00    131189\n",
      "weighted avg       1.00      1.00      1.00    131189\n",
      "\n"
     ]
    }
   ],
   "source": [
    "# Training\n",
    "y_pred_train = dt_clf.predict(x_train)\n",
    "\n",
    "cnf_matrix = confusion_matrix(y_train,y_pred_train)\n",
    "\n",
    "print(\"Confusion matrix\\n\",cnf_matrix)\n",
    "\n",
    "accuracy = accuracy_score(y_train,y_pred_train)\n",
    "print(\"accuarcy\\n\",accuracy)\n",
    "\n",
    "clf_report = classification_report(y_train,y_pred_train)\n",
    "print(\"classification report\\n\",clf_report)\n"
   ]
  },
  {
   "cell_type": "code",
   "execution_count": 66,
   "id": "d5211492",
   "metadata": {},
   "outputs": [
    {
     "name": "stdout",
     "output_type": "stream",
     "text": [
      "Confusion matrix\n",
      " [[ 5970  5736]\n",
      " [ 5924 15168]]\n",
      "accuarcy\n",
      " 0.6444905177144948\n",
      "classification report\n",
      "               precision    recall  f1-score   support\n",
      "\n",
      "           0       0.50      0.51      0.51     11706\n",
      "           1       0.73      0.72      0.72     21092\n",
      "\n",
      "    accuracy                           0.64     32798\n",
      "   macro avg       0.61      0.61      0.61     32798\n",
      "weighted avg       0.65      0.64      0.65     32798\n",
      "\n"
     ]
    }
   ],
   "source": [
    "# Testing\n",
    "y_pred = dt_clf.predict(x_test)\n",
    "\n",
    "cnf_matrix = confusion_matrix(y_test,y_pred)\n",
    "\n",
    "print(\"Confusion matrix\\n\",cnf_matrix)\n",
    "\n",
    "accuracy = accuracy_score(y_test,y_pred)\n",
    "print(\"accuarcy\\n\",accuracy)\n",
    "\n",
    "clf_report = classification_report(y_test,y_pred)\n",
    "print(\"classification report\\n\",clf_report)\n"
   ]
  },
  {
   "cell_type": "markdown",
   "id": "c306e94a",
   "metadata": {},
   "source": [
    "## hyperparameter tuning for DT:-"
   ]
  },
  {
   "cell_type": "code",
   "execution_count": 67,
   "id": "7d01bb21",
   "metadata": {},
   "outputs": [
    {
     "data": {
      "text/html": [
       "<style>#sk-container-id-8 {color: black;background-color: white;}#sk-container-id-8 pre{padding: 0;}#sk-container-id-8 div.sk-toggleable {background-color: white;}#sk-container-id-8 label.sk-toggleable__label {cursor: pointer;display: block;width: 100%;margin-bottom: 0;padding: 0.3em;box-sizing: border-box;text-align: center;}#sk-container-id-8 label.sk-toggleable__label-arrow:before {content: \"▸\";float: left;margin-right: 0.25em;color: #696969;}#sk-container-id-8 label.sk-toggleable__label-arrow:hover:before {color: black;}#sk-container-id-8 div.sk-estimator:hover label.sk-toggleable__label-arrow:before {color: black;}#sk-container-id-8 div.sk-toggleable__content {max-height: 0;max-width: 0;overflow: hidden;text-align: left;background-color: #f0f8ff;}#sk-container-id-8 div.sk-toggleable__content pre {margin: 0.2em;color: black;border-radius: 0.25em;background-color: #f0f8ff;}#sk-container-id-8 input.sk-toggleable__control:checked~div.sk-toggleable__content {max-height: 200px;max-width: 100%;overflow: auto;}#sk-container-id-8 input.sk-toggleable__control:checked~label.sk-toggleable__label-arrow:before {content: \"▾\";}#sk-container-id-8 div.sk-estimator input.sk-toggleable__control:checked~label.sk-toggleable__label {background-color: #d4ebff;}#sk-container-id-8 div.sk-label input.sk-toggleable__control:checked~label.sk-toggleable__label {background-color: #d4ebff;}#sk-container-id-8 input.sk-hidden--visually {border: 0;clip: rect(1px 1px 1px 1px);clip: rect(1px, 1px, 1px, 1px);height: 1px;margin: -1px;overflow: hidden;padding: 0;position: absolute;width: 1px;}#sk-container-id-8 div.sk-estimator {font-family: monospace;background-color: #f0f8ff;border: 1px dotted black;border-radius: 0.25em;box-sizing: border-box;margin-bottom: 0.5em;}#sk-container-id-8 div.sk-estimator:hover {background-color: #d4ebff;}#sk-container-id-8 div.sk-parallel-item::after {content: \"\";width: 100%;border-bottom: 1px solid gray;flex-grow: 1;}#sk-container-id-8 div.sk-label:hover label.sk-toggleable__label {background-color: #d4ebff;}#sk-container-id-8 div.sk-serial::before {content: \"\";position: absolute;border-left: 1px solid gray;box-sizing: border-box;top: 0;bottom: 0;left: 50%;z-index: 0;}#sk-container-id-8 div.sk-serial {display: flex;flex-direction: column;align-items: center;background-color: white;padding-right: 0.2em;padding-left: 0.2em;position: relative;}#sk-container-id-8 div.sk-item {position: relative;z-index: 1;}#sk-container-id-8 div.sk-parallel {display: flex;align-items: stretch;justify-content: center;background-color: white;position: relative;}#sk-container-id-8 div.sk-item::before, #sk-container-id-8 div.sk-parallel-item::before {content: \"\";position: absolute;border-left: 1px solid gray;box-sizing: border-box;top: 0;bottom: 0;left: 50%;z-index: -1;}#sk-container-id-8 div.sk-parallel-item {display: flex;flex-direction: column;z-index: 1;position: relative;background-color: white;}#sk-container-id-8 div.sk-parallel-item:first-child::after {align-self: flex-end;width: 50%;}#sk-container-id-8 div.sk-parallel-item:last-child::after {align-self: flex-start;width: 50%;}#sk-container-id-8 div.sk-parallel-item:only-child::after {width: 0;}#sk-container-id-8 div.sk-dashed-wrapped {border: 1px dashed gray;margin: 0 0.4em 0.5em 0.4em;box-sizing: border-box;padding-bottom: 0.4em;background-color: white;}#sk-container-id-8 div.sk-label label {font-family: monospace;font-weight: bold;display: inline-block;line-height: 1.2em;}#sk-container-id-8 div.sk-label-container {text-align: center;}#sk-container-id-8 div.sk-container {/* jupyter's `normalize.less` sets `[hidden] { display: none; }` but bootstrap.min.css set `[hidden] { display: none !important; }` so we also need the `!important` here to be able to override the default hidden behavior on the sphinx rendered scikit-learn.org. See: https://github.com/scikit-learn/scikit-learn/issues/21755 */display: inline-block !important;position: relative;}#sk-container-id-8 div.sk-text-repr-fallback {display: none;}</style><div id=\"sk-container-id-8\" class=\"sk-top-container\"><div class=\"sk-text-repr-fallback\"><pre>DecisionTreeClassifier(criterion=&#x27;entropy&#x27;, max_depth=7, min_samples_leaf=9)</pre><b>In a Jupyter environment, please rerun this cell to show the HTML representation or trust the notebook. <br />On GitHub, the HTML representation is unable to render, please try loading this page with nbviewer.org.</b></div><div class=\"sk-container\" hidden><div class=\"sk-item\"><div class=\"sk-estimator sk-toggleable\"><input class=\"sk-toggleable__control sk-hidden--visually\" id=\"sk-estimator-id-8\" type=\"checkbox\" checked><label for=\"sk-estimator-id-8\" class=\"sk-toggleable__label sk-toggleable__label-arrow\">DecisionTreeClassifier</label><div class=\"sk-toggleable__content\"><pre>DecisionTreeClassifier(criterion=&#x27;entropy&#x27;, max_depth=7, min_samples_leaf=9)</pre></div></div></div></div></div>"
      ],
      "text/plain": [
       "DecisionTreeClassifier(criterion='entropy', max_depth=7, min_samples_leaf=9)"
      ]
     },
     "execution_count": 67,
     "metadata": {},
     "output_type": "execute_result"
    }
   ],
   "source": [
    "dt_model = DecisionTreeClassifier()\n",
    "hyperpara = {\"criterion\":[\"gini\",\"entropy\"],\n",
    "                 \"max_depth\" :np.arange(2,10),\n",
    "                 \"min_samples_split\":np.arange(2,10),\n",
    "                 \"min_samples_leaf\":np.arange(2,10)}\n",
    "rscv = RandomizedSearchCV(dt_model,hyperpara,cv=5)\n",
    "rscv.fit(x_train,y_train)\n",
    "rscv.best_estimator_"
   ]
  },
  {
   "cell_type": "code",
   "execution_count": 104,
   "id": "61c1050a",
   "metadata": {},
   "outputs": [
    {
     "data": {
      "text/html": [
       "<style>#sk-container-id-14 {color: black;background-color: white;}#sk-container-id-14 pre{padding: 0;}#sk-container-id-14 div.sk-toggleable {background-color: white;}#sk-container-id-14 label.sk-toggleable__label {cursor: pointer;display: block;width: 100%;margin-bottom: 0;padding: 0.3em;box-sizing: border-box;text-align: center;}#sk-container-id-14 label.sk-toggleable__label-arrow:before {content: \"▸\";float: left;margin-right: 0.25em;color: #696969;}#sk-container-id-14 label.sk-toggleable__label-arrow:hover:before {color: black;}#sk-container-id-14 div.sk-estimator:hover label.sk-toggleable__label-arrow:before {color: black;}#sk-container-id-14 div.sk-toggleable__content {max-height: 0;max-width: 0;overflow: hidden;text-align: left;background-color: #f0f8ff;}#sk-container-id-14 div.sk-toggleable__content pre {margin: 0.2em;color: black;border-radius: 0.25em;background-color: #f0f8ff;}#sk-container-id-14 input.sk-toggleable__control:checked~div.sk-toggleable__content {max-height: 200px;max-width: 100%;overflow: auto;}#sk-container-id-14 input.sk-toggleable__control:checked~label.sk-toggleable__label-arrow:before {content: \"▾\";}#sk-container-id-14 div.sk-estimator input.sk-toggleable__control:checked~label.sk-toggleable__label {background-color: #d4ebff;}#sk-container-id-14 div.sk-label input.sk-toggleable__control:checked~label.sk-toggleable__label {background-color: #d4ebff;}#sk-container-id-14 input.sk-hidden--visually {border: 0;clip: rect(1px 1px 1px 1px);clip: rect(1px, 1px, 1px, 1px);height: 1px;margin: -1px;overflow: hidden;padding: 0;position: absolute;width: 1px;}#sk-container-id-14 div.sk-estimator {font-family: monospace;background-color: #f0f8ff;border: 1px dotted black;border-radius: 0.25em;box-sizing: border-box;margin-bottom: 0.5em;}#sk-container-id-14 div.sk-estimator:hover {background-color: #d4ebff;}#sk-container-id-14 div.sk-parallel-item::after {content: \"\";width: 100%;border-bottom: 1px solid gray;flex-grow: 1;}#sk-container-id-14 div.sk-label:hover label.sk-toggleable__label {background-color: #d4ebff;}#sk-container-id-14 div.sk-serial::before {content: \"\";position: absolute;border-left: 1px solid gray;box-sizing: border-box;top: 0;bottom: 0;left: 50%;z-index: 0;}#sk-container-id-14 div.sk-serial {display: flex;flex-direction: column;align-items: center;background-color: white;padding-right: 0.2em;padding-left: 0.2em;position: relative;}#sk-container-id-14 div.sk-item {position: relative;z-index: 1;}#sk-container-id-14 div.sk-parallel {display: flex;align-items: stretch;justify-content: center;background-color: white;position: relative;}#sk-container-id-14 div.sk-item::before, #sk-container-id-14 div.sk-parallel-item::before {content: \"\";position: absolute;border-left: 1px solid gray;box-sizing: border-box;top: 0;bottom: 0;left: 50%;z-index: -1;}#sk-container-id-14 div.sk-parallel-item {display: flex;flex-direction: column;z-index: 1;position: relative;background-color: white;}#sk-container-id-14 div.sk-parallel-item:first-child::after {align-self: flex-end;width: 50%;}#sk-container-id-14 div.sk-parallel-item:last-child::after {align-self: flex-start;width: 50%;}#sk-container-id-14 div.sk-parallel-item:only-child::after {width: 0;}#sk-container-id-14 div.sk-dashed-wrapped {border: 1px dashed gray;margin: 0 0.4em 0.5em 0.4em;box-sizing: border-box;padding-bottom: 0.4em;background-color: white;}#sk-container-id-14 div.sk-label label {font-family: monospace;font-weight: bold;display: inline-block;line-height: 1.2em;}#sk-container-id-14 div.sk-label-container {text-align: center;}#sk-container-id-14 div.sk-container {/* jupyter's `normalize.less` sets `[hidden] { display: none; }` but bootstrap.min.css set `[hidden] { display: none !important; }` so we also need the `!important` here to be able to override the default hidden behavior on the sphinx rendered scikit-learn.org. See: https://github.com/scikit-learn/scikit-learn/issues/21755 */display: inline-block !important;position: relative;}#sk-container-id-14 div.sk-text-repr-fallback {display: none;}</style><div id=\"sk-container-id-14\" class=\"sk-top-container\"><div class=\"sk-text-repr-fallback\"><pre>DecisionTreeClassifier(criterion=&#x27;entropy&#x27;, max_depth=7, min_samples_leaf=9)</pre><b>In a Jupyter environment, please rerun this cell to show the HTML representation or trust the notebook. <br />On GitHub, the HTML representation is unable to render, please try loading this page with nbviewer.org.</b></div><div class=\"sk-container\" hidden><div class=\"sk-item\"><div class=\"sk-estimator sk-toggleable\"><input class=\"sk-toggleable__control sk-hidden--visually\" id=\"sk-estimator-id-14\" type=\"checkbox\" checked><label for=\"sk-estimator-id-14\" class=\"sk-toggleable__label sk-toggleable__label-arrow\">DecisionTreeClassifier</label><div class=\"sk-toggleable__content\"><pre>DecisionTreeClassifier(criterion=&#x27;entropy&#x27;, max_depth=7, min_samples_leaf=9)</pre></div></div></div></div></div>"
      ],
      "text/plain": [
       "DecisionTreeClassifier(criterion='entropy', max_depth=7, min_samples_leaf=9)"
      ]
     },
     "execution_count": 104,
     "metadata": {},
     "output_type": "execute_result"
    }
   ],
   "source": [
    "dt_clf1 = DecisionTreeClassifier(criterion='entropy', max_depth=7, min_samples_leaf=9)\n",
    "dt_clf1.fit(x_train,y_train)"
   ]
  },
  {
   "cell_type": "code",
   "execution_count": 107,
   "id": "42534f62",
   "metadata": {},
   "outputs": [
    {
     "name": "stdout",
     "output_type": "stream",
     "text": [
      "Confusion matrix\n",
      " [[28618 18706]\n",
      " [22986 60879]]\n",
      "accuarcy\n",
      " 0.6821989648522361\n",
      "classification report\n",
      "               precision    recall  f1-score   support\n",
      "\n",
      "           0       0.55      0.60      0.58     47324\n",
      "           1       0.76      0.73      0.74     83865\n",
      "\n",
      "    accuracy                           0.68    131189\n",
      "   macro avg       0.66      0.67      0.66    131189\n",
      "weighted avg       0.69      0.68      0.68    131189\n",
      "\n"
     ]
    }
   ],
   "source": [
    "# Training\n",
    "y_pred_train = dt_clf1.predict(x_train)\n",
    "\n",
    "cnf_matrix = confusion_matrix(y_train,y_pred_train)\n",
    "\n",
    "print(\"Confusion matrix\\n\",cnf_matrix)\n",
    "\n",
    "accuracy = accuracy_score(y_train,y_pred_train)\n",
    "print(\"accuarcy\\n\",accuracy)\n",
    "\n",
    "clf_report = classification_report(y_train,y_pred_train)\n",
    "print(\"classification report\\n\",clf_report)\n"
   ]
  },
  {
   "cell_type": "code",
   "execution_count": 108,
   "id": "6e07efe8",
   "metadata": {},
   "outputs": [
    {
     "name": "stdout",
     "output_type": "stream",
     "text": [
      "Confusion matrix\n",
      " [[ 7166  4665]\n",
      " [ 5791 15176]]\n",
      "accuarcy\n",
      " 0.6812000731751936\n",
      "classification report\n",
      "               precision    recall  f1-score   support\n",
      "\n",
      "           0       0.55      0.61      0.58     11831\n",
      "           1       0.76      0.72      0.74     20967\n",
      "\n",
      "    accuracy                           0.68     32798\n",
      "   macro avg       0.66      0.66      0.66     32798\n",
      "weighted avg       0.69      0.68      0.68     32798\n",
      "\n"
     ]
    }
   ],
   "source": [
    "# Testing\n",
    "y_pred = dt_clf1.predict(x_test)\n",
    "\n",
    "cnf_matrix = confusion_matrix(y_test,y_pred)\n",
    "\n",
    "print(\"Confusion matrix\\n\",cnf_matrix)\n",
    "\n",
    "accuracy = accuracy_score(y_test,y_pred)\n",
    "print(\"accuarcy\\n\",accuracy)\n",
    "\n",
    "clf_report = classification_report(y_test,y_pred)\n",
    "print(\"classification report\\n\",clf_report)\n"
   ]
  },
  {
   "cell_type": "code",
   "execution_count": 74,
   "id": "1aa50069",
   "metadata": {},
   "outputs": [
    {
     "data": {
      "text/plain": [
       "<Axes: >"
      ]
     },
     "execution_count": 74,
     "metadata": {},
     "output_type": "execute_result"
    },
    {
     "data": {
      "image/png": "[encoded data removed]",
      "text/plain": [
       "<Figure size 640x480 with 1 Axes>"
      ]
     },
     "metadata": {},
     "output_type": "display_data"
    }
   ],
   "source": [
    "x = clean_data1.drop(\"verification_status\",axis=1)\n",
    "vif_list = []\n",
    "for i in range(x.shape[1]):\n",
    "    vif = variance_inflation_factor(x.to_numpy(),i)\n",
    "    vif_list.append(vif)\n",
    "s1 = pd.Series(vif_list,index = x.columns)\n",
    "s1.sort_values().plot(kind=\"barh\")"
   ]
  },
  {
   "cell_type": "markdown",
   "id": "f8149e5b",
   "metadata": {},
   "source": [
    "### 3.2Normalization:-"
   ]
  },
  {
   "cell_type": "code",
   "execution_count": 75,
   "id": "65bfc820",
   "metadata": {},
   "outputs": [],
   "source": [
    "x =clean_data1.drop(\"verification_status\",axis=1)\n",
    "y =clean_data1[\"verification_status\"]\n"
   ]
  },
  {
   "cell_type": "code",
   "execution_count": 76,
   "id": "9eba626d",
   "metadata": {},
   "outputs": [],
   "source": [
    "clean_data1['credit_card'] = clean_data1['credit_card'].astype(int)"
   ]
  },
  {
   "cell_type": "code",
   "execution_count": 77,
   "id": "c112075d",
   "metadata": {},
   "outputs": [],
   "source": [
    "n_scalar = MinMaxScaler()\n",
    "array = n_scalar.fit_transform(x)\n",
    "new_x = pd.DataFrame(array, columns=x.columns)\n"
   ]
  },
  {
   "cell_type": "code",
   "execution_count": 78,
   "id": "b2f9ca16",
   "metadata": {},
   "outputs": [],
   "source": [
    "x_train,x_test,y_train,y_test = train_test_split(new_x,y,test_size=0.2,random_state=42,stratify=y)"
   ]
  },
  {
   "cell_type": "code",
   "execution_count": 79,
   "id": "317d3830",
   "metadata": {},
   "outputs": [
    {
     "data": {
      "text/html": [
       "<style>#sk-container-id-11 {color: black;background-color: white;}#sk-container-id-11 pre{padding: 0;}#sk-container-id-11 div.sk-toggleable {background-color: white;}#sk-container-id-11 label.sk-toggleable__label {cursor: pointer;display: block;width: 100%;margin-bottom: 0;padding: 0.3em;box-sizing: border-box;text-align: center;}#sk-container-id-11 label.sk-toggleable__label-arrow:before {content: \"▸\";float: left;margin-right: 0.25em;color: #696969;}#sk-container-id-11 label.sk-toggleable__label-arrow:hover:before {color: black;}#sk-container-id-11 div.sk-estimator:hover label.sk-toggleable__label-arrow:before {color: black;}#sk-container-id-11 div.sk-toggleable__content {max-height: 0;max-width: 0;overflow: hidden;text-align: left;background-color: #f0f8ff;}#sk-container-id-11 div.sk-toggleable__content pre {margin: 0.2em;color: black;border-radius: 0.25em;background-color: #f0f8ff;}#sk-container-id-11 input.sk-toggleable__control:checked~div.sk-toggleable__content {max-height: 200px;max-width: 100%;overflow: auto;}#sk-container-id-11 input.sk-toggleable__control:checked~label.sk-toggleable__label-arrow:before {content: \"▾\";}#sk-container-id-11 div.sk-estimator input.sk-toggleable__control:checked~label.sk-toggleable__label {background-color: #d4ebff;}#sk-container-id-11 div.sk-label input.sk-toggleable__control:checked~label.sk-toggleable__label {background-color: #d4ebff;}#sk-container-id-11 input.sk-hidden--visually {border: 0;clip: rect(1px 1px 1px 1px);clip: rect(1px, 1px, 1px, 1px);height: 1px;margin: -1px;overflow: hidden;padding: 0;position: absolute;width: 1px;}#sk-container-id-11 div.sk-estimator {font-family: monospace;background-color: #f0f8ff;border: 1px dotted black;border-radius: 0.25em;box-sizing: border-box;margin-bottom: 0.5em;}#sk-container-id-11 div.sk-estimator:hover {background-color: #d4ebff;}#sk-container-id-11 div.sk-parallel-item::after {content: \"\";width: 100%;border-bottom: 1px solid gray;flex-grow: 1;}#sk-container-id-11 div.sk-label:hover label.sk-toggleable__label {background-color: #d4ebff;}#sk-container-id-11 div.sk-serial::before {content: \"\";position: absolute;border-left: 1px solid gray;box-sizing: border-box;top: 0;bottom: 0;left: 50%;z-index: 0;}#sk-container-id-11 div.sk-serial {display: flex;flex-direction: column;align-items: center;background-color: white;padding-right: 0.2em;padding-left: 0.2em;position: relative;}#sk-container-id-11 div.sk-item {position: relative;z-index: 1;}#sk-container-id-11 div.sk-parallel {display: flex;align-items: stretch;justify-content: center;background-color: white;position: relative;}#sk-container-id-11 div.sk-item::before, #sk-container-id-11 div.sk-parallel-item::before {content: \"\";position: absolute;border-left: 1px solid gray;box-sizing: border-box;top: 0;bottom: 0;left: 50%;z-index: -1;}#sk-container-id-11 div.sk-parallel-item {display: flex;flex-direction: column;z-index: 1;position: relative;background-color: white;}#sk-container-id-11 div.sk-parallel-item:first-child::after {align-self: flex-end;width: 50%;}#sk-container-id-11 div.sk-parallel-item:last-child::after {align-self: flex-start;width: 50%;}#sk-container-id-11 div.sk-parallel-item:only-child::after {width: 0;}#sk-container-id-11 div.sk-dashed-wrapped {border: 1px dashed gray;margin: 0 0.4em 0.5em 0.4em;box-sizing: border-box;padding-bottom: 0.4em;background-color: white;}#sk-container-id-11 div.sk-label label {font-family: monospace;font-weight: bold;display: inline-block;line-height: 1.2em;}#sk-container-id-11 div.sk-label-container {text-align: center;}#sk-container-id-11 div.sk-container {/* jupyter's `normalize.less` sets `[hidden] { display: none; }` but bootstrap.min.css set `[hidden] { display: none !important; }` so we also need the `!important` here to be able to override the default hidden behavior on the sphinx rendered scikit-learn.org. See: https://github.com/scikit-learn/scikit-learn/issues/21755 */display: inline-block !important;position: relative;}#sk-container-id-11 div.sk-text-repr-fallback {display: none;}</style><div id=\"sk-container-id-11\" class=\"sk-top-container\"><div class=\"sk-text-repr-fallback\"><pre>KNeighborsClassifier()</pre><b>In a Jupyter environment, please rerun this cell to show the HTML representation or trust the notebook. <br />On GitHub, the HTML representation is unable to render, please try loading this page with nbviewer.org.</b></div><div class=\"sk-container\" hidden><div class=\"sk-item\"><div class=\"sk-estimator sk-toggleable\"><input class=\"sk-toggleable__control sk-hidden--visually\" id=\"sk-estimator-id-11\" type=\"checkbox\" checked><label for=\"sk-estimator-id-11\" class=\"sk-toggleable__label sk-toggleable__label-arrow\">KNeighborsClassifier</label><div class=\"sk-toggleable__content\"><pre>KNeighborsClassifier()</pre></div></div></div></div></div>"
      ],
      "text/plain": [
       "KNeighborsClassifier()"
      ]
     },
     "execution_count": 79,
     "metadata": {},
     "output_type": "execute_result"
    }
   ],
   "source": [
    "knn_clf = KNeighborsClassifier()\n",
    "knn_clf.fit(x_train,y_train)"
   ]
  },
  {
   "cell_type": "code",
   "execution_count": 80,
   "id": "8b3174a5",
   "metadata": {},
   "outputs": [
    {
     "name": "stdout",
     "output_type": "stream",
     "text": [
      "Confusion matrix\n",
      " [[31684 15640]\n",
      " [13700 70165]]\n",
      "Accuarcy 0.776353200344541\n",
      "Classification report\n",
      "               precision    recall  f1-score   support\n",
      "\n",
      "           0       0.70      0.67      0.68     47324\n",
      "           1       0.82      0.84      0.83     83865\n",
      "\n",
      "    accuracy                           0.78    131189\n",
      "   macro avg       0.76      0.75      0.76    131189\n",
      "weighted avg       0.77      0.78      0.78    131189\n",
      "\n"
     ]
    }
   ],
   "source": [
    "# Training\n",
    "y_pred_train = knn_clf.predict(x_train)\n",
    "\n",
    "cnf_matrix = confusion_matrix(y_train,y_pred_train)\n",
    "print(\"Confusion matrix\\n\",cnf_matrix)\n",
    "\n",
    "accuarcy = accuracy_score(y_train,y_pred_train)\n",
    "print(\"Accuarcy\",accuarcy)\n",
    "\n",
    "clf_report = classification_report(y_train,y_pred_train)\n",
    "print(\"Classification report\\n\",clf_report)"
   ]
  },
  {
   "cell_type": "code",
   "execution_count": 81,
   "id": "fa47bbf3",
   "metadata": {},
   "outputs": [
    {
     "name": "stdout",
     "output_type": "stream",
     "text": [
      "Confusion matrix\n",
      " [[ 5956  5875]\n",
      " [ 5354 15613]]\n",
      "Accuarcy 0.6576315629001769\n",
      "Classification report\n",
      "               precision    recall  f1-score   support\n",
      "\n",
      "           0       0.53      0.50      0.51     11831\n",
      "           1       0.73      0.74      0.74     20967\n",
      "\n",
      "    accuracy                           0.66     32798\n",
      "   macro avg       0.63      0.62      0.63     32798\n",
      "weighted avg       0.65      0.66      0.66     32798\n",
      "\n"
     ]
    }
   ],
   "source": [
    "# Testing\n",
    "y_pred = knn_clf.predict(x_test)\n",
    "\n",
    "cnf_matrix = confusion_matrix(y_test,y_pred)\n",
    "print(\"Confusion matrix\\n\",cnf_matrix)\n",
    "\n",
    "accuarcy = accuracy_score(y_test,y_pred)\n",
    "print(\"Accuarcy\",accuarcy)\n",
    "\n",
    "clf_report = classification_report(y_test,y_pred)\n",
    "print(\"Classification report\\n\",clf_report)"
   ]
  },
  {
   "cell_type": "markdown",
   "id": "b7015091",
   "metadata": {},
   "source": [
    "### 3.3Standirdization:-"
   ]
  },
  {
   "cell_type": "code",
   "execution_count": 82,
   "id": "7941007c",
   "metadata": {},
   "outputs": [
    {
     "data": {
      "text/html": [
       "<div>\n",
       "<style scoped>\n",
       "    .dataframe tbody tr th:only-of-type {\n",
       "        vertical-align: middle;\n",
       "    }\n",
       "\n",
       "    .dataframe tbody tr th {\n",
       "        vertical-align: top;\n",
       "    }\n",
       "\n",
       "    .dataframe thead th {\n",
       "        text-align: right;\n",
       "    }\n",
       "</style>\n",
       "<table border=\"1\" class=\"dataframe\">\n",
       "  <thead>\n",
       "    <tr style=\"text-align: right;\">\n",
       "      <th></th>\n",
       "      <th>loan_amnt</th>\n",
       "      <th>term</th>\n",
       "      <th>int_rate</th>\n",
       "      <th>emp_length</th>\n",
       "      <th>home_ownership</th>\n",
       "      <th>annual_inc</th>\n",
       "      <th>addr_state</th>\n",
       "      <th>dti</th>\n",
       "      <th>delinq_2yrs</th>\n",
       "      <th>revol_util</th>\n",
       "      <th>total_acc</th>\n",
       "      <th>bad_loan</th>\n",
       "      <th>longest_credit_length</th>\n",
       "      <th>credit_card</th>\n",
       "      <th>car</th>\n",
       "      <th>small_business</th>\n",
       "      <th>other</th>\n",
       "      <th>wedding</th>\n",
       "      <th>debt_consolidation</th>\n",
       "      <th>home_improvement</th>\n",
       "      <th>major_purchase</th>\n",
       "      <th>medical</th>\n",
       "      <th>moving</th>\n",
       "      <th>vacation</th>\n",
       "      <th>house</th>\n",
       "      <th>renewable_energy</th>\n",
       "      <th>educational</th>\n",
       "    </tr>\n",
       "  </thead>\n",
       "  <tbody>\n",
       "    <tr>\n",
       "      <th>0</th>\n",
       "      <td>-1.010088</td>\n",
       "      <td>-0.511785</td>\n",
       "      <td>-0.698077</td>\n",
       "      <td>1.213670</td>\n",
       "      <td>-1.104968</td>\n",
       "      <td>-0.811167</td>\n",
       "      <td>-1.148576</td>\n",
       "      <td>1.551004</td>\n",
       "      <td>-0.327554</td>\n",
       "      <td>1.172155</td>\n",
       "      <td>-1.333411</td>\n",
       "      <td>-0.473338</td>\n",
       "      <td>1.604372</td>\n",
       "      <td>-0.132802</td>\n",
       "      <td>2.079816</td>\n",
       "      <td>-1.148314</td>\n",
       "      <td>-0.050552</td>\n",
       "      <td>-0.253093</td>\n",
       "      <td>-0.087465</td>\n",
       "      <td>-0.171511</td>\n",
       "      <td>-0.111928</td>\n",
       "      <td>-0.09491</td>\n",
       "      <td>-0.261446</td>\n",
       "      <td>-0.034769</td>\n",
       "      <td>-0.154869</td>\n",
       "      <td>-0.082027</td>\n",
       "      <td>-0.103889</td>\n",
       "    </tr>\n",
       "    <tr>\n",
       "      <th>1</th>\n",
       "      <td>-1.322841</td>\n",
       "      <td>1.953946</td>\n",
       "      <td>0.353853</td>\n",
       "      <td>-1.605884</td>\n",
       "      <td>-1.104968</td>\n",
       "      <td>-0.709593</td>\n",
       "      <td>-1.058478</td>\n",
       "      <td>-1.961284</td>\n",
       "      <td>-0.327554</td>\n",
       "      <td>-1.768043</td>\n",
       "      <td>-1.761342</td>\n",
       "      <td>2.112657</td>\n",
       "      <td>-0.410858</td>\n",
       "      <td>7.530024</td>\n",
       "      <td>-0.480812</td>\n",
       "      <td>-1.148314</td>\n",
       "      <td>-0.050552</td>\n",
       "      <td>-0.253093</td>\n",
       "      <td>-0.087465</td>\n",
       "      <td>-0.171511</td>\n",
       "      <td>-0.111928</td>\n",
       "      <td>-0.09491</td>\n",
       "      <td>-0.261446</td>\n",
       "      <td>-0.034769</td>\n",
       "      <td>-0.154869</td>\n",
       "      <td>-0.082027</td>\n",
       "      <td>-0.103889</td>\n",
       "    </tr>\n",
       "    <tr>\n",
       "      <th>2</th>\n",
       "      <td>-1.335351</td>\n",
       "      <td>-0.511785</td>\n",
       "      <td>0.510959</td>\n",
       "      <td>1.213670</td>\n",
       "      <td>-1.104968</td>\n",
       "      <td>-1.010050</td>\n",
       "      <td>-0.968380</td>\n",
       "      <td>-0.943841</td>\n",
       "      <td>-0.327554</td>\n",
       "      <td>1.757820</td>\n",
       "      <td>-1.247825</td>\n",
       "      <td>-0.473338</td>\n",
       "      <td>-0.698748</td>\n",
       "      <td>-0.132802</td>\n",
       "      <td>-0.480812</td>\n",
       "      <td>-1.148314</td>\n",
       "      <td>-0.050552</td>\n",
       "      <td>-0.253093</td>\n",
       "      <td>-0.087465</td>\n",
       "      <td>-0.171511</td>\n",
       "      <td>-0.111928</td>\n",
       "      <td>-0.09491</td>\n",
       "      <td>-0.261446</td>\n",
       "      <td>-0.034769</td>\n",
       "      <td>6.457076</td>\n",
       "      <td>-0.082027</td>\n",
       "      <td>-0.103889</td>\n",
       "    </tr>\n",
       "    <tr>\n",
       "      <th>3</th>\n",
       "      <td>-0.384582</td>\n",
       "      <td>-0.511785</td>\n",
       "      <td>-0.051436</td>\n",
       "      <td>1.213670</td>\n",
       "      <td>-1.104968</td>\n",
       "      <td>-0.384555</td>\n",
       "      <td>-0.878281</td>\n",
       "      <td>0.542786</td>\n",
       "      <td>-0.327554</td>\n",
       "      <td>-1.309008</td>\n",
       "      <td>1.063004</td>\n",
       "      <td>-0.473338</td>\n",
       "      <td>0.020977</td>\n",
       "      <td>-0.132802</td>\n",
       "      <td>-0.480812</td>\n",
       "      <td>-1.148314</td>\n",
       "      <td>-0.050552</td>\n",
       "      <td>-0.253093</td>\n",
       "      <td>-0.087465</td>\n",
       "      <td>-0.171511</td>\n",
       "      <td>-0.111928</td>\n",
       "      <td>-0.09491</td>\n",
       "      <td>3.824881</td>\n",
       "      <td>-0.034769</td>\n",
       "      <td>-0.154869</td>\n",
       "      <td>-0.082027</td>\n",
       "      <td>-0.103889</td>\n",
       "    </tr>\n",
       "    <tr>\n",
       "      <th>4</th>\n",
       "      <td>-1.010088</td>\n",
       "      <td>-0.511785</td>\n",
       "      <td>-1.324226</td>\n",
       "      <td>-0.760018</td>\n",
       "      <td>-1.104968</td>\n",
       "      <td>-0.608019</td>\n",
       "      <td>-1.148576</td>\n",
       "      <td>-0.616994</td>\n",
       "      <td>-0.327554</td>\n",
       "      <td>-1.020133</td>\n",
       "      <td>-1.076652</td>\n",
       "      <td>-0.473338</td>\n",
       "      <td>-1.130583</td>\n",
       "      <td>-0.132802</td>\n",
       "      <td>-0.480812</td>\n",
       "      <td>-1.148314</td>\n",
       "      <td>-0.050552</td>\n",
       "      <td>-0.253093</td>\n",
       "      <td>-0.087465</td>\n",
       "      <td>-0.171511</td>\n",
       "      <td>-0.111928</td>\n",
       "      <td>-0.09491</td>\n",
       "      <td>-0.261446</td>\n",
       "      <td>-0.034769</td>\n",
       "      <td>-0.154869</td>\n",
       "      <td>-0.082027</td>\n",
       "      <td>9.625661</td>\n",
       "    </tr>\n",
       "    <tr>\n",
       "      <th>...</th>\n",
       "      <td>...</td>\n",
       "      <td>...</td>\n",
       "      <td>...</td>\n",
       "      <td>...</td>\n",
       "      <td>...</td>\n",
       "      <td>...</td>\n",
       "      <td>...</td>\n",
       "      <td>...</td>\n",
       "      <td>...</td>\n",
       "      <td>...</td>\n",
       "      <td>...</td>\n",
       "      <td>...</td>\n",
       "      <td>...</td>\n",
       "      <td>...</td>\n",
       "      <td>...</td>\n",
       "      <td>...</td>\n",
       "      <td>...</td>\n",
       "      <td>...</td>\n",
       "      <td>...</td>\n",
       "      <td>...</td>\n",
       "      <td>...</td>\n",
       "      <td>...</td>\n",
       "      <td>...</td>\n",
       "      <td>...</td>\n",
       "      <td>...</td>\n",
       "      <td>...</td>\n",
       "      <td>...</td>\n",
       "    </tr>\n",
       "    <tr>\n",
       "      <th>163982</th>\n",
       "      <td>0.240924</td>\n",
       "      <td>1.953946</td>\n",
       "      <td>-0.301896</td>\n",
       "      <td>-0.760018</td>\n",
       "      <td>0.983207</td>\n",
       "      <td>-0.455657</td>\n",
       "      <td>2.275159</td>\n",
       "      <td>2.050500</td>\n",
       "      <td>5.435267</td>\n",
       "      <td>0.859536</td>\n",
       "      <td>0.806245</td>\n",
       "      <td>-0.473338</td>\n",
       "      <td>0.740702</td>\n",
       "      <td>-0.132802</td>\n",
       "      <td>2.079816</td>\n",
       "      <td>-1.148314</td>\n",
       "      <td>-0.050552</td>\n",
       "      <td>-0.253093</td>\n",
       "      <td>-0.087465</td>\n",
       "      <td>-0.171511</td>\n",
       "      <td>-0.111928</td>\n",
       "      <td>-0.09491</td>\n",
       "      <td>-0.261446</td>\n",
       "      <td>-0.034769</td>\n",
       "      <td>-0.154869</td>\n",
       "      <td>-0.082027</td>\n",
       "      <td>-0.103889</td>\n",
       "    </tr>\n",
       "    <tr>\n",
       "      <th>163983</th>\n",
       "      <td>0.866429</td>\n",
       "      <td>-0.511785</td>\n",
       "      <td>0.290100</td>\n",
       "      <td>1.213670</td>\n",
       "      <td>-0.060880</td>\n",
       "      <td>0.136860</td>\n",
       "      <td>-0.698085</td>\n",
       "      <td>1.023831</td>\n",
       "      <td>-0.327554</td>\n",
       "      <td>0.582532</td>\n",
       "      <td>-0.563135</td>\n",
       "      <td>-0.473338</td>\n",
       "      <td>1.028592</td>\n",
       "      <td>-0.132802</td>\n",
       "      <td>-0.480812</td>\n",
       "      <td>-1.148314</td>\n",
       "      <td>-0.050552</td>\n",
       "      <td>3.951117</td>\n",
       "      <td>-0.087465</td>\n",
       "      <td>-0.171511</td>\n",
       "      <td>-0.111928</td>\n",
       "      <td>-0.09491</td>\n",
       "      <td>-0.261446</td>\n",
       "      <td>-0.034769</td>\n",
       "      <td>-0.154869</td>\n",
       "      <td>-0.082027</td>\n",
       "      <td>-0.103889</td>\n",
       "    </tr>\n",
       "    <tr>\n",
       "      <th>163984</th>\n",
       "      <td>-0.031171</td>\n",
       "      <td>-0.511785</td>\n",
       "      <td>0.779634</td>\n",
       "      <td>0.085848</td>\n",
       "      <td>0.983207</td>\n",
       "      <td>-0.574161</td>\n",
       "      <td>-0.788183</td>\n",
       "      <td>-0.902985</td>\n",
       "      <td>-0.327554</td>\n",
       "      <td>0.657719</td>\n",
       "      <td>-0.049617</td>\n",
       "      <td>-0.473338</td>\n",
       "      <td>-0.842693</td>\n",
       "      <td>-0.132802</td>\n",
       "      <td>-0.480812</td>\n",
       "      <td>0.870842</td>\n",
       "      <td>-0.050552</td>\n",
       "      <td>-0.253093</td>\n",
       "      <td>-0.087465</td>\n",
       "      <td>-0.171511</td>\n",
       "      <td>-0.111928</td>\n",
       "      <td>-0.09491</td>\n",
       "      <td>-0.261446</td>\n",
       "      <td>-0.034769</td>\n",
       "      <td>-0.154869</td>\n",
       "      <td>-0.082027</td>\n",
       "      <td>-0.103889</td>\n",
       "    </tr>\n",
       "    <tr>\n",
       "      <th>163985</th>\n",
       "      <td>1.823453</td>\n",
       "      <td>1.953946</td>\n",
       "      <td>1.883933</td>\n",
       "      <td>-1.605884</td>\n",
       "      <td>-1.104968</td>\n",
       "      <td>-0.201721</td>\n",
       "      <td>-0.247593</td>\n",
       "      <td>-0.761966</td>\n",
       "      <td>1.113151</td>\n",
       "      <td>0.281785</td>\n",
       "      <td>-0.391962</td>\n",
       "      <td>-0.473338</td>\n",
       "      <td>-1.274529</td>\n",
       "      <td>-0.132802</td>\n",
       "      <td>2.079816</td>\n",
       "      <td>-1.148314</td>\n",
       "      <td>-0.050552</td>\n",
       "      <td>-0.253093</td>\n",
       "      <td>-0.087465</td>\n",
       "      <td>-0.171511</td>\n",
       "      <td>-0.111928</td>\n",
       "      <td>-0.09491</td>\n",
       "      <td>-0.261446</td>\n",
       "      <td>-0.034769</td>\n",
       "      <td>-0.154869</td>\n",
       "      <td>-0.082027</td>\n",
       "      <td>-0.103889</td>\n",
       "    </tr>\n",
       "    <tr>\n",
       "      <th>163986</th>\n",
       "      <td>0.491126</td>\n",
       "      <td>1.953946</td>\n",
       "      <td>0.517790</td>\n",
       "      <td>1.213670</td>\n",
       "      <td>0.983207</td>\n",
       "      <td>-0.149613</td>\n",
       "      <td>-0.157495</td>\n",
       "      <td>2.084767</td>\n",
       "      <td>-0.327554</td>\n",
       "      <td>-0.003133</td>\n",
       "      <td>0.292728</td>\n",
       "      <td>-0.473338</td>\n",
       "      <td>0.164922</td>\n",
       "      <td>-0.132802</td>\n",
       "      <td>-0.480812</td>\n",
       "      <td>0.870842</td>\n",
       "      <td>-0.050552</td>\n",
       "      <td>-0.253093</td>\n",
       "      <td>-0.087465</td>\n",
       "      <td>-0.171511</td>\n",
       "      <td>-0.111928</td>\n",
       "      <td>-0.09491</td>\n",
       "      <td>-0.261446</td>\n",
       "      <td>-0.034769</td>\n",
       "      <td>-0.154869</td>\n",
       "      <td>-0.082027</td>\n",
       "      <td>-0.103889</td>\n",
       "    </tr>\n",
       "  </tbody>\n",
       "</table>\n",
       "<p>163987 rows × 27 columns</p>\n",
       "</div>"
      ],
      "text/plain": [
       "        loan_amnt      term  int_rate  emp_length  home_ownership  annual_inc  \\\n",
       "0       -1.010088 -0.511785 -0.698077    1.213670       -1.104968   -0.811167   \n",
       "1       -1.322841  1.953946  0.353853   -1.605884       -1.104968   -0.709593   \n",
       "2       -1.335351 -0.511785  0.510959    1.213670       -1.104968   -1.010050   \n",
       "3       -0.384582 -0.511785 -0.051436    1.213670       -1.104968   -0.384555   \n",
       "4       -1.010088 -0.511785 -1.324226   -0.760018       -1.104968   -0.608019   \n",
       "...           ...       ...       ...         ...             ...         ...   \n",
       "163982   0.240924  1.953946 -0.301896   -0.760018        0.983207   -0.455657   \n",
       "163983   0.866429 -0.511785  0.290100    1.213670       -0.060880    0.136860   \n",
       "163984  -0.031171 -0.511785  0.779634    0.085848        0.983207   -0.574161   \n",
       "163985   1.823453  1.953946  1.883933   -1.605884       -1.104968   -0.201721   \n",
       "163986   0.491126  1.953946  0.517790    1.213670        0.983207   -0.149613   \n",
       "\n",
       "        addr_state       dti  delinq_2yrs  revol_util  total_acc  bad_loan  \\\n",
       "0        -1.148576  1.551004    -0.327554    1.172155  -1.333411 -0.473338   \n",
       "1        -1.058478 -1.961284    -0.327554   -1.768043  -1.761342  2.112657   \n",
       "2        -0.968380 -0.943841    -0.327554    1.757820  -1.247825 -0.473338   \n",
       "3        -0.878281  0.542786    -0.327554   -1.309008   1.063004 -0.473338   \n",
       "4        -1.148576 -0.616994    -0.327554   -1.020133  -1.076652 -0.473338   \n",
       "...            ...       ...          ...         ...        ...       ...   \n",
       "163982    2.275159  2.050500     5.435267    0.859536   0.806245 -0.473338   \n",
       "163983   -0.698085  1.023831    -0.327554    0.582532  -0.563135 -0.473338   \n",
       "163984   -0.788183 -0.902985    -0.327554    0.657719  -0.049617 -0.473338   \n",
       "163985   -0.247593 -0.761966     1.113151    0.281785  -0.391962 -0.473338   \n",
       "163986   -0.157495  2.084767    -0.327554   -0.003133   0.292728 -0.473338   \n",
       "\n",
       "        longest_credit_length  credit_card       car  small_business  \\\n",
       "0                    1.604372    -0.132802  2.079816       -1.148314   \n",
       "1                   -0.410858     7.530024 -0.480812       -1.148314   \n",
       "2                   -0.698748    -0.132802 -0.480812       -1.148314   \n",
       "3                    0.020977    -0.132802 -0.480812       -1.148314   \n",
       "4                   -1.130583    -0.132802 -0.480812       -1.148314   \n",
       "...                       ...          ...       ...             ...   \n",
       "163982               0.740702    -0.132802  2.079816       -1.148314   \n",
       "163983               1.028592    -0.132802 -0.480812       -1.148314   \n",
       "163984              -0.842693    -0.132802 -0.480812        0.870842   \n",
       "163985              -1.274529    -0.132802  2.079816       -1.148314   \n",
       "163986               0.164922    -0.132802 -0.480812        0.870842   \n",
       "\n",
       "           other   wedding  debt_consolidation  home_improvement  \\\n",
       "0      -0.050552 -0.253093           -0.087465         -0.171511   \n",
       "1      -0.050552 -0.253093           -0.087465         -0.171511   \n",
       "2      -0.050552 -0.253093           -0.087465         -0.171511   \n",
       "3      -0.050552 -0.253093           -0.087465         -0.171511   \n",
       "4      -0.050552 -0.253093           -0.087465         -0.171511   \n",
       "...          ...       ...                 ...               ...   \n",
       "163982 -0.050552 -0.253093           -0.087465         -0.171511   \n",
       "163983 -0.050552  3.951117           -0.087465         -0.171511   \n",
       "163984 -0.050552 -0.253093           -0.087465         -0.171511   \n",
       "163985 -0.050552 -0.253093           -0.087465         -0.171511   \n",
       "163986 -0.050552 -0.253093           -0.087465         -0.171511   \n",
       "\n",
       "        major_purchase  medical    moving  vacation     house  \\\n",
       "0            -0.111928 -0.09491 -0.261446 -0.034769 -0.154869   \n",
       "1            -0.111928 -0.09491 -0.261446 -0.034769 -0.154869   \n",
       "2            -0.111928 -0.09491 -0.261446 -0.034769  6.457076   \n",
       "3            -0.111928 -0.09491  3.824881 -0.034769 -0.154869   \n",
       "4            -0.111928 -0.09491 -0.261446 -0.034769 -0.154869   \n",
       "...                ...      ...       ...       ...       ...   \n",
       "163982       -0.111928 -0.09491 -0.261446 -0.034769 -0.154869   \n",
       "163983       -0.111928 -0.09491 -0.261446 -0.034769 -0.154869   \n",
       "163984       -0.111928 -0.09491 -0.261446 -0.034769 -0.154869   \n",
       "163985       -0.111928 -0.09491 -0.261446 -0.034769 -0.154869   \n",
       "163986       -0.111928 -0.09491 -0.261446 -0.034769 -0.154869   \n",
       "\n",
       "        renewable_energy  educational  \n",
       "0              -0.082027    -0.103889  \n",
       "1              -0.082027    -0.103889  \n",
       "2              -0.082027    -0.103889  \n",
       "3              -0.082027    -0.103889  \n",
       "4              -0.082027     9.625661  \n",
       "...                  ...          ...  \n",
       "163982         -0.082027    -0.103889  \n",
       "163983         -0.082027    -0.103889  \n",
       "163984         -0.082027    -0.103889  \n",
       "163985         -0.082027    -0.103889  \n",
       "163986         -0.082027    -0.103889  \n",
       "\n",
       "[163987 rows x 27 columns]"
      ]
     },
     "execution_count": 82,
     "metadata": {},
     "output_type": "execute_result"
    }
   ],
   "source": [
    "s_scalar = StandardScaler()\n",
    "array    = s_scalar.fit_transform(x)\n",
    "s_new_x  = pd.DataFrame(array,columns=x.columns)\n",
    "s_new_x "
   ]
  },
  {
   "cell_type": "code",
   "execution_count": 83,
   "id": "4227e5a8",
   "metadata": {},
   "outputs": [],
   "source": [
    "x_train,x_test,y_train,y_test = train_test_split(s_new_x,y,test_size=0.2,random_state=42,stratify=y)"
   ]
  },
  {
   "cell_type": "code",
   "execution_count": 84,
   "id": "04d2551a",
   "metadata": {},
   "outputs": [
    {
     "data": {
      "text/html": [
       "<style>#sk-container-id-12 {color: black;background-color: white;}#sk-container-id-12 pre{padding: 0;}#sk-container-id-12 div.sk-toggleable {background-color: white;}#sk-container-id-12 label.sk-toggleable__label {cursor: pointer;display: block;width: 100%;margin-bottom: 0;padding: 0.3em;box-sizing: border-box;text-align: center;}#sk-container-id-12 label.sk-toggleable__label-arrow:before {content: \"▸\";float: left;margin-right: 0.25em;color: #696969;}#sk-container-id-12 label.sk-toggleable__label-arrow:hover:before {color: black;}#sk-container-id-12 div.sk-estimator:hover label.sk-toggleable__label-arrow:before {color: black;}#sk-container-id-12 div.sk-toggleable__content {max-height: 0;max-width: 0;overflow: hidden;text-align: left;background-color: #f0f8ff;}#sk-container-id-12 div.sk-toggleable__content pre {margin: 0.2em;color: black;border-radius: 0.25em;background-color: #f0f8ff;}#sk-container-id-12 input.sk-toggleable__control:checked~div.sk-toggleable__content {max-height: 200px;max-width: 100%;overflow: auto;}#sk-container-id-12 input.sk-toggleable__control:checked~label.sk-toggleable__label-arrow:before {content: \"▾\";}#sk-container-id-12 div.sk-estimator input.sk-toggleable__control:checked~label.sk-toggleable__label {background-color: #d4ebff;}#sk-container-id-12 div.sk-label input.sk-toggleable__control:checked~label.sk-toggleable__label {background-color: #d4ebff;}#sk-container-id-12 input.sk-hidden--visually {border: 0;clip: rect(1px 1px 1px 1px);clip: rect(1px, 1px, 1px, 1px);height: 1px;margin: -1px;overflow: hidden;padding: 0;position: absolute;width: 1px;}#sk-container-id-12 div.sk-estimator {font-family: monospace;background-color: #f0f8ff;border: 1px dotted black;border-radius: 0.25em;box-sizing: border-box;margin-bottom: 0.5em;}#sk-container-id-12 div.sk-estimator:hover {background-color: #d4ebff;}#sk-container-id-12 div.sk-parallel-item::after {content: \"\";width: 100%;border-bottom: 1px solid gray;flex-grow: 1;}#sk-container-id-12 div.sk-label:hover label.sk-toggleable__label {background-color: #d4ebff;}#sk-container-id-12 div.sk-serial::before {content: \"\";position: absolute;border-left: 1px solid gray;box-sizing: border-box;top: 0;bottom: 0;left: 50%;z-index: 0;}#sk-container-id-12 div.sk-serial {display: flex;flex-direction: column;align-items: center;background-color: white;padding-right: 0.2em;padding-left: 0.2em;position: relative;}#sk-container-id-12 div.sk-item {position: relative;z-index: 1;}#sk-container-id-12 div.sk-parallel {display: flex;align-items: stretch;justify-content: center;background-color: white;position: relative;}#sk-container-id-12 div.sk-item::before, #sk-container-id-12 div.sk-parallel-item::before {content: \"\";position: absolute;border-left: 1px solid gray;box-sizing: border-box;top: 0;bottom: 0;left: 50%;z-index: -1;}#sk-container-id-12 div.sk-parallel-item {display: flex;flex-direction: column;z-index: 1;position: relative;background-color: white;}#sk-container-id-12 div.sk-parallel-item:first-child::after {align-self: flex-end;width: 50%;}#sk-container-id-12 div.sk-parallel-item:last-child::after {align-self: flex-start;width: 50%;}#sk-container-id-12 div.sk-parallel-item:only-child::after {width: 0;}#sk-container-id-12 div.sk-dashed-wrapped {border: 1px dashed gray;margin: 0 0.4em 0.5em 0.4em;box-sizing: border-box;padding-bottom: 0.4em;background-color: white;}#sk-container-id-12 div.sk-label label {font-family: monospace;font-weight: bold;display: inline-block;line-height: 1.2em;}#sk-container-id-12 div.sk-label-container {text-align: center;}#sk-container-id-12 div.sk-container {/* jupyter's `normalize.less` sets `[hidden] { display: none; }` but bootstrap.min.css set `[hidden] { display: none !important; }` so we also need the `!important` here to be able to override the default hidden behavior on the sphinx rendered scikit-learn.org. See: https://github.com/scikit-learn/scikit-learn/issues/21755 */display: inline-block !important;position: relative;}#sk-container-id-12 div.sk-text-repr-fallback {display: none;}</style><div id=\"sk-container-id-12\" class=\"sk-top-container\"><div class=\"sk-text-repr-fallback\"><pre>KNeighborsClassifier()</pre><b>In a Jupyter environment, please rerun this cell to show the HTML representation or trust the notebook. <br />On GitHub, the HTML representation is unable to render, please try loading this page with nbviewer.org.</b></div><div class=\"sk-container\" hidden><div class=\"sk-item\"><div class=\"sk-estimator sk-toggleable\"><input class=\"sk-toggleable__control sk-hidden--visually\" id=\"sk-estimator-id-12\" type=\"checkbox\" checked><label for=\"sk-estimator-id-12\" class=\"sk-toggleable__label sk-toggleable__label-arrow\">KNeighborsClassifier</label><div class=\"sk-toggleable__content\"><pre>KNeighborsClassifier()</pre></div></div></div></div></div>"
      ],
      "text/plain": [
       "KNeighborsClassifier()"
      ]
     },
     "execution_count": 84,
     "metadata": {},
     "output_type": "execute_result"
    }
   ],
   "source": [
    "knn_clf = KNeighborsClassifier()\n",
    "knn_clf.fit(x_train,y_train)"
   ]
  },
  {
   "cell_type": "code",
   "execution_count": 85,
   "id": "2e1b6757",
   "metadata": {},
   "outputs": [
    {
     "name": "stdout",
     "output_type": "stream",
     "text": [
      "Confusion matrix\n",
      " [[32039 15285]\n",
      " [14085 69780]]\n",
      "Accuarcy 0.7761245226352819\n",
      "Classification report\n",
      "               precision    recall  f1-score   support\n",
      "\n",
      "           0       0.69      0.68      0.69     47324\n",
      "           1       0.82      0.83      0.83     83865\n",
      "\n",
      "    accuracy                           0.78    131189\n",
      "   macro avg       0.76      0.75      0.76    131189\n",
      "weighted avg       0.77      0.78      0.78    131189\n",
      "\n"
     ]
    }
   ],
   "source": [
    "# Training\n",
    "y_pred_train = knn_clf.predict(x_train)\n",
    "\n",
    "cnf_matrix = confusion_matrix(y_train,y_pred_train)\n",
    "print(\"Confusion matrix\\n\",cnf_matrix)\n",
    "\n",
    "accuarcy = accuracy_score(y_train,y_pred_train)\n",
    "print(\"Accuarcy\",accuarcy)\n",
    "\n",
    "clf_report = classification_report(y_train,y_pred_train)\n",
    "print(\"Classification report\\n\",clf_report)"
   ]
  },
  {
   "cell_type": "code",
   "execution_count": 86,
   "id": "5ddfb36b",
   "metadata": {},
   "outputs": [
    {
     "name": "stdout",
     "output_type": "stream",
     "text": [
      "Confusion matrix\n",
      " [[ 6105  5726]\n",
      " [ 5578 15389]]\n",
      "Accuarcy 0.6553448380998841\n",
      "Classification report\n",
      "               precision    recall  f1-score   support\n",
      "\n",
      "           0       0.52      0.52      0.52     11831\n",
      "           1       0.73      0.73      0.73     20967\n",
      "\n",
      "    accuracy                           0.66     32798\n",
      "   macro avg       0.63      0.62      0.63     32798\n",
      "weighted avg       0.65      0.66      0.65     32798\n",
      "\n"
     ]
    }
   ],
   "source": [
    "# Testing\n",
    "y_pred = knn_clf.predict(x_test)\n",
    "\n",
    "cnf_matrix = confusion_matrix(y_test,y_pred)\n",
    "print(\"Confusion matrix\\n\",cnf_matrix)\n",
    "\n",
    "accuarcy = accuracy_score(y_test,y_pred)\n",
    "print(\"Accuarcy\",accuarcy)\n",
    "\n",
    "clf_report = classification_report(y_test,y_pred)\n",
    "print(\"Classification report\\n\",clf_report)"
   ]
  },
  {
   "cell_type": "code",
   "execution_count": 87,
   "id": "d4aaf0df",
   "metadata": {},
   "outputs": [
    {
     "data": {
      "text/html": [
       "<style>#sk-container-id-13 {color: black;background-color: white;}#sk-container-id-13 pre{padding: 0;}#sk-container-id-13 div.sk-toggleable {background-color: white;}#sk-container-id-13 label.sk-toggleable__label {cursor: pointer;display: block;width: 100%;margin-bottom: 0;padding: 0.3em;box-sizing: border-box;text-align: center;}#sk-container-id-13 label.sk-toggleable__label-arrow:before {content: \"▸\";float: left;margin-right: 0.25em;color: #696969;}#sk-container-id-13 label.sk-toggleable__label-arrow:hover:before {color: black;}#sk-container-id-13 div.sk-estimator:hover label.sk-toggleable__label-arrow:before {color: black;}#sk-container-id-13 div.sk-toggleable__content {max-height: 0;max-width: 0;overflow: hidden;text-align: left;background-color: #f0f8ff;}#sk-container-id-13 div.sk-toggleable__content pre {margin: 0.2em;color: black;border-radius: 0.25em;background-color: #f0f8ff;}#sk-container-id-13 input.sk-toggleable__control:checked~div.sk-toggleable__content {max-height: 200px;max-width: 100%;overflow: auto;}#sk-container-id-13 input.sk-toggleable__control:checked~label.sk-toggleable__label-arrow:before {content: \"▾\";}#sk-container-id-13 div.sk-estimator input.sk-toggleable__control:checked~label.sk-toggleable__label {background-color: #d4ebff;}#sk-container-id-13 div.sk-label input.sk-toggleable__control:checked~label.sk-toggleable__label {background-color: #d4ebff;}#sk-container-id-13 input.sk-hidden--visually {border: 0;clip: rect(1px 1px 1px 1px);clip: rect(1px, 1px, 1px, 1px);height: 1px;margin: -1px;overflow: hidden;padding: 0;position: absolute;width: 1px;}#sk-container-id-13 div.sk-estimator {font-family: monospace;background-color: #f0f8ff;border: 1px dotted black;border-radius: 0.25em;box-sizing: border-box;margin-bottom: 0.5em;}#sk-container-id-13 div.sk-estimator:hover {background-color: #d4ebff;}#sk-container-id-13 div.sk-parallel-item::after {content: \"\";width: 100%;border-bottom: 1px solid gray;flex-grow: 1;}#sk-container-id-13 div.sk-label:hover label.sk-toggleable__label {background-color: #d4ebff;}#sk-container-id-13 div.sk-serial::before {content: \"\";position: absolute;border-left: 1px solid gray;box-sizing: border-box;top: 0;bottom: 0;left: 50%;z-index: 0;}#sk-container-id-13 div.sk-serial {display: flex;flex-direction: column;align-items: center;background-color: white;padding-right: 0.2em;padding-left: 0.2em;position: relative;}#sk-container-id-13 div.sk-item {position: relative;z-index: 1;}#sk-container-id-13 div.sk-parallel {display: flex;align-items: stretch;justify-content: center;background-color: white;position: relative;}#sk-container-id-13 div.sk-item::before, #sk-container-id-13 div.sk-parallel-item::before {content: \"\";position: absolute;border-left: 1px solid gray;box-sizing: border-box;top: 0;bottom: 0;left: 50%;z-index: -1;}#sk-container-id-13 div.sk-parallel-item {display: flex;flex-direction: column;z-index: 1;position: relative;background-color: white;}#sk-container-id-13 div.sk-parallel-item:first-child::after {align-self: flex-end;width: 50%;}#sk-container-id-13 div.sk-parallel-item:last-child::after {align-self: flex-start;width: 50%;}#sk-container-id-13 div.sk-parallel-item:only-child::after {width: 0;}#sk-container-id-13 div.sk-dashed-wrapped {border: 1px dashed gray;margin: 0 0.4em 0.5em 0.4em;box-sizing: border-box;padding-bottom: 0.4em;background-color: white;}#sk-container-id-13 div.sk-label label {font-family: monospace;font-weight: bold;display: inline-block;line-height: 1.2em;}#sk-container-id-13 div.sk-label-container {text-align: center;}#sk-container-id-13 div.sk-container {/* jupyter's `normalize.less` sets `[hidden] { display: none; }` but bootstrap.min.css set `[hidden] { display: none !important; }` so we also need the `!important` here to be able to override the default hidden behavior on the sphinx rendered scikit-learn.org. See: https://github.com/scikit-learn/scikit-learn/issues/21755 */display: inline-block !important;position: relative;}#sk-container-id-13 div.sk-text-repr-fallback {display: none;}</style><div id=\"sk-container-id-13\" class=\"sk-top-container\"><div class=\"sk-text-repr-fallback\"><pre>DecisionTreeClassifier()</pre><b>In a Jupyter environment, please rerun this cell to show the HTML representation or trust the notebook. <br />On GitHub, the HTML representation is unable to render, please try loading this page with nbviewer.org.</b></div><div class=\"sk-container\" hidden><div class=\"sk-item\"><div class=\"sk-estimator sk-toggleable\"><input class=\"sk-toggleable__control sk-hidden--visually\" id=\"sk-estimator-id-13\" type=\"checkbox\" checked><label for=\"sk-estimator-id-13\" class=\"sk-toggleable__label sk-toggleable__label-arrow\">DecisionTreeClassifier</label><div class=\"sk-toggleable__content\"><pre>DecisionTreeClassifier()</pre></div></div></div></div></div>"
      ],
      "text/plain": [
       "DecisionTreeClassifier()"
      ]
     },
     "execution_count": 87,
     "metadata": {},
     "output_type": "execute_result"
    }
   ],
   "source": [
    "dt_clf = DecisionTreeClassifier()\n",
    "dt_clf.fit(x_train,y_train)"
   ]
  },
  {
   "cell_type": "code",
   "execution_count": 88,
   "id": "306b071c",
   "metadata": {},
   "outputs": [
    {
     "name": "stdout",
     "output_type": "stream",
     "text": [
      "Confusion matrix\n",
      " [[47324     0]\n",
      " [    0 83865]]\n",
      "accuarcy\n",
      " 1.0\n",
      "classification report\n",
      "               precision    recall  f1-score   support\n",
      "\n",
      "           0       1.00      1.00      1.00     47324\n",
      "           1       1.00      1.00      1.00     83865\n",
      "\n",
      "    accuracy                           1.00    131189\n",
      "   macro avg       1.00      1.00      1.00    131189\n",
      "weighted avg       1.00      1.00      1.00    131189\n",
      "\n"
     ]
    }
   ],
   "source": [
    "# Training\n",
    "y_pred_train = dt_clf.predict(x_train)\n",
    "\n",
    "cnf_matrix = confusion_matrix(y_train,y_pred_train)\n",
    "\n",
    "print(\"Confusion matrix\\n\",cnf_matrix)\n",
    "\n",
    "accuracy = accuracy_score(y_train,y_pred_train)\n",
    "print(\"accuarcy\\n\",accuracy)\n",
    "\n",
    "clf_report = classification_report(y_train,y_pred_train)\n",
    "print(\"classification report\\n\",clf_report)\n"
   ]
  },
  {
   "cell_type": "code",
   "execution_count": 89,
   "id": "4966ca8a",
   "metadata": {},
   "outputs": [
    {
     "name": "stdout",
     "output_type": "stream",
     "text": [
      "Confusion matrix\n",
      " [[ 5982  5849]\n",
      " [ 5925 15042]]\n",
      "accuarcy\n",
      " 0.6410146960180498\n",
      "classification report\n",
      "               precision    recall  f1-score   support\n",
      "\n",
      "           0       0.50      0.51      0.50     11831\n",
      "           1       0.72      0.72      0.72     20967\n",
      "\n",
      "    accuracy                           0.64     32798\n",
      "   macro avg       0.61      0.61      0.61     32798\n",
      "weighted avg       0.64      0.64      0.64     32798\n",
      "\n"
     ]
    }
   ],
   "source": [
    "# Testing\n",
    "y_pred = dt_clf.predict(x_test)\n",
    "\n",
    "cnf_matrix = confusion_matrix(y_test,y_pred)\n",
    "\n",
    "print(\"Confusion matrix\\n\",cnf_matrix)\n",
    "\n",
    "accuracy = accuracy_score(y_test,y_pred)\n",
    "print(\"accuarcy\\n\",accuracy)\n",
    "\n",
    "clf_report = classification_report(y_test,y_pred)\n",
    "print(\"classification report\\n\",clf_report)\n"
   ]
  },
  {
   "cell_type": "markdown",
   "id": "677b64fd",
   "metadata": {},
   "source": [
    "## testing on single row:-"
   ]
  },
  {
   "cell_type": "code",
   "execution_count": 91,
   "id": "0f1e9e7b",
   "metadata": {},
   "outputs": [
    {
     "data": {
      "text/plain": [
       "Index(['loan_amnt', 'term', 'int_rate', 'emp_length', 'home_ownership',\n",
       "       'annual_inc', 'addr_state', 'dti', 'delinq_2yrs', 'revol_util',\n",
       "       'total_acc', 'bad_loan', 'longest_credit_length', 'credit_card', 'car',\n",
       "       'small_business', 'other', 'wedding', 'debt_consolidation',\n",
       "       'home_improvement', 'major_purchase', 'medical', 'moving', 'vacation',\n",
       "       'house', 'renewable_energy', 'educational'],\n",
       "      dtype='object')"
      ]
     },
     "execution_count": 91,
     "metadata": {},
     "output_type": "execute_result"
    }
   ],
   "source": [
    "x.columns"
   ]
  },
  {
   "cell_type": "code",
   "execution_count": 92,
   "id": "2eab9002",
   "metadata": {},
   "outputs": [
    {
     "data": {
      "text/plain": [
       "Index(['loan_amnt', 'term', 'int_rate', 'emp_length', 'home_ownership',\n",
       "       'annual_inc', 'purpose', 'addr_state', 'dti', 'delinq_2yrs',\n",
       "       'revol_util', 'total_acc', 'bad_loan', 'longest_credit_length',\n",
       "       'verification_status'],\n",
       "      dtype='object')"
      ]
     },
     "execution_count": 92,
     "metadata": {},
     "output_type": "execute_result"
    }
   ],
   "source": [
    "df.columns"
   ]
  },
  {
   "cell_type": "code",
   "execution_count": 93,
   "id": "506bca6d",
   "metadata": {},
   "outputs": [
    {
     "data": {
      "text/plain": [
       "loan_amnt                       5000\n",
       "term                       36 months\n",
       "int_rate                       10.65\n",
       "emp_length                      10.0\n",
       "home_ownership                  RENT\n",
       "annual_inc                   24000.0\n",
       "purpose                  credit_card\n",
       "addr_state                        AZ\n",
       "dti                            27.65\n",
       "delinq_2yrs                      0.0\n",
       "revol_util                      83.7\n",
       "total_acc                        9.0\n",
       "bad_loan                           0\n",
       "longest_credit_length           26.0\n",
       "verification_status         verified\n",
       "Name: 0, dtype: object"
      ]
     },
     "execution_count": 93,
     "metadata": {},
     "output_type": "execute_result"
    }
   ],
   "source": [
    "df.loc[0]"
   ]
  },
  {
   "cell_type": "code",
   "execution_count": 99,
   "id": "b453b3e6",
   "metadata": {},
   "outputs": [
    {
     "data": {
      "text/plain": [
       "{'home_ownership_values': {'RENT': 1,\n",
       "  'OWN': 2,\n",
       "  'MORTGAGE': 3,\n",
       "  'OTHER_NONE_ANY': 4},\n",
       " 'addr_state_values': {'AZ': 1,\n",
       "  'GA': 2,\n",
       "  'IL': 3,\n",
       "  'CA': 4,\n",
       "  'TX': 5,\n",
       "  'VA': 6,\n",
       "  'MO': 7,\n",
       "  'CT': 8,\n",
       "  'UT': 9,\n",
       "  'FL': 10,\n",
       "  'NY': 11,\n",
       "  'PA': 12,\n",
       "  'MN': 13,\n",
       "  'NJ': 14,\n",
       "  'OR': 15,\n",
       "  'KY': 16,\n",
       "  'OH': 17,\n",
       "  'SC': 18,\n",
       "  'RI': 19,\n",
       "  'LA': 20,\n",
       "  'MA': 21,\n",
       "  'WA': 22,\n",
       "  'WI': 23,\n",
       "  'AL': 24,\n",
       "  'NV': 25,\n",
       "  'CO': 26,\n",
       "  'MD': 27,\n",
       "  'WV': 28,\n",
       "  'VT': 29,\n",
       "  'MI': 30,\n",
       "  'DC': 31,\n",
       "  'SD': 32,\n",
       "  'NC': 33,\n",
       "  'AR': 34,\n",
       "  'KS': 35,\n",
       "  'NM': 36,\n",
       "  'HI': 37,\n",
       "  'AK': 38,\n",
       "  'OK': 39,\n",
       "  'MT': 40,\n",
       "  'WY': 41,\n",
       "  'NH': 42,\n",
       "  'DE': 43,\n",
       "  'MS': 44,\n",
       "  'TN': 45,\n",
       "  'IA': 46,\n",
       "  'NE': 47,\n",
       "  'ID': 48,\n",
       "  'IN': 49,\n",
       "  'ME': 50},\n",
       " 'term_values': {'36 months': 0.0, '60 months': 1.0},\n",
       " 'columns': ['loan_amnt',\n",
       "  'term',\n",
       "  'int_rate',\n",
       "  'emp_length',\n",
       "  'home_ownership',\n",
       "  'annual_inc',\n",
       "  'addr_state',\n",
       "  'dti',\n",
       "  'delinq_2yrs',\n",
       "  'revol_util',\n",
       "  'total_acc',\n",
       "  'bad_loan',\n",
       "  'longest_credit_length',\n",
       "  'credit_card',\n",
       "  'car',\n",
       "  'small_business',\n",
       "  'other',\n",
       "  'wedding',\n",
       "  'debt_consolidation',\n",
       "  'home_improvement',\n",
       "  'major_purchase',\n",
       "  'medical',\n",
       "  'moving',\n",
       "  'vacation',\n",
       "  'house',\n",
       "  'renewable_energy',\n",
       "  'educational']}"
      ]
     },
     "execution_count": 99,
     "metadata": {},
     "output_type": "execute_result"
    }
   ],
   "source": [
    "home_ownership_values={'RENT': 1 ,'OWN': 2 ,'MORTGAGE':3, 'OTHER_NONE_ANY':4}\n",
    "addr_state_values    ={'AZ': 1, 'GA': 2,'IL': 3, 'CA': 4,'TX': 5, 'VA': 6, 'MO': 7, 'CT': 8, 'UT': 9, 'FL': 10, 'NY': 11,\n",
    "                       'PA': 12, 'MN': 13, 'NJ': 14, 'OR': 15, 'KY': 16, 'OH': 17, 'SC': 18, 'RI': 19, 'LA': 20, 'MA': 21, \n",
    "                       'WA': 22,'WI': 23, 'AL': 24, 'NV': 25, 'CO': 26, 'MD': 27, 'WV': 28, 'VT': 29, 'MI': 30, 'DC': 31,\n",
    "                       'SD': 32, 'NC': 33,'AR': 34, 'KS': 35, 'NM': 36, 'HI': 37, 'AK': 38, 'OK': 39, 'MT': 40, 'WY': 41,\n",
    "                       'NH': 42, 'DE': 43, 'MS': 44,'TN': 45, 'IA': 46, 'NE': 47, 'ID': 48, 'IN': 49, 'ME': 50}\n",
    "term_values           ={\"36 months\":0.0,\"60 months\":1.0}\n",
    "encoded_columns  ={\"home_ownership_values\":home_ownership_values,\n",
    "                    \"addr_state_values\":addr_state_values,\n",
    "                     \"term_values\":term_values,\n",
    "                    \"columns\":list(x.columns)}\n",
    "encoded_columns"
   ]
  },
  {
   "cell_type": "code",
   "execution_count": 101,
   "id": "9e97ec92",
   "metadata": {},
   "outputs": [],
   "source": [
    "loan_amnt               = 5000\n",
    "term                    = \"36 months\"\n",
    "int_rate                = 10.65\n",
    "emp_length              = 10.0\n",
    "home_ownership          = \"RENT\"\n",
    "annual_inc              = 24000.0\n",
    "purpose                 = \"credit_card\" #onehot_encoded\n",
    "addr_state              = \"AZ\"\n",
    "dti                     = 27.65\n",
    "delinq_2yrs             = 0.0\n",
    "revol_util              = 83.7\n",
    "total_acc               = 9.0\n",
    "bad_loan                = 0\n",
    "longest_credit_length   = 26.0"
   ]
  },
  {
   "cell_type": "code",
   "execution_count": 102,
   "id": "bd7d7115",
   "metadata": {},
   "outputs": [],
   "source": [
    "columns_names = x.columns\n",
    "home_ownership_1 = home_ownership_values[home_ownership]\n",
    "addr_state_1     = addr_state_values[addr_state]\n",
    "term_1           = term_values[term]\n",
    "test_array = np.zeros(len(x.columns),dtype=int)\n",
    "test_array[0]  = loan_amnt\n",
    "test_array[1]  = term_1\n",
    "test_array[2]  = int_rate\n",
    "test_array[3]  = emp_length\n",
    "test_array[4]  = home_ownership_1\n",
    "test_array[5]  = annual_inc\n",
    "test_array[6]  = addr_state_1\n",
    "test_array[7]  = dti\n",
    "test_array[8]  = delinq_2yrs\n",
    "test_array[9] = revol_util\n",
    "test_array[10] = total_acc\n",
    "test_array[11] = bad_loan\n",
    "test_array[12] = longest_credit_length\n",
    "purpose_1=\"credit_card\"\n",
    "purpose_index=np.where(columns_names ==purpose_1)[0][0]\n",
    "test_array[purpose_index] = 1\n"
   ]
  },
  {
   "cell_type": "code",
   "execution_count": 103,
   "id": "b80f6b3e",
   "metadata": {},
   "outputs": [
    {
     "data": {
      "text/plain": [
       "array([ 5000,     0,    10,    10,     1, 24000,     1,    27,     0,\n",
       "          83,     9,     0,    26,     1,     0,     0,     0,     0,\n",
       "           0,     0,     0,     0,     0,     0,     0,     0,     0])"
      ]
     },
     "execution_count": 103,
     "metadata": {},
     "output_type": "execute_result"
    }
   ],
   "source": [
    "test_array"
   ]
  },
  {
   "cell_type": "code",
   "execution_count": 110,
   "id": "229474a9",
   "metadata": {},
   "outputs": [
    {
     "data": {
      "text/plain": [
       "array([1])"
      ]
     },
     "execution_count": 110,
     "metadata": {},
     "output_type": "execute_result"
    }
   ],
   "source": [
    "prediction=dt_clf1.predict([test_array])\n",
    "prediction"
   ]
  },
  {
   "cell_type": "markdown",
   "id": "3b85cacc",
   "metadata": {},
   "source": [
    "## creating pickle and jsonfile:-"
   ]
  },
  {
   "cell_type": "code",
   "execution_count": 111,
   "id": "6166c702",
   "metadata": {},
   "outputs": [],
   "source": [
    "with open(\"DT_Model.pkl\", \"wb\") as f:\n",
    "    pickle.dump(dt_clf1,f)"
   ]
  },
  {
   "cell_type": "code",
   "execution_count": 100,
   "id": "c88e5b0b",
   "metadata": {},
   "outputs": [],
   "source": [
    "with open(\"label_encoded_columns.json\", \"w\") as f:\n",
    "    json.dump(encoded_columns,f)"
   ]
  },
  {
   "cell_type": "code",
   "execution_count": null,
   "id": "eb235e7a",
   "metadata": {},
   "outputs": [],
   "source": []
  }
 ],
 "metadata": {
  "kernelspec": {
   "display_name": "Python 3 (ipykernel)",
   "language": "python",
   "name": "python3"
  },
  "language_info": {
   "codemirror_mode": {
    "name": "ipython",
    "version": 3
   },
   "file_extension": ".py",
   "mimetype": "text/x-python",
   "name": "python",
   "nbconvert_exporter": "python",
   "pygments_lexer": "ipython3",
   "version": "3.9.13"
  }
 },
 "nbformat": 4,
 "nbformat_minor": 5
}
